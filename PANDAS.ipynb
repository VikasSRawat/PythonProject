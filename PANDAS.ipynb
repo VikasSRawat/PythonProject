{
 "cells": [
  {
   "cell_type": "code",
   "execution_count": 1,
   "id": "b1d16508",
   "metadata": {},
   "outputs": [],
   "source": [
    "import numpy as np\n",
    "import pandas as pd"
   ]
  },
  {
   "cell_type": "code",
   "execution_count": 2,
   "id": "576408e7",
   "metadata": {},
   "outputs": [],
   "source": [
    "dict1={'Name':['Vikas','God','random','Galactus','thanu babes'],\n",
    "      'Marks':[45,232,1,23,18],\n",
    "      'Place':['Earth','Heaven','random','milkyway','titan']}"
   ]
  },
  {
   "cell_type": "code",
   "execution_count": 3,
   "id": "15912bdc",
   "metadata": {},
   "outputs": [],
   "source": [
    "dp=pd.DataFrame(dict1)# DataFrame returns a table with the labels as name , marks and place"
   ]
  },
  {
   "cell_type": "code",
   "execution_count": 4,
   "id": "8da5b8cf",
   "metadata": {},
   "outputs": [
    {
     "data": {
      "text/html": [
       "<div>\n",
       "<style scoped>\n",
       "    .dataframe tbody tr th:only-of-type {\n",
       "        vertical-align: middle;\n",
       "    }\n",
       "\n",
       "    .dataframe tbody tr th {\n",
       "        vertical-align: top;\n",
       "    }\n",
       "\n",
       "    .dataframe thead th {\n",
       "        text-align: right;\n",
       "    }\n",
       "</style>\n",
       "<table border=\"1\" class=\"dataframe\">\n",
       "  <thead>\n",
       "    <tr style=\"text-align: right;\">\n",
       "      <th></th>\n",
       "      <th>Name</th>\n",
       "      <th>Marks</th>\n",
       "      <th>Place</th>\n",
       "    </tr>\n",
       "  </thead>\n",
       "  <tbody>\n",
       "    <tr>\n",
       "      <th>0</th>\n",
       "      <td>Vikas</td>\n",
       "      <td>45</td>\n",
       "      <td>Earth</td>\n",
       "    </tr>\n",
       "    <tr>\n",
       "      <th>1</th>\n",
       "      <td>God</td>\n",
       "      <td>232</td>\n",
       "      <td>Heaven</td>\n",
       "    </tr>\n",
       "    <tr>\n",
       "      <th>2</th>\n",
       "      <td>random</td>\n",
       "      <td>1</td>\n",
       "      <td>random</td>\n",
       "    </tr>\n",
       "    <tr>\n",
       "      <th>3</th>\n",
       "      <td>Galactus</td>\n",
       "      <td>23</td>\n",
       "      <td>milkyway</td>\n",
       "    </tr>\n",
       "    <tr>\n",
       "      <th>4</th>\n",
       "      <td>thanu babes</td>\n",
       "      <td>18</td>\n",
       "      <td>titan</td>\n",
       "    </tr>\n",
       "  </tbody>\n",
       "</table>\n",
       "</div>"
      ],
      "text/plain": [
       "          Name  Marks     Place\n",
       "0        Vikas     45     Earth\n",
       "1          God    232    Heaven\n",
       "2       random      1    random\n",
       "3     Galactus     23  milkyway\n",
       "4  thanu babes     18     titan"
      ]
     },
     "execution_count": 4,
     "metadata": {},
     "output_type": "execute_result"
    }
   ],
   "source": [
    "dp"
   ]
  },
  {
   "cell_type": "code",
   "execution_count": 5,
   "id": "cae5bd5d",
   "metadata": {},
   "outputs": [],
   "source": [
    "dp.to_csv('sample.csv') # Will make and save a csv file with these contents"
   ]
  },
  {
   "cell_type": "code",
   "execution_count": 6,
   "id": "3f24ea2a",
   "metadata": {},
   "outputs": [],
   "source": [
    "dp.to_csv('smaple_withoutindex.csv',index=False) # will make and save a file without the index numbers"
   ]
  },
  {
   "cell_type": "code",
   "execution_count": 7,
   "id": "6f80bd80",
   "metadata": {},
   "outputs": [
    {
     "data": {
      "text/html": [
       "<div>\n",
       "<style scoped>\n",
       "    .dataframe tbody tr th:only-of-type {\n",
       "        vertical-align: middle;\n",
       "    }\n",
       "\n",
       "    .dataframe tbody tr th {\n",
       "        vertical-align: top;\n",
       "    }\n",
       "\n",
       "    .dataframe thead th {\n",
       "        text-align: right;\n",
       "    }\n",
       "</style>\n",
       "<table border=\"1\" class=\"dataframe\">\n",
       "  <thead>\n",
       "    <tr style=\"text-align: right;\">\n",
       "      <th></th>\n",
       "      <th>Name</th>\n",
       "      <th>Marks</th>\n",
       "      <th>Place</th>\n",
       "    </tr>\n",
       "  </thead>\n",
       "  <tbody>\n",
       "    <tr>\n",
       "      <th>0</th>\n",
       "      <td>Vikas</td>\n",
       "      <td>45</td>\n",
       "      <td>Earth</td>\n",
       "    </tr>\n",
       "    <tr>\n",
       "      <th>1</th>\n",
       "      <td>God</td>\n",
       "      <td>232</td>\n",
       "      <td>Heaven</td>\n",
       "    </tr>\n",
       "  </tbody>\n",
       "</table>\n",
       "</div>"
      ],
      "text/plain": [
       "    Name  Marks   Place\n",
       "0  Vikas     45   Earth\n",
       "1    God    232  Heaven"
      ]
     },
     "execution_count": 7,
     "metadata": {},
     "output_type": "execute_result"
    }
   ],
   "source": [
    "dp.head(2)"
   ]
  },
  {
   "cell_type": "code",
   "execution_count": 8,
   "id": "4640c1ad",
   "metadata": {},
   "outputs": [
    {
     "data": {
      "text/html": [
       "<div>\n",
       "<style scoped>\n",
       "    .dataframe tbody tr th:only-of-type {\n",
       "        vertical-align: middle;\n",
       "    }\n",
       "\n",
       "    .dataframe tbody tr th {\n",
       "        vertical-align: top;\n",
       "    }\n",
       "\n",
       "    .dataframe thead th {\n",
       "        text-align: right;\n",
       "    }\n",
       "</style>\n",
       "<table border=\"1\" class=\"dataframe\">\n",
       "  <thead>\n",
       "    <tr style=\"text-align: right;\">\n",
       "      <th></th>\n",
       "      <th>Name</th>\n",
       "      <th>Marks</th>\n",
       "      <th>Place</th>\n",
       "    </tr>\n",
       "  </thead>\n",
       "  <tbody>\n",
       "    <tr>\n",
       "      <th>3</th>\n",
       "      <td>Galactus</td>\n",
       "      <td>23</td>\n",
       "      <td>milkyway</td>\n",
       "    </tr>\n",
       "    <tr>\n",
       "      <th>4</th>\n",
       "      <td>thanu babes</td>\n",
       "      <td>18</td>\n",
       "      <td>titan</td>\n",
       "    </tr>\n",
       "  </tbody>\n",
       "</table>\n",
       "</div>"
      ],
      "text/plain": [
       "          Name  Marks     Place\n",
       "3     Galactus     23  milkyway\n",
       "4  thanu babes     18     titan"
      ]
     },
     "execution_count": 8,
     "metadata": {},
     "output_type": "execute_result"
    }
   ],
   "source": [
    "dp.tail(2)"
   ]
  },
  {
   "cell_type": "code",
   "execution_count": 9,
   "id": "3b67050b",
   "metadata": {},
   "outputs": [],
   "source": [
    "#.tail and .head is used to fetch few indexes from the head or tail\n",
    "# This is used for large dataframes having many indexes(rows)"
   ]
  },
  {
   "cell_type": "code",
   "execution_count": 10,
   "id": "64872c94",
   "metadata": {},
   "outputs": [
    {
     "data": {
      "text/html": [
       "<div>\n",
       "<style scoped>\n",
       "    .dataframe tbody tr th:only-of-type {\n",
       "        vertical-align: middle;\n",
       "    }\n",
       "\n",
       "    .dataframe tbody tr th {\n",
       "        vertical-align: top;\n",
       "    }\n",
       "\n",
       "    .dataframe thead th {\n",
       "        text-align: right;\n",
       "    }\n",
       "</style>\n",
       "<table border=\"1\" class=\"dataframe\">\n",
       "  <thead>\n",
       "    <tr style=\"text-align: right;\">\n",
       "      <th></th>\n",
       "      <th>Marks</th>\n",
       "    </tr>\n",
       "  </thead>\n",
       "  <tbody>\n",
       "    <tr>\n",
       "      <th>count</th>\n",
       "      <td>5.000000</td>\n",
       "    </tr>\n",
       "    <tr>\n",
       "      <th>mean</th>\n",
       "      <td>63.800000</td>\n",
       "    </tr>\n",
       "    <tr>\n",
       "      <th>std</th>\n",
       "      <td>95.329429</td>\n",
       "    </tr>\n",
       "    <tr>\n",
       "      <th>min</th>\n",
       "      <td>1.000000</td>\n",
       "    </tr>\n",
       "    <tr>\n",
       "      <th>25%</th>\n",
       "      <td>18.000000</td>\n",
       "    </tr>\n",
       "    <tr>\n",
       "      <th>50%</th>\n",
       "      <td>23.000000</td>\n",
       "    </tr>\n",
       "    <tr>\n",
       "      <th>75%</th>\n",
       "      <td>45.000000</td>\n",
       "    </tr>\n",
       "    <tr>\n",
       "      <th>max</th>\n",
       "      <td>232.000000</td>\n",
       "    </tr>\n",
       "  </tbody>\n",
       "</table>\n",
       "</div>"
      ],
      "text/plain": [
       "            Marks\n",
       "count    5.000000\n",
       "mean    63.800000\n",
       "std     95.329429\n",
       "min      1.000000\n",
       "25%     18.000000\n",
       "50%     23.000000\n",
       "75%     45.000000\n",
       "max    232.000000"
      ]
     },
     "execution_count": 10,
     "metadata": {},
     "output_type": "execute_result"
    }
   ],
   "source": [
    "dp.describe() # describes countable attribute of the dataframe"
   ]
  },
  {
   "cell_type": "code",
   "execution_count": 11,
   "id": "7d6ed875",
   "metadata": {},
   "outputs": [],
   "source": [
    "VIKAS=pd.read_csv('VIKAS.csv') # READING A CSV FILE FROM THE SYSTEM "
   ]
  },
  {
   "cell_type": "code",
   "execution_count": 12,
   "id": "bd23353b",
   "metadata": {},
   "outputs": [
    {
     "data": {
      "text/html": [
       "<div>\n",
       "<style scoped>\n",
       "    .dataframe tbody tr th:only-of-type {\n",
       "        vertical-align: middle;\n",
       "    }\n",
       "\n",
       "    .dataframe tbody tr th {\n",
       "        vertical-align: top;\n",
       "    }\n",
       "\n",
       "    .dataframe thead th {\n",
       "        text-align: right;\n",
       "    }\n",
       "</style>\n",
       "<table border=\"1\" class=\"dataframe\">\n",
       "  <thead>\n",
       "    <tr style=\"text-align: right;\">\n",
       "      <th></th>\n",
       "      <th>number</th>\n",
       "      <th>speed</th>\n",
       "      <th>name</th>\n",
       "    </tr>\n",
       "  </thead>\n",
       "  <tbody>\n",
       "    <tr>\n",
       "      <th>0</th>\n",
       "      <td>123</td>\n",
       "      <td>54</td>\n",
       "      <td>T1</td>\n",
       "    </tr>\n",
       "    <tr>\n",
       "      <th>1</th>\n",
       "      <td>124</td>\n",
       "      <td>55</td>\n",
       "      <td>T2</td>\n",
       "    </tr>\n",
       "    <tr>\n",
       "      <th>2</th>\n",
       "      <td>128</td>\n",
       "      <td>69</td>\n",
       "      <td>T3</td>\n",
       "    </tr>\n",
       "    <tr>\n",
       "      <th>3</th>\n",
       "      <td>126</td>\n",
       "      <td>40</td>\n",
       "      <td>T4</td>\n",
       "    </tr>\n",
       "  </tbody>\n",
       "</table>\n",
       "</div>"
      ],
      "text/plain": [
       "   number  speed  name\n",
       "0     123      54   T1\n",
       "1     124      55   T2\n",
       "2     128      69   T3\n",
       "3     126      40   T4"
      ]
     },
     "execution_count": 12,
     "metadata": {},
     "output_type": "execute_result"
    }
   ],
   "source": [
    "VIKAS"
   ]
  },
  {
   "cell_type": "code",
   "execution_count": 13,
   "id": "dbf4166f",
   "metadata": {},
   "outputs": [
    {
     "data": {
      "text/plain": [
       "0    T1\n",
       "1    T2\n",
       "2    T3\n",
       "3    T4\n",
       "Name: name, dtype: object"
      ]
     },
     "execution_count": 13,
     "metadata": {},
     "output_type": "execute_result"
    }
   ],
   "source": [
    "VIKAS['name']# WE CAN ACCESS THE VALUES TRHOUGH SIMPLE INDEXING"
   ]
  },
  {
   "cell_type": "code",
   "execution_count": 14,
   "id": "cb8201af",
   "metadata": {},
   "outputs": [
    {
     "data": {
      "text/plain": [
       "'T3'"
      ]
     },
     "execution_count": 14,
     "metadata": {},
     "output_type": "execute_result"
    }
   ],
   "source": [
    "VIKAS['name'][2]"
   ]
  },
  {
   "cell_type": "code",
   "execution_count": 15,
   "id": "a260edc2",
   "metadata": {},
   "outputs": [
    {
     "name": "stderr",
     "output_type": "stream",
     "text": [
      "C:\\Users\\vikas\\AppData\\Local\\Temp\\ipykernel_10132\\2432668904.py:1: SettingWithCopyWarning: \n",
      "A value is trying to be set on a copy of a slice from a DataFrame\n",
      "\n",
      "See the caveats in the documentation: https://pandas.pydata.org/pandas-docs/stable/user_guide/indexing.html#returning-a-view-versus-a-copy\n",
      "  VIKAS['name'][2]='T69' # ALTHOUGH IT WILL SHOW A WARNING , IT WILL CHANGE THE NAME FROM T3 TO T69\n"
     ]
    }
   ],
   "source": [
    "VIKAS['name'][2]='T69' # ALTHOUGH IT WILL SHOW A WARNING , IT WILL CHANGE THE NAME FROM T3 TO T69"
   ]
  },
  {
   "cell_type": "code",
   "execution_count": 16,
   "id": "e87bce9b",
   "metadata": {},
   "outputs": [
    {
     "data": {
      "text/html": [
       "<div>\n",
       "<style scoped>\n",
       "    .dataframe tbody tr th:only-of-type {\n",
       "        vertical-align: middle;\n",
       "    }\n",
       "\n",
       "    .dataframe tbody tr th {\n",
       "        vertical-align: top;\n",
       "    }\n",
       "\n",
       "    .dataframe thead th {\n",
       "        text-align: right;\n",
       "    }\n",
       "</style>\n",
       "<table border=\"1\" class=\"dataframe\">\n",
       "  <thead>\n",
       "    <tr style=\"text-align: right;\">\n",
       "      <th></th>\n",
       "      <th>number</th>\n",
       "      <th>speed</th>\n",
       "      <th>name</th>\n",
       "    </tr>\n",
       "  </thead>\n",
       "  <tbody>\n",
       "    <tr>\n",
       "      <th>0</th>\n",
       "      <td>123</td>\n",
       "      <td>54</td>\n",
       "      <td>T1</td>\n",
       "    </tr>\n",
       "    <tr>\n",
       "      <th>1</th>\n",
       "      <td>124</td>\n",
       "      <td>55</td>\n",
       "      <td>T2</td>\n",
       "    </tr>\n",
       "    <tr>\n",
       "      <th>2</th>\n",
       "      <td>128</td>\n",
       "      <td>69</td>\n",
       "      <td>T69</td>\n",
       "    </tr>\n",
       "    <tr>\n",
       "      <th>3</th>\n",
       "      <td>126</td>\n",
       "      <td>40</td>\n",
       "      <td>T4</td>\n",
       "    </tr>\n",
       "  </tbody>\n",
       "</table>\n",
       "</div>"
      ],
      "text/plain": [
       "   number  speed  name\n",
       "0     123      54   T1\n",
       "1     124      55   T2\n",
       "2     128      69  T69\n",
       "3     126      40   T4"
      ]
     },
     "execution_count": 16,
     "metadata": {},
     "output_type": "execute_result"
    }
   ],
   "source": [
    "VIKAS"
   ]
  },
  {
   "cell_type": "code",
   "execution_count": 17,
   "id": "7ad19fd0",
   "metadata": {},
   "outputs": [],
   "source": [
    "VIKAS.index=['first','second','third','fourth']# We can also change the value of the index"
   ]
  },
  {
   "cell_type": "code",
   "execution_count": 18,
   "id": "b17aef46",
   "metadata": {},
   "outputs": [
    {
     "data": {
      "text/html": [
       "<div>\n",
       "<style scoped>\n",
       "    .dataframe tbody tr th:only-of-type {\n",
       "        vertical-align: middle;\n",
       "    }\n",
       "\n",
       "    .dataframe tbody tr th {\n",
       "        vertical-align: top;\n",
       "    }\n",
       "\n",
       "    .dataframe thead th {\n",
       "        text-align: right;\n",
       "    }\n",
       "</style>\n",
       "<table border=\"1\" class=\"dataframe\">\n",
       "  <thead>\n",
       "    <tr style=\"text-align: right;\">\n",
       "      <th></th>\n",
       "      <th>number</th>\n",
       "      <th>speed</th>\n",
       "      <th>name</th>\n",
       "    </tr>\n",
       "  </thead>\n",
       "  <tbody>\n",
       "    <tr>\n",
       "      <th>first</th>\n",
       "      <td>123</td>\n",
       "      <td>54</td>\n",
       "      <td>T1</td>\n",
       "    </tr>\n",
       "    <tr>\n",
       "      <th>second</th>\n",
       "      <td>124</td>\n",
       "      <td>55</td>\n",
       "      <td>T2</td>\n",
       "    </tr>\n",
       "    <tr>\n",
       "      <th>third</th>\n",
       "      <td>128</td>\n",
       "      <td>69</td>\n",
       "      <td>T69</td>\n",
       "    </tr>\n",
       "    <tr>\n",
       "      <th>fourth</th>\n",
       "      <td>126</td>\n",
       "      <td>40</td>\n",
       "      <td>T4</td>\n",
       "    </tr>\n",
       "  </tbody>\n",
       "</table>\n",
       "</div>"
      ],
      "text/plain": [
       "        number  speed  name\n",
       "first      123      54   T1\n",
       "second     124      55   T2\n",
       "third      128      69  T69\n",
       "fourth     126      40   T4"
      ]
     },
     "execution_count": 18,
     "metadata": {},
     "output_type": "execute_result"
    }
   ],
   "source": [
    "VIKAS"
   ]
  },
  {
   "cell_type": "code",
   "execution_count": 19,
   "id": "1c03c9af",
   "metadata": {},
   "outputs": [],
   "source": [
    "# Panda is an open source software written in python used for data analysis\n",
    "# By taking advantage of numpy's speed and power to make it easier for data analysis and preprocessing"
   ]
  },
  {
   "cell_type": "code",
   "execution_count": 20,
   "id": "c70e8833",
   "metadata": {},
   "outputs": [],
   "source": [
    "# Pandas has 2 types of data structures \n",
    "# series : 1-D Array with indexes storing a single column or row of data in a dataframe\n",
    "# Dataframe : similar to a spreadsheet structure having rows and colomns"
   ]
  },
  {
   "cell_type": "code",
   "execution_count": 21,
   "id": "518af7a6",
   "metadata": {},
   "outputs": [],
   "source": [
    "ser=pd.Series(np.random.rand(34)) # used to generate a series of numbers"
   ]
  },
  {
   "cell_type": "code",
   "execution_count": 22,
   "id": "ea6e0402",
   "metadata": {},
   "outputs": [
    {
     "data": {
      "text/plain": [
       "0     0.385083\n",
       "1     0.748318\n",
       "2     0.142228\n",
       "3     0.942495\n",
       "4     0.713682\n",
       "5     0.011705\n",
       "6     0.455951\n",
       "7     0.396422\n",
       "8     0.546685\n",
       "9     0.786460\n",
       "10    0.931753\n",
       "11    0.650043\n",
       "12    0.278949\n",
       "13    0.102803\n",
       "14    0.852913\n",
       "15    0.697421\n",
       "16    0.230639\n",
       "17    0.834120\n",
       "18    0.604254\n",
       "19    0.961287\n",
       "20    0.719494\n",
       "21    0.232063\n",
       "22    0.106643\n",
       "23    0.083538\n",
       "24    0.546247\n",
       "25    0.682876\n",
       "26    0.761448\n",
       "27    0.188957\n",
       "28    0.041536\n",
       "29    0.663562\n",
       "30    0.155727\n",
       "31    0.159038\n",
       "32    0.440143\n",
       "33    0.029950\n",
       "dtype: float64"
      ]
     },
     "execution_count": 22,
     "metadata": {},
     "output_type": "execute_result"
    }
   ],
   "source": [
    "ser #SERIES"
   ]
  },
  {
   "cell_type": "code",
   "execution_count": 23,
   "id": "9ac9540a",
   "metadata": {},
   "outputs": [
    {
     "data": {
      "text/plain": [
       "pandas.core.series.Series"
      ]
     },
     "execution_count": 23,
     "metadata": {},
     "output_type": "execute_result"
    }
   ],
   "source": [
    "type(ser)"
   ]
  },
  {
   "cell_type": "code",
   "execution_count": 24,
   "id": "ed7cea95",
   "metadata": {},
   "outputs": [],
   "source": [
    "newdf=pd.DataFrame(np.random.rand(334,5),index=np.arange(334))"
   ]
  },
  {
   "cell_type": "code",
   "execution_count": 25,
   "id": "5cd66d32",
   "metadata": {},
   "outputs": [
    {
     "data": {
      "text/html": [
       "<div>\n",
       "<style scoped>\n",
       "    .dataframe tbody tr th:only-of-type {\n",
       "        vertical-align: middle;\n",
       "    }\n",
       "\n",
       "    .dataframe tbody tr th {\n",
       "        vertical-align: top;\n",
       "    }\n",
       "\n",
       "    .dataframe thead th {\n",
       "        text-align: right;\n",
       "    }\n",
       "</style>\n",
       "<table border=\"1\" class=\"dataframe\">\n",
       "  <thead>\n",
       "    <tr style=\"text-align: right;\">\n",
       "      <th></th>\n",
       "      <th>0</th>\n",
       "      <th>1</th>\n",
       "      <th>2</th>\n",
       "      <th>3</th>\n",
       "      <th>4</th>\n",
       "    </tr>\n",
       "  </thead>\n",
       "  <tbody>\n",
       "    <tr>\n",
       "      <th>0</th>\n",
       "      <td>0.792054</td>\n",
       "      <td>0.466023</td>\n",
       "      <td>0.091853</td>\n",
       "      <td>0.478882</td>\n",
       "      <td>0.846913</td>\n",
       "    </tr>\n",
       "    <tr>\n",
       "      <th>1</th>\n",
       "      <td>0.913672</td>\n",
       "      <td>0.586304</td>\n",
       "      <td>0.761903</td>\n",
       "      <td>0.453714</td>\n",
       "      <td>0.045113</td>\n",
       "    </tr>\n",
       "    <tr>\n",
       "      <th>2</th>\n",
       "      <td>0.703188</td>\n",
       "      <td>0.294033</td>\n",
       "      <td>0.798553</td>\n",
       "      <td>0.681721</td>\n",
       "      <td>0.282514</td>\n",
       "    </tr>\n",
       "    <tr>\n",
       "      <th>3</th>\n",
       "      <td>0.758696</td>\n",
       "      <td>0.870107</td>\n",
       "      <td>0.103961</td>\n",
       "      <td>0.593302</td>\n",
       "      <td>0.131365</td>\n",
       "    </tr>\n",
       "    <tr>\n",
       "      <th>4</th>\n",
       "      <td>0.085147</td>\n",
       "      <td>0.403180</td>\n",
       "      <td>0.790300</td>\n",
       "      <td>0.711646</td>\n",
       "      <td>0.920102</td>\n",
       "    </tr>\n",
       "    <tr>\n",
       "      <th>...</th>\n",
       "      <td>...</td>\n",
       "      <td>...</td>\n",
       "      <td>...</td>\n",
       "      <td>...</td>\n",
       "      <td>...</td>\n",
       "    </tr>\n",
       "    <tr>\n",
       "      <th>329</th>\n",
       "      <td>0.664052</td>\n",
       "      <td>0.874155</td>\n",
       "      <td>0.910846</td>\n",
       "      <td>0.358662</td>\n",
       "      <td>0.660002</td>\n",
       "    </tr>\n",
       "    <tr>\n",
       "      <th>330</th>\n",
       "      <td>0.849185</td>\n",
       "      <td>0.348962</td>\n",
       "      <td>0.903993</td>\n",
       "      <td>0.908577</td>\n",
       "      <td>0.564370</td>\n",
       "    </tr>\n",
       "    <tr>\n",
       "      <th>331</th>\n",
       "      <td>0.507964</td>\n",
       "      <td>0.903428</td>\n",
       "      <td>0.092433</td>\n",
       "      <td>0.974950</td>\n",
       "      <td>0.905415</td>\n",
       "    </tr>\n",
       "    <tr>\n",
       "      <th>332</th>\n",
       "      <td>0.286384</td>\n",
       "      <td>0.708574</td>\n",
       "      <td>0.342657</td>\n",
       "      <td>0.896959</td>\n",
       "      <td>0.667065</td>\n",
       "    </tr>\n",
       "    <tr>\n",
       "      <th>333</th>\n",
       "      <td>0.229084</td>\n",
       "      <td>0.100015</td>\n",
       "      <td>0.685370</td>\n",
       "      <td>0.824870</td>\n",
       "      <td>0.409014</td>\n",
       "    </tr>\n",
       "  </tbody>\n",
       "</table>\n",
       "<p>334 rows × 5 columns</p>\n",
       "</div>"
      ],
      "text/plain": [
       "            0         1         2         3         4\n",
       "0    0.792054  0.466023  0.091853  0.478882  0.846913\n",
       "1    0.913672  0.586304  0.761903  0.453714  0.045113\n",
       "2    0.703188  0.294033  0.798553  0.681721  0.282514\n",
       "3    0.758696  0.870107  0.103961  0.593302  0.131365\n",
       "4    0.085147  0.403180  0.790300  0.711646  0.920102\n",
       "..        ...       ...       ...       ...       ...\n",
       "329  0.664052  0.874155  0.910846  0.358662  0.660002\n",
       "330  0.849185  0.348962  0.903993  0.908577  0.564370\n",
       "331  0.507964  0.903428  0.092433  0.974950  0.905415\n",
       "332  0.286384  0.708574  0.342657  0.896959  0.667065\n",
       "333  0.229084  0.100015  0.685370  0.824870  0.409014\n",
       "\n",
       "[334 rows x 5 columns]"
      ]
     },
     "execution_count": 25,
     "metadata": {},
     "output_type": "execute_result"
    }
   ],
   "source": [
    "newdf#DATAFRAME"
   ]
  },
  {
   "cell_type": "code",
   "execution_count": 26,
   "id": "f49ec6e6",
   "metadata": {},
   "outputs": [
    {
     "data": {
      "text/html": [
       "<div>\n",
       "<style scoped>\n",
       "    .dataframe tbody tr th:only-of-type {\n",
       "        vertical-align: middle;\n",
       "    }\n",
       "\n",
       "    .dataframe tbody tr th {\n",
       "        vertical-align: top;\n",
       "    }\n",
       "\n",
       "    .dataframe thead th {\n",
       "        text-align: right;\n",
       "    }\n",
       "</style>\n",
       "<table border=\"1\" class=\"dataframe\">\n",
       "  <thead>\n",
       "    <tr style=\"text-align: right;\">\n",
       "      <th></th>\n",
       "      <th>0</th>\n",
       "      <th>1</th>\n",
       "      <th>2</th>\n",
       "      <th>3</th>\n",
       "      <th>4</th>\n",
       "    </tr>\n",
       "  </thead>\n",
       "  <tbody>\n",
       "    <tr>\n",
       "      <th>0</th>\n",
       "      <td>0.792054</td>\n",
       "      <td>0.466023</td>\n",
       "      <td>0.091853</td>\n",
       "      <td>0.478882</td>\n",
       "      <td>0.846913</td>\n",
       "    </tr>\n",
       "    <tr>\n",
       "      <th>1</th>\n",
       "      <td>0.913672</td>\n",
       "      <td>0.586304</td>\n",
       "      <td>0.761903</td>\n",
       "      <td>0.453714</td>\n",
       "      <td>0.045113</td>\n",
       "    </tr>\n",
       "    <tr>\n",
       "      <th>2</th>\n",
       "      <td>0.703188</td>\n",
       "      <td>0.294033</td>\n",
       "      <td>0.798553</td>\n",
       "      <td>0.681721</td>\n",
       "      <td>0.282514</td>\n",
       "    </tr>\n",
       "    <tr>\n",
       "      <th>3</th>\n",
       "      <td>0.758696</td>\n",
       "      <td>0.870107</td>\n",
       "      <td>0.103961</td>\n",
       "      <td>0.593302</td>\n",
       "      <td>0.131365</td>\n",
       "    </tr>\n",
       "    <tr>\n",
       "      <th>4</th>\n",
       "      <td>0.085147</td>\n",
       "      <td>0.403180</td>\n",
       "      <td>0.790300</td>\n",
       "      <td>0.711646</td>\n",
       "      <td>0.920102</td>\n",
       "    </tr>\n",
       "  </tbody>\n",
       "</table>\n",
       "</div>"
      ],
      "text/plain": [
       "          0         1         2         3         4\n",
       "0  0.792054  0.466023  0.091853  0.478882  0.846913\n",
       "1  0.913672  0.586304  0.761903  0.453714  0.045113\n",
       "2  0.703188  0.294033  0.798553  0.681721  0.282514\n",
       "3  0.758696  0.870107  0.103961  0.593302  0.131365\n",
       "4  0.085147  0.403180  0.790300  0.711646  0.920102"
      ]
     },
     "execution_count": 26,
     "metadata": {},
     "output_type": "execute_result"
    }
   ],
   "source": [
    "newdf.head()"
   ]
  },
  {
   "cell_type": "code",
   "execution_count": 27,
   "id": "1b038951",
   "metadata": {},
   "outputs": [
    {
     "data": {
      "text/html": [
       "<div>\n",
       "<style scoped>\n",
       "    .dataframe tbody tr th:only-of-type {\n",
       "        vertical-align: middle;\n",
       "    }\n",
       "\n",
       "    .dataframe tbody tr th {\n",
       "        vertical-align: top;\n",
       "    }\n",
       "\n",
       "    .dataframe thead th {\n",
       "        text-align: right;\n",
       "    }\n",
       "</style>\n",
       "<table border=\"1\" class=\"dataframe\">\n",
       "  <thead>\n",
       "    <tr style=\"text-align: right;\">\n",
       "      <th></th>\n",
       "      <th>0</th>\n",
       "      <th>1</th>\n",
       "      <th>2</th>\n",
       "      <th>3</th>\n",
       "      <th>4</th>\n",
       "    </tr>\n",
       "  </thead>\n",
       "  <tbody>\n",
       "    <tr>\n",
       "      <th>329</th>\n",
       "      <td>0.664052</td>\n",
       "      <td>0.874155</td>\n",
       "      <td>0.910846</td>\n",
       "      <td>0.358662</td>\n",
       "      <td>0.660002</td>\n",
       "    </tr>\n",
       "    <tr>\n",
       "      <th>330</th>\n",
       "      <td>0.849185</td>\n",
       "      <td>0.348962</td>\n",
       "      <td>0.903993</td>\n",
       "      <td>0.908577</td>\n",
       "      <td>0.564370</td>\n",
       "    </tr>\n",
       "    <tr>\n",
       "      <th>331</th>\n",
       "      <td>0.507964</td>\n",
       "      <td>0.903428</td>\n",
       "      <td>0.092433</td>\n",
       "      <td>0.974950</td>\n",
       "      <td>0.905415</td>\n",
       "    </tr>\n",
       "    <tr>\n",
       "      <th>332</th>\n",
       "      <td>0.286384</td>\n",
       "      <td>0.708574</td>\n",
       "      <td>0.342657</td>\n",
       "      <td>0.896959</td>\n",
       "      <td>0.667065</td>\n",
       "    </tr>\n",
       "    <tr>\n",
       "      <th>333</th>\n",
       "      <td>0.229084</td>\n",
       "      <td>0.100015</td>\n",
       "      <td>0.685370</td>\n",
       "      <td>0.824870</td>\n",
       "      <td>0.409014</td>\n",
       "    </tr>\n",
       "  </tbody>\n",
       "</table>\n",
       "</div>"
      ],
      "text/plain": [
       "            0         1         2         3         4\n",
       "329  0.664052  0.874155  0.910846  0.358662  0.660002\n",
       "330  0.849185  0.348962  0.903993  0.908577  0.564370\n",
       "331  0.507964  0.903428  0.092433  0.974950  0.905415\n",
       "332  0.286384  0.708574  0.342657  0.896959  0.667065\n",
       "333  0.229084  0.100015  0.685370  0.824870  0.409014"
      ]
     },
     "execution_count": 27,
     "metadata": {},
     "output_type": "execute_result"
    }
   ],
   "source": [
    "newdf.tail()"
   ]
  },
  {
   "cell_type": "code",
   "execution_count": 28,
   "id": "d82d54eb",
   "metadata": {},
   "outputs": [
    {
     "data": {
      "text/plain": [
       "pandas.core.frame.DataFrame"
      ]
     },
     "execution_count": 28,
     "metadata": {},
     "output_type": "execute_result"
    }
   ],
   "source": [
    "type(newdf)"
   ]
  },
  {
   "cell_type": "code",
   "execution_count": 29,
   "id": "c8e2f276",
   "metadata": {},
   "outputs": [
    {
     "data": {
      "text/html": [
       "<div>\n",
       "<style scoped>\n",
       "    .dataframe tbody tr th:only-of-type {\n",
       "        vertical-align: middle;\n",
       "    }\n",
       "\n",
       "    .dataframe tbody tr th {\n",
       "        vertical-align: top;\n",
       "    }\n",
       "\n",
       "    .dataframe thead th {\n",
       "        text-align: right;\n",
       "    }\n",
       "</style>\n",
       "<table border=\"1\" class=\"dataframe\">\n",
       "  <thead>\n",
       "    <tr style=\"text-align: right;\">\n",
       "      <th></th>\n",
       "      <th>0</th>\n",
       "      <th>1</th>\n",
       "      <th>2</th>\n",
       "      <th>3</th>\n",
       "      <th>4</th>\n",
       "    </tr>\n",
       "  </thead>\n",
       "  <tbody>\n",
       "    <tr>\n",
       "      <th>count</th>\n",
       "      <td>334.000000</td>\n",
       "      <td>334.000000</td>\n",
       "      <td>334.000000</td>\n",
       "      <td>334.000000</td>\n",
       "      <td>334.000000</td>\n",
       "    </tr>\n",
       "    <tr>\n",
       "      <th>mean</th>\n",
       "      <td>0.513143</td>\n",
       "      <td>0.500957</td>\n",
       "      <td>0.535185</td>\n",
       "      <td>0.506038</td>\n",
       "      <td>0.486827</td>\n",
       "    </tr>\n",
       "    <tr>\n",
       "      <th>std</th>\n",
       "      <td>0.283491</td>\n",
       "      <td>0.283342</td>\n",
       "      <td>0.285690</td>\n",
       "      <td>0.292317</td>\n",
       "      <td>0.285252</td>\n",
       "    </tr>\n",
       "    <tr>\n",
       "      <th>min</th>\n",
       "      <td>0.004790</td>\n",
       "      <td>0.001357</td>\n",
       "      <td>0.000287</td>\n",
       "      <td>0.002299</td>\n",
       "      <td>0.003304</td>\n",
       "    </tr>\n",
       "    <tr>\n",
       "      <th>25%</th>\n",
       "      <td>0.238071</td>\n",
       "      <td>0.262171</td>\n",
       "      <td>0.306629</td>\n",
       "      <td>0.239867</td>\n",
       "      <td>0.231697</td>\n",
       "    </tr>\n",
       "    <tr>\n",
       "      <th>50%</th>\n",
       "      <td>0.531234</td>\n",
       "      <td>0.481932</td>\n",
       "      <td>0.528214</td>\n",
       "      <td>0.507892</td>\n",
       "      <td>0.488047</td>\n",
       "    </tr>\n",
       "    <tr>\n",
       "      <th>75%</th>\n",
       "      <td>0.741707</td>\n",
       "      <td>0.736098</td>\n",
       "      <td>0.778924</td>\n",
       "      <td>0.773155</td>\n",
       "      <td>0.741469</td>\n",
       "    </tr>\n",
       "    <tr>\n",
       "      <th>max</th>\n",
       "      <td>0.992124</td>\n",
       "      <td>0.999562</td>\n",
       "      <td>0.999931</td>\n",
       "      <td>0.998809</td>\n",
       "      <td>0.996752</td>\n",
       "    </tr>\n",
       "  </tbody>\n",
       "</table>\n",
       "</div>"
      ],
      "text/plain": [
       "                0           1           2           3           4\n",
       "count  334.000000  334.000000  334.000000  334.000000  334.000000\n",
       "mean     0.513143    0.500957    0.535185    0.506038    0.486827\n",
       "std      0.283491    0.283342    0.285690    0.292317    0.285252\n",
       "min      0.004790    0.001357    0.000287    0.002299    0.003304\n",
       "25%      0.238071    0.262171    0.306629    0.239867    0.231697\n",
       "50%      0.531234    0.481932    0.528214    0.507892    0.488047\n",
       "75%      0.741707    0.736098    0.778924    0.773155    0.741469\n",
       "max      0.992124    0.999562    0.999931    0.998809    0.996752"
      ]
     },
     "execution_count": 29,
     "metadata": {},
     "output_type": "execute_result"
    }
   ],
   "source": [
    "newdf.describe() # describes the mean,standard deviation,etc of each colomn"
   ]
  },
  {
   "cell_type": "code",
   "execution_count": 30,
   "id": "f9ccde22",
   "metadata": {},
   "outputs": [
    {
     "data": {
      "text/plain": [
       "0    float64\n",
       "1    float64\n",
       "2    float64\n",
       "3    float64\n",
       "4    float64\n",
       "dtype: object"
      ]
     },
     "execution_count": 30,
     "metadata": {},
     "output_type": "execute_result"
    }
   ],
   "source": [
    "newdf.dtypes"
   ]
  },
  {
   "cell_type": "code",
   "execution_count": 31,
   "id": "c3a71ced",
   "metadata": {},
   "outputs": [],
   "source": [
    "newdf[0][0]='Vikas'"
   ]
  },
  {
   "cell_type": "code",
   "execution_count": 32,
   "id": "ac2ec6b4",
   "metadata": {},
   "outputs": [
    {
     "data": {
      "text/html": [
       "<div>\n",
       "<style scoped>\n",
       "    .dataframe tbody tr th:only-of-type {\n",
       "        vertical-align: middle;\n",
       "    }\n",
       "\n",
       "    .dataframe tbody tr th {\n",
       "        vertical-align: top;\n",
       "    }\n",
       "\n",
       "    .dataframe thead th {\n",
       "        text-align: right;\n",
       "    }\n",
       "</style>\n",
       "<table border=\"1\" class=\"dataframe\">\n",
       "  <thead>\n",
       "    <tr style=\"text-align: right;\">\n",
       "      <th></th>\n",
       "      <th>0</th>\n",
       "      <th>1</th>\n",
       "      <th>2</th>\n",
       "      <th>3</th>\n",
       "      <th>4</th>\n",
       "    </tr>\n",
       "  </thead>\n",
       "  <tbody>\n",
       "    <tr>\n",
       "      <th>0</th>\n",
       "      <td>Vikas</td>\n",
       "      <td>0.466023</td>\n",
       "      <td>0.091853</td>\n",
       "      <td>0.478882</td>\n",
       "      <td>0.846913</td>\n",
       "    </tr>\n",
       "    <tr>\n",
       "      <th>1</th>\n",
       "      <td>0.913672</td>\n",
       "      <td>0.586304</td>\n",
       "      <td>0.761903</td>\n",
       "      <td>0.453714</td>\n",
       "      <td>0.045113</td>\n",
       "    </tr>\n",
       "    <tr>\n",
       "      <th>2</th>\n",
       "      <td>0.703188</td>\n",
       "      <td>0.294033</td>\n",
       "      <td>0.798553</td>\n",
       "      <td>0.681721</td>\n",
       "      <td>0.282514</td>\n",
       "    </tr>\n",
       "    <tr>\n",
       "      <th>3</th>\n",
       "      <td>0.758696</td>\n",
       "      <td>0.870107</td>\n",
       "      <td>0.103961</td>\n",
       "      <td>0.593302</td>\n",
       "      <td>0.131365</td>\n",
       "    </tr>\n",
       "    <tr>\n",
       "      <th>4</th>\n",
       "      <td>0.085147</td>\n",
       "      <td>0.403180</td>\n",
       "      <td>0.790300</td>\n",
       "      <td>0.711646</td>\n",
       "      <td>0.920102</td>\n",
       "    </tr>\n",
       "    <tr>\n",
       "      <th>...</th>\n",
       "      <td>...</td>\n",
       "      <td>...</td>\n",
       "      <td>...</td>\n",
       "      <td>...</td>\n",
       "      <td>...</td>\n",
       "    </tr>\n",
       "    <tr>\n",
       "      <th>329</th>\n",
       "      <td>0.664052</td>\n",
       "      <td>0.874155</td>\n",
       "      <td>0.910846</td>\n",
       "      <td>0.358662</td>\n",
       "      <td>0.660002</td>\n",
       "    </tr>\n",
       "    <tr>\n",
       "      <th>330</th>\n",
       "      <td>0.849185</td>\n",
       "      <td>0.348962</td>\n",
       "      <td>0.903993</td>\n",
       "      <td>0.908577</td>\n",
       "      <td>0.564370</td>\n",
       "    </tr>\n",
       "    <tr>\n",
       "      <th>331</th>\n",
       "      <td>0.507964</td>\n",
       "      <td>0.903428</td>\n",
       "      <td>0.092433</td>\n",
       "      <td>0.974950</td>\n",
       "      <td>0.905415</td>\n",
       "    </tr>\n",
       "    <tr>\n",
       "      <th>332</th>\n",
       "      <td>0.286384</td>\n",
       "      <td>0.708574</td>\n",
       "      <td>0.342657</td>\n",
       "      <td>0.896959</td>\n",
       "      <td>0.667065</td>\n",
       "    </tr>\n",
       "    <tr>\n",
       "      <th>333</th>\n",
       "      <td>0.229084</td>\n",
       "      <td>0.100015</td>\n",
       "      <td>0.685370</td>\n",
       "      <td>0.824870</td>\n",
       "      <td>0.409014</td>\n",
       "    </tr>\n",
       "  </tbody>\n",
       "</table>\n",
       "<p>334 rows × 5 columns</p>\n",
       "</div>"
      ],
      "text/plain": [
       "            0         1         2         3         4\n",
       "0       Vikas  0.466023  0.091853  0.478882  0.846913\n",
       "1    0.913672  0.586304  0.761903  0.453714  0.045113\n",
       "2    0.703188  0.294033  0.798553  0.681721  0.282514\n",
       "3    0.758696  0.870107  0.103961  0.593302  0.131365\n",
       "4    0.085147  0.403180  0.790300  0.711646  0.920102\n",
       "..        ...       ...       ...       ...       ...\n",
       "329  0.664052  0.874155  0.910846  0.358662  0.660002\n",
       "330  0.849185  0.348962  0.903993  0.908577  0.564370\n",
       "331  0.507964  0.903428  0.092433  0.974950  0.905415\n",
       "332  0.286384  0.708574  0.342657  0.896959  0.667065\n",
       "333  0.229084  0.100015  0.685370  0.824870  0.409014\n",
       "\n",
       "[334 rows x 5 columns]"
      ]
     },
     "execution_count": 32,
     "metadata": {},
     "output_type": "execute_result"
    }
   ],
   "source": [
    "newdf"
   ]
  },
  {
   "cell_type": "code",
   "execution_count": 33,
   "id": "e668a6d3",
   "metadata": {},
   "outputs": [
    {
     "data": {
      "text/plain": [
       "str"
      ]
     },
     "execution_count": 33,
     "metadata": {},
     "output_type": "execute_result"
    }
   ],
   "source": [
    "type(newdf[0][0])"
   ]
  },
  {
   "cell_type": "code",
   "execution_count": 34,
   "id": "1845fa33",
   "metadata": {},
   "outputs": [
    {
     "data": {
      "text/plain": [
       "Int64Index([  0,   1,   2,   3,   4,   5,   6,   7,   8,   9,\n",
       "            ...\n",
       "            324, 325, 326, 327, 328, 329, 330, 331, 332, 333],\n",
       "           dtype='int64', length=334)"
      ]
     },
     "execution_count": 34,
     "metadata": {},
     "output_type": "execute_result"
    }
   ],
   "source": [
    "newdf.index"
   ]
  },
  {
   "cell_type": "code",
   "execution_count": 35,
   "id": "b4ec01dd",
   "metadata": {},
   "outputs": [
    {
     "data": {
      "text/plain": [
       "334"
      ]
     },
     "execution_count": 35,
     "metadata": {},
     "output_type": "execute_result"
    }
   ],
   "source": [
    "len(newdf[0])"
   ]
  },
  {
   "cell_type": "code",
   "execution_count": 36,
   "id": "3728bcbe",
   "metadata": {},
   "outputs": [
    {
     "data": {
      "text/plain": [
       "RangeIndex(start=0, stop=5, step=1)"
      ]
     },
     "execution_count": 36,
     "metadata": {},
     "output_type": "execute_result"
    }
   ],
   "source": [
    "newdf.columns# tells us about the range of the columns"
   ]
  },
  {
   "cell_type": "code",
   "execution_count": 37,
   "id": "ea1707a2",
   "metadata": {},
   "outputs": [
    {
     "data": {
      "text/plain": [
       "array([['Vikas', 0.46602296230828966, 0.0918525536079361,\n",
       "        0.4788817173000146, 0.8469125598645035],\n",
       "       [0.913671691682287, 0.5863041902441449, 0.7619030987621794,\n",
       "        0.4537137221016512, 0.04511287215882542],\n",
       "       [0.703187711202604, 0.2940333276711995, 0.7985527554085518,\n",
       "        0.6817206835205601, 0.282513561927182],\n",
       "       ...,\n",
       "       [0.5079642646488073, 0.9034282132095756, 0.0924331120720131,\n",
       "        0.974950045096437, 0.9054146324844371],\n",
       "       [0.28638417650381154, 0.7085739140245886, 0.34265714063813024,\n",
       "        0.8969591689903806, 0.6670646433712084],\n",
       "       [0.22908444671320438, 0.10001461999676287, 0.6853702491983519,\n",
       "        0.824870433360145, 0.4090140538938135]], dtype=object)"
      ]
     },
     "execution_count": 37,
     "metadata": {},
     "output_type": "execute_result"
    }
   ],
   "source": [
    "newdf.to_numpy() # Returns a numpy array consisting of all the values in the newdf dataframe"
   ]
  },
  {
   "cell_type": "code",
   "execution_count": 38,
   "id": "a4390a48",
   "metadata": {},
   "outputs": [],
   "source": [
    "newdf[0][0]=0.34332"
   ]
  },
  {
   "cell_type": "code",
   "execution_count": 39,
   "id": "1a268fde",
   "metadata": {},
   "outputs": [
    {
     "data": {
      "text/html": [
       "<div>\n",
       "<style scoped>\n",
       "    .dataframe tbody tr th:only-of-type {\n",
       "        vertical-align: middle;\n",
       "    }\n",
       "\n",
       "    .dataframe tbody tr th {\n",
       "        vertical-align: top;\n",
       "    }\n",
       "\n",
       "    .dataframe thead th {\n",
       "        text-align: right;\n",
       "    }\n",
       "</style>\n",
       "<table border=\"1\" class=\"dataframe\">\n",
       "  <thead>\n",
       "    <tr style=\"text-align: right;\">\n",
       "      <th></th>\n",
       "      <th>0</th>\n",
       "      <th>1</th>\n",
       "      <th>2</th>\n",
       "      <th>3</th>\n",
       "      <th>4</th>\n",
       "    </tr>\n",
       "  </thead>\n",
       "  <tbody>\n",
       "    <tr>\n",
       "      <th>0</th>\n",
       "      <td>0.34332</td>\n",
       "      <td>0.466023</td>\n",
       "      <td>0.091853</td>\n",
       "      <td>0.478882</td>\n",
       "      <td>0.846913</td>\n",
       "    </tr>\n",
       "    <tr>\n",
       "      <th>1</th>\n",
       "      <td>0.913672</td>\n",
       "      <td>0.586304</td>\n",
       "      <td>0.761903</td>\n",
       "      <td>0.453714</td>\n",
       "      <td>0.045113</td>\n",
       "    </tr>\n",
       "    <tr>\n",
       "      <th>2</th>\n",
       "      <td>0.703188</td>\n",
       "      <td>0.294033</td>\n",
       "      <td>0.798553</td>\n",
       "      <td>0.681721</td>\n",
       "      <td>0.282514</td>\n",
       "    </tr>\n",
       "    <tr>\n",
       "      <th>3</th>\n",
       "      <td>0.758696</td>\n",
       "      <td>0.870107</td>\n",
       "      <td>0.103961</td>\n",
       "      <td>0.593302</td>\n",
       "      <td>0.131365</td>\n",
       "    </tr>\n",
       "    <tr>\n",
       "      <th>4</th>\n",
       "      <td>0.085147</td>\n",
       "      <td>0.403180</td>\n",
       "      <td>0.790300</td>\n",
       "      <td>0.711646</td>\n",
       "      <td>0.920102</td>\n",
       "    </tr>\n",
       "    <tr>\n",
       "      <th>...</th>\n",
       "      <td>...</td>\n",
       "      <td>...</td>\n",
       "      <td>...</td>\n",
       "      <td>...</td>\n",
       "      <td>...</td>\n",
       "    </tr>\n",
       "    <tr>\n",
       "      <th>329</th>\n",
       "      <td>0.664052</td>\n",
       "      <td>0.874155</td>\n",
       "      <td>0.910846</td>\n",
       "      <td>0.358662</td>\n",
       "      <td>0.660002</td>\n",
       "    </tr>\n",
       "    <tr>\n",
       "      <th>330</th>\n",
       "      <td>0.849185</td>\n",
       "      <td>0.348962</td>\n",
       "      <td>0.903993</td>\n",
       "      <td>0.908577</td>\n",
       "      <td>0.564370</td>\n",
       "    </tr>\n",
       "    <tr>\n",
       "      <th>331</th>\n",
       "      <td>0.507964</td>\n",
       "      <td>0.903428</td>\n",
       "      <td>0.092433</td>\n",
       "      <td>0.974950</td>\n",
       "      <td>0.905415</td>\n",
       "    </tr>\n",
       "    <tr>\n",
       "      <th>332</th>\n",
       "      <td>0.286384</td>\n",
       "      <td>0.708574</td>\n",
       "      <td>0.342657</td>\n",
       "      <td>0.896959</td>\n",
       "      <td>0.667065</td>\n",
       "    </tr>\n",
       "    <tr>\n",
       "      <th>333</th>\n",
       "      <td>0.229084</td>\n",
       "      <td>0.100015</td>\n",
       "      <td>0.685370</td>\n",
       "      <td>0.824870</td>\n",
       "      <td>0.409014</td>\n",
       "    </tr>\n",
       "  </tbody>\n",
       "</table>\n",
       "<p>334 rows × 5 columns</p>\n",
       "</div>"
      ],
      "text/plain": [
       "            0         1         2         3         4\n",
       "0     0.34332  0.466023  0.091853  0.478882  0.846913\n",
       "1    0.913672  0.586304  0.761903  0.453714  0.045113\n",
       "2    0.703188  0.294033  0.798553  0.681721  0.282514\n",
       "3    0.758696  0.870107  0.103961  0.593302  0.131365\n",
       "4    0.085147  0.403180  0.790300  0.711646  0.920102\n",
       "..        ...       ...       ...       ...       ...\n",
       "329  0.664052  0.874155  0.910846  0.358662  0.660002\n",
       "330  0.849185  0.348962  0.903993  0.908577  0.564370\n",
       "331  0.507964  0.903428  0.092433  0.974950  0.905415\n",
       "332  0.286384  0.708574  0.342657  0.896959  0.667065\n",
       "333  0.229084  0.100015  0.685370  0.824870  0.409014\n",
       "\n",
       "[334 rows x 5 columns]"
      ]
     },
     "execution_count": 39,
     "metadata": {},
     "output_type": "execute_result"
    }
   ],
   "source": [
    "newdf"
   ]
  },
  {
   "cell_type": "code",
   "execution_count": 40,
   "id": "b6213b4b",
   "metadata": {},
   "outputs": [
    {
     "data": {
      "text/html": [
       "<div>\n",
       "<style scoped>\n",
       "    .dataframe tbody tr th:only-of-type {\n",
       "        vertical-align: middle;\n",
       "    }\n",
       "\n",
       "    .dataframe tbody tr th {\n",
       "        vertical-align: top;\n",
       "    }\n",
       "\n",
       "    .dataframe thead th {\n",
       "        text-align: right;\n",
       "    }\n",
       "</style>\n",
       "<table border=\"1\" class=\"dataframe\">\n",
       "  <thead>\n",
       "    <tr style=\"text-align: right;\">\n",
       "      <th></th>\n",
       "      <th>0</th>\n",
       "      <th>1</th>\n",
       "      <th>2</th>\n",
       "      <th>3</th>\n",
       "      <th>4</th>\n",
       "    </tr>\n",
       "  </thead>\n",
       "  <tbody>\n",
       "    <tr>\n",
       "      <th>0</th>\n",
       "      <td>0.34332</td>\n",
       "      <td>0.466023</td>\n",
       "      <td>0.091853</td>\n",
       "      <td>0.478882</td>\n",
       "      <td>0.846913</td>\n",
       "    </tr>\n",
       "    <tr>\n",
       "      <th>1</th>\n",
       "      <td>0.913672</td>\n",
       "      <td>0.586304</td>\n",
       "      <td>0.761903</td>\n",
       "      <td>0.453714</td>\n",
       "      <td>0.045113</td>\n",
       "    </tr>\n",
       "    <tr>\n",
       "      <th>2</th>\n",
       "      <td>0.703188</td>\n",
       "      <td>0.294033</td>\n",
       "      <td>0.798553</td>\n",
       "      <td>0.681721</td>\n",
       "      <td>0.282514</td>\n",
       "    </tr>\n",
       "    <tr>\n",
       "      <th>3</th>\n",
       "      <td>0.758696</td>\n",
       "      <td>0.870107</td>\n",
       "      <td>0.103961</td>\n",
       "      <td>0.593302</td>\n",
       "      <td>0.131365</td>\n",
       "    </tr>\n",
       "    <tr>\n",
       "      <th>4</th>\n",
       "      <td>0.085147</td>\n",
       "      <td>0.403180</td>\n",
       "      <td>0.790300</td>\n",
       "      <td>0.711646</td>\n",
       "      <td>0.920102</td>\n",
       "    </tr>\n",
       "    <tr>\n",
       "      <th>...</th>\n",
       "      <td>...</td>\n",
       "      <td>...</td>\n",
       "      <td>...</td>\n",
       "      <td>...</td>\n",
       "      <td>...</td>\n",
       "    </tr>\n",
       "    <tr>\n",
       "      <th>329</th>\n",
       "      <td>0.664052</td>\n",
       "      <td>0.874155</td>\n",
       "      <td>0.910846</td>\n",
       "      <td>0.358662</td>\n",
       "      <td>0.660002</td>\n",
       "    </tr>\n",
       "    <tr>\n",
       "      <th>330</th>\n",
       "      <td>0.849185</td>\n",
       "      <td>0.348962</td>\n",
       "      <td>0.903993</td>\n",
       "      <td>0.908577</td>\n",
       "      <td>0.564370</td>\n",
       "    </tr>\n",
       "    <tr>\n",
       "      <th>331</th>\n",
       "      <td>0.507964</td>\n",
       "      <td>0.903428</td>\n",
       "      <td>0.092433</td>\n",
       "      <td>0.974950</td>\n",
       "      <td>0.905415</td>\n",
       "    </tr>\n",
       "    <tr>\n",
       "      <th>332</th>\n",
       "      <td>0.286384</td>\n",
       "      <td>0.708574</td>\n",
       "      <td>0.342657</td>\n",
       "      <td>0.896959</td>\n",
       "      <td>0.667065</td>\n",
       "    </tr>\n",
       "    <tr>\n",
       "      <th>333</th>\n",
       "      <td>0.229084</td>\n",
       "      <td>0.100015</td>\n",
       "      <td>0.685370</td>\n",
       "      <td>0.824870</td>\n",
       "      <td>0.409014</td>\n",
       "    </tr>\n",
       "  </tbody>\n",
       "</table>\n",
       "<p>334 rows × 5 columns</p>\n",
       "</div>"
      ],
      "text/plain": [
       "            0         1         2         3         4\n",
       "0     0.34332  0.466023  0.091853  0.478882  0.846913\n",
       "1    0.913672  0.586304  0.761903  0.453714  0.045113\n",
       "2    0.703188  0.294033  0.798553  0.681721  0.282514\n",
       "3    0.758696  0.870107  0.103961  0.593302  0.131365\n",
       "4    0.085147  0.403180  0.790300  0.711646  0.920102\n",
       "..        ...       ...       ...       ...       ...\n",
       "329  0.664052  0.874155  0.910846  0.358662  0.660002\n",
       "330  0.849185  0.348962  0.903993  0.908577  0.564370\n",
       "331  0.507964  0.903428  0.092433  0.974950  0.905415\n",
       "332  0.286384  0.708574  0.342657  0.896959  0.667065\n",
       "333  0.229084  0.100015  0.685370  0.824870  0.409014\n",
       "\n",
       "[334 rows x 5 columns]"
      ]
     },
     "execution_count": 40,
     "metadata": {},
     "output_type": "execute_result"
    }
   ],
   "source": [
    "newdf.sort_index(axis=1,ascending=True) # sort the array accoring to the index and ascending"
   ]
  },
  {
   "cell_type": "code",
   "execution_count": 41,
   "id": "5b0d0639",
   "metadata": {},
   "outputs": [
    {
     "data": {
      "text/plain": [
       "0       0.34332\n",
       "1      0.913672\n",
       "2      0.703188\n",
       "3      0.758696\n",
       "4      0.085147\n",
       "         ...   \n",
       "329    0.664052\n",
       "330    0.849185\n",
       "331    0.507964\n",
       "332    0.286384\n",
       "333    0.229084\n",
       "Name: 0, Length: 334, dtype: object"
      ]
     },
     "execution_count": 41,
     "metadata": {},
     "output_type": "execute_result"
    }
   ],
   "source": [
    "newdf[0]"
   ]
  },
  {
   "cell_type": "code",
   "execution_count": 42,
   "id": "78701287",
   "metadata": {},
   "outputs": [
    {
     "data": {
      "text/plain": [
       "pandas.core.series.Series"
      ]
     },
     "execution_count": 42,
     "metadata": {},
     "output_type": "execute_result"
    }
   ],
   "source": [
    "type(newdf[0])# Dataframes are made up of series"
   ]
  },
  {
   "cell_type": "code",
   "execution_count": 43,
   "id": "05e2b567",
   "metadata": {},
   "outputs": [],
   "source": [
    "newdf2=newdf # newdf2 is the view of newdf, it is like a pointer to the original \n",
    "# Anychanges made to newdf2 it will be reflected on the original"
   ]
  },
  {
   "cell_type": "code",
   "execution_count": 44,
   "id": "2b44b75d",
   "metadata": {},
   "outputs": [
    {
     "name": "stderr",
     "output_type": "stream",
     "text": [
      "C:\\Users\\vikas\\AppData\\Local\\Temp\\ipykernel_10132\\2451555297.py:1: SettingWithCopyWarning: \n",
      "A value is trying to be set on a copy of a slice from a DataFrame\n",
      "\n",
      "See the caveats in the documentation: https://pandas.pydata.org/pandas-docs/stable/user_guide/indexing.html#returning-a-view-versus-a-copy\n",
      "  newdf2[0][0]=34343\n"
     ]
    }
   ],
   "source": [
    "newdf2[0][0]=34343 "
   ]
  },
  {
   "cell_type": "code",
   "execution_count": 45,
   "id": "a0d1698b",
   "metadata": {},
   "outputs": [
    {
     "data": {
      "text/html": [
       "<div>\n",
       "<style scoped>\n",
       "    .dataframe tbody tr th:only-of-type {\n",
       "        vertical-align: middle;\n",
       "    }\n",
       "\n",
       "    .dataframe tbody tr th {\n",
       "        vertical-align: top;\n",
       "    }\n",
       "\n",
       "    .dataframe thead th {\n",
       "        text-align: right;\n",
       "    }\n",
       "</style>\n",
       "<table border=\"1\" class=\"dataframe\">\n",
       "  <thead>\n",
       "    <tr style=\"text-align: right;\">\n",
       "      <th></th>\n",
       "      <th>0</th>\n",
       "      <th>1</th>\n",
       "      <th>2</th>\n",
       "      <th>3</th>\n",
       "      <th>4</th>\n",
       "    </tr>\n",
       "  </thead>\n",
       "  <tbody>\n",
       "    <tr>\n",
       "      <th>0</th>\n",
       "      <td>34343</td>\n",
       "      <td>0.466023</td>\n",
       "      <td>0.091853</td>\n",
       "      <td>0.478882</td>\n",
       "      <td>0.846913</td>\n",
       "    </tr>\n",
       "    <tr>\n",
       "      <th>1</th>\n",
       "      <td>0.913672</td>\n",
       "      <td>0.586304</td>\n",
       "      <td>0.761903</td>\n",
       "      <td>0.453714</td>\n",
       "      <td>0.045113</td>\n",
       "    </tr>\n",
       "    <tr>\n",
       "      <th>2</th>\n",
       "      <td>0.703188</td>\n",
       "      <td>0.294033</td>\n",
       "      <td>0.798553</td>\n",
       "      <td>0.681721</td>\n",
       "      <td>0.282514</td>\n",
       "    </tr>\n",
       "    <tr>\n",
       "      <th>3</th>\n",
       "      <td>0.758696</td>\n",
       "      <td>0.870107</td>\n",
       "      <td>0.103961</td>\n",
       "      <td>0.593302</td>\n",
       "      <td>0.131365</td>\n",
       "    </tr>\n",
       "    <tr>\n",
       "      <th>4</th>\n",
       "      <td>0.085147</td>\n",
       "      <td>0.403180</td>\n",
       "      <td>0.790300</td>\n",
       "      <td>0.711646</td>\n",
       "      <td>0.920102</td>\n",
       "    </tr>\n",
       "    <tr>\n",
       "      <th>...</th>\n",
       "      <td>...</td>\n",
       "      <td>...</td>\n",
       "      <td>...</td>\n",
       "      <td>...</td>\n",
       "      <td>...</td>\n",
       "    </tr>\n",
       "    <tr>\n",
       "      <th>329</th>\n",
       "      <td>0.664052</td>\n",
       "      <td>0.874155</td>\n",
       "      <td>0.910846</td>\n",
       "      <td>0.358662</td>\n",
       "      <td>0.660002</td>\n",
       "    </tr>\n",
       "    <tr>\n",
       "      <th>330</th>\n",
       "      <td>0.849185</td>\n",
       "      <td>0.348962</td>\n",
       "      <td>0.903993</td>\n",
       "      <td>0.908577</td>\n",
       "      <td>0.564370</td>\n",
       "    </tr>\n",
       "    <tr>\n",
       "      <th>331</th>\n",
       "      <td>0.507964</td>\n",
       "      <td>0.903428</td>\n",
       "      <td>0.092433</td>\n",
       "      <td>0.974950</td>\n",
       "      <td>0.905415</td>\n",
       "    </tr>\n",
       "    <tr>\n",
       "      <th>332</th>\n",
       "      <td>0.286384</td>\n",
       "      <td>0.708574</td>\n",
       "      <td>0.342657</td>\n",
       "      <td>0.896959</td>\n",
       "      <td>0.667065</td>\n",
       "    </tr>\n",
       "    <tr>\n",
       "      <th>333</th>\n",
       "      <td>0.229084</td>\n",
       "      <td>0.100015</td>\n",
       "      <td>0.685370</td>\n",
       "      <td>0.824870</td>\n",
       "      <td>0.409014</td>\n",
       "    </tr>\n",
       "  </tbody>\n",
       "</table>\n",
       "<p>334 rows × 5 columns</p>\n",
       "</div>"
      ],
      "text/plain": [
       "            0         1         2         3         4\n",
       "0       34343  0.466023  0.091853  0.478882  0.846913\n",
       "1    0.913672  0.586304  0.761903  0.453714  0.045113\n",
       "2    0.703188  0.294033  0.798553  0.681721  0.282514\n",
       "3    0.758696  0.870107  0.103961  0.593302  0.131365\n",
       "4    0.085147  0.403180  0.790300  0.711646  0.920102\n",
       "..        ...       ...       ...       ...       ...\n",
       "329  0.664052  0.874155  0.910846  0.358662  0.660002\n",
       "330  0.849185  0.348962  0.903993  0.908577  0.564370\n",
       "331  0.507964  0.903428  0.092433  0.974950  0.905415\n",
       "332  0.286384  0.708574  0.342657  0.896959  0.667065\n",
       "333  0.229084  0.100015  0.685370  0.824870  0.409014\n",
       "\n",
       "[334 rows x 5 columns]"
      ]
     },
     "execution_count": 45,
     "metadata": {},
     "output_type": "execute_result"
    }
   ],
   "source": [
    "newdf"
   ]
  },
  {
   "cell_type": "code",
   "execution_count": 46,
   "id": "a11668fa",
   "metadata": {},
   "outputs": [],
   "source": [
    "newdf2=newdf.copy() # This will make a copy of newdf without affecting the original"
   ]
  },
  {
   "cell_type": "code",
   "execution_count": 47,
   "id": "692bc246",
   "metadata": {},
   "outputs": [
    {
     "name": "stderr",
     "output_type": "stream",
     "text": [
      "C:\\Users\\vikas\\AppData\\Local\\Temp\\ipykernel_10132\\204995665.py:1: SettingWithCopyWarning: \n",
      "A value is trying to be set on a copy of a slice from a DataFrame\n",
      "\n",
      "See the caveats in the documentation: https://pandas.pydata.org/pandas-docs/stable/user_guide/indexing.html#returning-a-view-versus-a-copy\n",
      "  newdf2[0][0]=56\n"
     ]
    }
   ],
   "source": [
    "newdf2[0][0]=56"
   ]
  },
  {
   "cell_type": "code",
   "execution_count": 48,
   "id": "249cc7e3",
   "metadata": {},
   "outputs": [
    {
     "data": {
      "text/html": [
       "<div>\n",
       "<style scoped>\n",
       "    .dataframe tbody tr th:only-of-type {\n",
       "        vertical-align: middle;\n",
       "    }\n",
       "\n",
       "    .dataframe tbody tr th {\n",
       "        vertical-align: top;\n",
       "    }\n",
       "\n",
       "    .dataframe thead th {\n",
       "        text-align: right;\n",
       "    }\n",
       "</style>\n",
       "<table border=\"1\" class=\"dataframe\">\n",
       "  <thead>\n",
       "    <tr style=\"text-align: right;\">\n",
       "      <th></th>\n",
       "      <th>0</th>\n",
       "      <th>1</th>\n",
       "      <th>2</th>\n",
       "      <th>3</th>\n",
       "      <th>4</th>\n",
       "    </tr>\n",
       "  </thead>\n",
       "  <tbody>\n",
       "    <tr>\n",
       "      <th>0</th>\n",
       "      <td>34343</td>\n",
       "      <td>0.466023</td>\n",
       "      <td>0.091853</td>\n",
       "      <td>0.478882</td>\n",
       "      <td>0.846913</td>\n",
       "    </tr>\n",
       "    <tr>\n",
       "      <th>1</th>\n",
       "      <td>0.913672</td>\n",
       "      <td>0.586304</td>\n",
       "      <td>0.761903</td>\n",
       "      <td>0.453714</td>\n",
       "      <td>0.045113</td>\n",
       "    </tr>\n",
       "  </tbody>\n",
       "</table>\n",
       "</div>"
      ],
      "text/plain": [
       "          0         1         2         3         4\n",
       "0     34343  0.466023  0.091853  0.478882  0.846913\n",
       "1  0.913672  0.586304  0.761903  0.453714  0.045113"
      ]
     },
     "execution_count": 48,
     "metadata": {},
     "output_type": "execute_result"
    }
   ],
   "source": [
    "newdf.head(2)"
   ]
  },
  {
   "cell_type": "code",
   "execution_count": 49,
   "id": "2d7439ec",
   "metadata": {},
   "outputs": [
    {
     "data": {
      "text/html": [
       "<div>\n",
       "<style scoped>\n",
       "    .dataframe tbody tr th:only-of-type {\n",
       "        vertical-align: middle;\n",
       "    }\n",
       "\n",
       "    .dataframe tbody tr th {\n",
       "        vertical-align: top;\n",
       "    }\n",
       "\n",
       "    .dataframe thead th {\n",
       "        text-align: right;\n",
       "    }\n",
       "</style>\n",
       "<table border=\"1\" class=\"dataframe\">\n",
       "  <thead>\n",
       "    <tr style=\"text-align: right;\">\n",
       "      <th></th>\n",
       "      <th>0</th>\n",
       "      <th>1</th>\n",
       "      <th>2</th>\n",
       "      <th>3</th>\n",
       "      <th>4</th>\n",
       "    </tr>\n",
       "  </thead>\n",
       "  <tbody>\n",
       "    <tr>\n",
       "      <th>0</th>\n",
       "      <td>56</td>\n",
       "      <td>0.466023</td>\n",
       "      <td>0.091853</td>\n",
       "      <td>0.478882</td>\n",
       "      <td>0.846913</td>\n",
       "    </tr>\n",
       "    <tr>\n",
       "      <th>1</th>\n",
       "      <td>0.913672</td>\n",
       "      <td>0.586304</td>\n",
       "      <td>0.761903</td>\n",
       "      <td>0.453714</td>\n",
       "      <td>0.045113</td>\n",
       "    </tr>\n",
       "  </tbody>\n",
       "</table>\n",
       "</div>"
      ],
      "text/plain": [
       "          0         1         2         3         4\n",
       "0        56  0.466023  0.091853  0.478882  0.846913\n",
       "1  0.913672  0.586304  0.761903  0.453714  0.045113"
      ]
     },
     "execution_count": 49,
     "metadata": {},
     "output_type": "execute_result"
    }
   ],
   "source": [
    "newdf2.head(2)# Different from the original after changes"
   ]
  },
  {
   "cell_type": "code",
   "execution_count": 50,
   "id": "bb89398d",
   "metadata": {},
   "outputs": [],
   "source": [
    "newdf.loc[0,0]=1 # We can change individual values without getting a warning"
   ]
  },
  {
   "cell_type": "code",
   "execution_count": 51,
   "id": "3cdd727a",
   "metadata": {},
   "outputs": [
    {
     "data": {
      "text/html": [
       "<div>\n",
       "<style scoped>\n",
       "    .dataframe tbody tr th:only-of-type {\n",
       "        vertical-align: middle;\n",
       "    }\n",
       "\n",
       "    .dataframe tbody tr th {\n",
       "        vertical-align: top;\n",
       "    }\n",
       "\n",
       "    .dataframe thead th {\n",
       "        text-align: right;\n",
       "    }\n",
       "</style>\n",
       "<table border=\"1\" class=\"dataframe\">\n",
       "  <thead>\n",
       "    <tr style=\"text-align: right;\">\n",
       "      <th></th>\n",
       "      <th>0</th>\n",
       "      <th>1</th>\n",
       "      <th>2</th>\n",
       "      <th>3</th>\n",
       "      <th>4</th>\n",
       "    </tr>\n",
       "  </thead>\n",
       "  <tbody>\n",
       "    <tr>\n",
       "      <th>0</th>\n",
       "      <td>1</td>\n",
       "      <td>0.466023</td>\n",
       "      <td>0.091853</td>\n",
       "      <td>0.478882</td>\n",
       "      <td>0.846913</td>\n",
       "    </tr>\n",
       "    <tr>\n",
       "      <th>1</th>\n",
       "      <td>0.913672</td>\n",
       "      <td>0.586304</td>\n",
       "      <td>0.761903</td>\n",
       "      <td>0.453714</td>\n",
       "      <td>0.045113</td>\n",
       "    </tr>\n",
       "    <tr>\n",
       "      <th>2</th>\n",
       "      <td>0.703188</td>\n",
       "      <td>0.294033</td>\n",
       "      <td>0.798553</td>\n",
       "      <td>0.681721</td>\n",
       "      <td>0.282514</td>\n",
       "    </tr>\n",
       "    <tr>\n",
       "      <th>3</th>\n",
       "      <td>0.758696</td>\n",
       "      <td>0.870107</td>\n",
       "      <td>0.103961</td>\n",
       "      <td>0.593302</td>\n",
       "      <td>0.131365</td>\n",
       "    </tr>\n",
       "    <tr>\n",
       "      <th>4</th>\n",
       "      <td>0.085147</td>\n",
       "      <td>0.403180</td>\n",
       "      <td>0.790300</td>\n",
       "      <td>0.711646</td>\n",
       "      <td>0.920102</td>\n",
       "    </tr>\n",
       "  </tbody>\n",
       "</table>\n",
       "</div>"
      ],
      "text/plain": [
       "          0         1         2         3         4\n",
       "0         1  0.466023  0.091853  0.478882  0.846913\n",
       "1  0.913672  0.586304  0.761903  0.453714  0.045113\n",
       "2  0.703188  0.294033  0.798553  0.681721  0.282514\n",
       "3  0.758696  0.870107  0.103961  0.593302  0.131365\n",
       "4  0.085147  0.403180  0.790300  0.711646  0.920102"
      ]
     },
     "execution_count": 51,
     "metadata": {},
     "output_type": "execute_result"
    }
   ],
   "source": [
    "newdf.head()"
   ]
  },
  {
   "cell_type": "code",
   "execution_count": 52,
   "id": "024f8379",
   "metadata": {},
   "outputs": [],
   "source": [
    "newdf.columns=list('ABCDE')"
   ]
  },
  {
   "cell_type": "code",
   "execution_count": 53,
   "id": "9c9186b6",
   "metadata": {},
   "outputs": [
    {
     "data": {
      "text/html": [
       "<div>\n",
       "<style scoped>\n",
       "    .dataframe tbody tr th:only-of-type {\n",
       "        vertical-align: middle;\n",
       "    }\n",
       "\n",
       "    .dataframe tbody tr th {\n",
       "        vertical-align: top;\n",
       "    }\n",
       "\n",
       "    .dataframe thead th {\n",
       "        text-align: right;\n",
       "    }\n",
       "</style>\n",
       "<table border=\"1\" class=\"dataframe\">\n",
       "  <thead>\n",
       "    <tr style=\"text-align: right;\">\n",
       "      <th></th>\n",
       "      <th>A</th>\n",
       "      <th>B</th>\n",
       "      <th>C</th>\n",
       "      <th>D</th>\n",
       "      <th>E</th>\n",
       "    </tr>\n",
       "  </thead>\n",
       "  <tbody>\n",
       "    <tr>\n",
       "      <th>0</th>\n",
       "      <td>1</td>\n",
       "      <td>0.466023</td>\n",
       "      <td>0.091853</td>\n",
       "      <td>0.478882</td>\n",
       "      <td>0.846913</td>\n",
       "    </tr>\n",
       "    <tr>\n",
       "      <th>1</th>\n",
       "      <td>0.913672</td>\n",
       "      <td>0.586304</td>\n",
       "      <td>0.761903</td>\n",
       "      <td>0.453714</td>\n",
       "      <td>0.045113</td>\n",
       "    </tr>\n",
       "  </tbody>\n",
       "</table>\n",
       "</div>"
      ],
      "text/plain": [
       "          A         B         C         D         E\n",
       "0         1  0.466023  0.091853  0.478882  0.846913\n",
       "1  0.913672  0.586304  0.761903  0.453714  0.045113"
      ]
     },
     "execution_count": 53,
     "metadata": {},
     "output_type": "execute_result"
    }
   ],
   "source": [
    "newdf.head(2)"
   ]
  },
  {
   "cell_type": "code",
   "execution_count": 54,
   "id": "3440ab20",
   "metadata": {},
   "outputs": [],
   "source": [
    "newdf.loc[0,'C']=4454"
   ]
  },
  {
   "cell_type": "code",
   "execution_count": 55,
   "id": "45f51e88",
   "metadata": {},
   "outputs": [
    {
     "data": {
      "text/html": [
       "<div>\n",
       "<style scoped>\n",
       "    .dataframe tbody tr th:only-of-type {\n",
       "        vertical-align: middle;\n",
       "    }\n",
       "\n",
       "    .dataframe tbody tr th {\n",
       "        vertical-align: top;\n",
       "    }\n",
       "\n",
       "    .dataframe thead th {\n",
       "        text-align: right;\n",
       "    }\n",
       "</style>\n",
       "<table border=\"1\" class=\"dataframe\">\n",
       "  <thead>\n",
       "    <tr style=\"text-align: right;\">\n",
       "      <th></th>\n",
       "      <th>A</th>\n",
       "      <th>B</th>\n",
       "      <th>C</th>\n",
       "      <th>D</th>\n",
       "      <th>E</th>\n",
       "    </tr>\n",
       "  </thead>\n",
       "  <tbody>\n",
       "    <tr>\n",
       "      <th>0</th>\n",
       "      <td>1</td>\n",
       "      <td>0.466023</td>\n",
       "      <td>4454.000000</td>\n",
       "      <td>0.478882</td>\n",
       "      <td>0.846913</td>\n",
       "    </tr>\n",
       "    <tr>\n",
       "      <th>1</th>\n",
       "      <td>0.913672</td>\n",
       "      <td>0.586304</td>\n",
       "      <td>0.761903</td>\n",
       "      <td>0.453714</td>\n",
       "      <td>0.045113</td>\n",
       "    </tr>\n",
       "  </tbody>\n",
       "</table>\n",
       "</div>"
      ],
      "text/plain": [
       "          A         B            C         D         E\n",
       "0         1  0.466023  4454.000000  0.478882  0.846913\n",
       "1  0.913672  0.586304     0.761903  0.453714  0.045113"
      ]
     },
     "execution_count": 55,
     "metadata": {},
     "output_type": "execute_result"
    }
   ],
   "source": [
    "newdf.head(2)"
   ]
  },
  {
   "cell_type": "code",
   "execution_count": 56,
   "id": "b7eaa1db",
   "metadata": {},
   "outputs": [],
   "source": [
    "# If we try to access a column which is not present inside the dataframe then \n",
    "# it will add the data to that column"
   ]
  },
  {
   "cell_type": "code",
   "execution_count": 57,
   "id": "34402e69",
   "metadata": {},
   "outputs": [],
   "source": [
    "newdf.loc[0,0]=100 # adds an extra column with 0 as its label"
   ]
  },
  {
   "cell_type": "code",
   "execution_count": 58,
   "id": "c39ab9a3",
   "metadata": {},
   "outputs": [
    {
     "data": {
      "text/html": [
       "<div>\n",
       "<style scoped>\n",
       "    .dataframe tbody tr th:only-of-type {\n",
       "        vertical-align: middle;\n",
       "    }\n",
       "\n",
       "    .dataframe tbody tr th {\n",
       "        vertical-align: top;\n",
       "    }\n",
       "\n",
       "    .dataframe thead th {\n",
       "        text-align: right;\n",
       "    }\n",
       "</style>\n",
       "<table border=\"1\" class=\"dataframe\">\n",
       "  <thead>\n",
       "    <tr style=\"text-align: right;\">\n",
       "      <th></th>\n",
       "      <th>A</th>\n",
       "      <th>B</th>\n",
       "      <th>C</th>\n",
       "      <th>D</th>\n",
       "      <th>E</th>\n",
       "      <th>0</th>\n",
       "    </tr>\n",
       "  </thead>\n",
       "  <tbody>\n",
       "    <tr>\n",
       "      <th>0</th>\n",
       "      <td>1</td>\n",
       "      <td>0.466023</td>\n",
       "      <td>4454.000000</td>\n",
       "      <td>0.478882</td>\n",
       "      <td>0.846913</td>\n",
       "      <td>100.0</td>\n",
       "    </tr>\n",
       "    <tr>\n",
       "      <th>1</th>\n",
       "      <td>0.913672</td>\n",
       "      <td>0.586304</td>\n",
       "      <td>0.761903</td>\n",
       "      <td>0.453714</td>\n",
       "      <td>0.045113</td>\n",
       "      <td>NaN</td>\n",
       "    </tr>\n",
       "    <tr>\n",
       "      <th>2</th>\n",
       "      <td>0.703188</td>\n",
       "      <td>0.294033</td>\n",
       "      <td>0.798553</td>\n",
       "      <td>0.681721</td>\n",
       "      <td>0.282514</td>\n",
       "      <td>NaN</td>\n",
       "    </tr>\n",
       "    <tr>\n",
       "      <th>3</th>\n",
       "      <td>0.758696</td>\n",
       "      <td>0.870107</td>\n",
       "      <td>0.103961</td>\n",
       "      <td>0.593302</td>\n",
       "      <td>0.131365</td>\n",
       "      <td>NaN</td>\n",
       "    </tr>\n",
       "    <tr>\n",
       "      <th>4</th>\n",
       "      <td>0.085147</td>\n",
       "      <td>0.403180</td>\n",
       "      <td>0.790300</td>\n",
       "      <td>0.711646</td>\n",
       "      <td>0.920102</td>\n",
       "      <td>NaN</td>\n",
       "    </tr>\n",
       "    <tr>\n",
       "      <th>...</th>\n",
       "      <td>...</td>\n",
       "      <td>...</td>\n",
       "      <td>...</td>\n",
       "      <td>...</td>\n",
       "      <td>...</td>\n",
       "      <td>...</td>\n",
       "    </tr>\n",
       "    <tr>\n",
       "      <th>329</th>\n",
       "      <td>0.664052</td>\n",
       "      <td>0.874155</td>\n",
       "      <td>0.910846</td>\n",
       "      <td>0.358662</td>\n",
       "      <td>0.660002</td>\n",
       "      <td>NaN</td>\n",
       "    </tr>\n",
       "    <tr>\n",
       "      <th>330</th>\n",
       "      <td>0.849185</td>\n",
       "      <td>0.348962</td>\n",
       "      <td>0.903993</td>\n",
       "      <td>0.908577</td>\n",
       "      <td>0.564370</td>\n",
       "      <td>NaN</td>\n",
       "    </tr>\n",
       "    <tr>\n",
       "      <th>331</th>\n",
       "      <td>0.507964</td>\n",
       "      <td>0.903428</td>\n",
       "      <td>0.092433</td>\n",
       "      <td>0.974950</td>\n",
       "      <td>0.905415</td>\n",
       "      <td>NaN</td>\n",
       "    </tr>\n",
       "    <tr>\n",
       "      <th>332</th>\n",
       "      <td>0.286384</td>\n",
       "      <td>0.708574</td>\n",
       "      <td>0.342657</td>\n",
       "      <td>0.896959</td>\n",
       "      <td>0.667065</td>\n",
       "      <td>NaN</td>\n",
       "    </tr>\n",
       "    <tr>\n",
       "      <th>333</th>\n",
       "      <td>0.229084</td>\n",
       "      <td>0.100015</td>\n",
       "      <td>0.685370</td>\n",
       "      <td>0.824870</td>\n",
       "      <td>0.409014</td>\n",
       "      <td>NaN</td>\n",
       "    </tr>\n",
       "  </tbody>\n",
       "</table>\n",
       "<p>334 rows × 6 columns</p>\n",
       "</div>"
      ],
      "text/plain": [
       "            A         B            C         D         E      0\n",
       "0           1  0.466023  4454.000000  0.478882  0.846913  100.0\n",
       "1    0.913672  0.586304     0.761903  0.453714  0.045113    NaN\n",
       "2    0.703188  0.294033     0.798553  0.681721  0.282514    NaN\n",
       "3    0.758696  0.870107     0.103961  0.593302  0.131365    NaN\n",
       "4    0.085147  0.403180     0.790300  0.711646  0.920102    NaN\n",
       "..        ...       ...          ...       ...       ...    ...\n",
       "329  0.664052  0.874155     0.910846  0.358662  0.660002    NaN\n",
       "330  0.849185  0.348962     0.903993  0.908577  0.564370    NaN\n",
       "331  0.507964  0.903428     0.092433  0.974950  0.905415    NaN\n",
       "332  0.286384  0.708574     0.342657  0.896959  0.667065    NaN\n",
       "333  0.229084  0.100015     0.685370  0.824870  0.409014    NaN\n",
       "\n",
       "[334 rows x 6 columns]"
      ]
     },
     "execution_count": 58,
     "metadata": {},
     "output_type": "execute_result"
    }
   ],
   "source": [
    "newdf"
   ]
  },
  {
   "cell_type": "code",
   "execution_count": 59,
   "id": "1b26e19b",
   "metadata": {},
   "outputs": [],
   "source": [
    "# To remove an extra column from the dataframe we use drop"
   ]
  },
  {
   "cell_type": "code",
   "execution_count": 60,
   "id": "4ee384c4",
   "metadata": {},
   "outputs": [],
   "source": [
    "newdf=newdf.drop(0,axis=1)# By default axis=0, also mention the name of the columns"
   ]
  },
  {
   "cell_type": "code",
   "execution_count": 61,
   "id": "f13aa0e6",
   "metadata": {},
   "outputs": [
    {
     "data": {
      "text/html": [
       "<div>\n",
       "<style scoped>\n",
       "    .dataframe tbody tr th:only-of-type {\n",
       "        vertical-align: middle;\n",
       "    }\n",
       "\n",
       "    .dataframe tbody tr th {\n",
       "        vertical-align: top;\n",
       "    }\n",
       "\n",
       "    .dataframe thead th {\n",
       "        text-align: right;\n",
       "    }\n",
       "</style>\n",
       "<table border=\"1\" class=\"dataframe\">\n",
       "  <thead>\n",
       "    <tr style=\"text-align: right;\">\n",
       "      <th></th>\n",
       "      <th>A</th>\n",
       "      <th>B</th>\n",
       "      <th>C</th>\n",
       "      <th>D</th>\n",
       "      <th>E</th>\n",
       "    </tr>\n",
       "  </thead>\n",
       "  <tbody>\n",
       "    <tr>\n",
       "      <th>0</th>\n",
       "      <td>1</td>\n",
       "      <td>0.466023</td>\n",
       "      <td>4454.000000</td>\n",
       "      <td>0.478882</td>\n",
       "      <td>0.846913</td>\n",
       "    </tr>\n",
       "    <tr>\n",
       "      <th>1</th>\n",
       "      <td>0.913672</td>\n",
       "      <td>0.586304</td>\n",
       "      <td>0.761903</td>\n",
       "      <td>0.453714</td>\n",
       "      <td>0.045113</td>\n",
       "    </tr>\n",
       "    <tr>\n",
       "      <th>2</th>\n",
       "      <td>0.703188</td>\n",
       "      <td>0.294033</td>\n",
       "      <td>0.798553</td>\n",
       "      <td>0.681721</td>\n",
       "      <td>0.282514</td>\n",
       "    </tr>\n",
       "    <tr>\n",
       "      <th>3</th>\n",
       "      <td>0.758696</td>\n",
       "      <td>0.870107</td>\n",
       "      <td>0.103961</td>\n",
       "      <td>0.593302</td>\n",
       "      <td>0.131365</td>\n",
       "    </tr>\n",
       "    <tr>\n",
       "      <th>4</th>\n",
       "      <td>0.085147</td>\n",
       "      <td>0.403180</td>\n",
       "      <td>0.790300</td>\n",
       "      <td>0.711646</td>\n",
       "      <td>0.920102</td>\n",
       "    </tr>\n",
       "    <tr>\n",
       "      <th>...</th>\n",
       "      <td>...</td>\n",
       "      <td>...</td>\n",
       "      <td>...</td>\n",
       "      <td>...</td>\n",
       "      <td>...</td>\n",
       "    </tr>\n",
       "    <tr>\n",
       "      <th>329</th>\n",
       "      <td>0.664052</td>\n",
       "      <td>0.874155</td>\n",
       "      <td>0.910846</td>\n",
       "      <td>0.358662</td>\n",
       "      <td>0.660002</td>\n",
       "    </tr>\n",
       "    <tr>\n",
       "      <th>330</th>\n",
       "      <td>0.849185</td>\n",
       "      <td>0.348962</td>\n",
       "      <td>0.903993</td>\n",
       "      <td>0.908577</td>\n",
       "      <td>0.564370</td>\n",
       "    </tr>\n",
       "    <tr>\n",
       "      <th>331</th>\n",
       "      <td>0.507964</td>\n",
       "      <td>0.903428</td>\n",
       "      <td>0.092433</td>\n",
       "      <td>0.974950</td>\n",
       "      <td>0.905415</td>\n",
       "    </tr>\n",
       "    <tr>\n",
       "      <th>332</th>\n",
       "      <td>0.286384</td>\n",
       "      <td>0.708574</td>\n",
       "      <td>0.342657</td>\n",
       "      <td>0.896959</td>\n",
       "      <td>0.667065</td>\n",
       "    </tr>\n",
       "    <tr>\n",
       "      <th>333</th>\n",
       "      <td>0.229084</td>\n",
       "      <td>0.100015</td>\n",
       "      <td>0.685370</td>\n",
       "      <td>0.824870</td>\n",
       "      <td>0.409014</td>\n",
       "    </tr>\n",
       "  </tbody>\n",
       "</table>\n",
       "<p>334 rows × 5 columns</p>\n",
       "</div>"
      ],
      "text/plain": [
       "            A         B            C         D         E\n",
       "0           1  0.466023  4454.000000  0.478882  0.846913\n",
       "1    0.913672  0.586304     0.761903  0.453714  0.045113\n",
       "2    0.703188  0.294033     0.798553  0.681721  0.282514\n",
       "3    0.758696  0.870107     0.103961  0.593302  0.131365\n",
       "4    0.085147  0.403180     0.790300  0.711646  0.920102\n",
       "..        ...       ...          ...       ...       ...\n",
       "329  0.664052  0.874155     0.910846  0.358662  0.660002\n",
       "330  0.849185  0.348962     0.903993  0.908577  0.564370\n",
       "331  0.507964  0.903428     0.092433  0.974950  0.905415\n",
       "332  0.286384  0.708574     0.342657  0.896959  0.667065\n",
       "333  0.229084  0.100015     0.685370  0.824870  0.409014\n",
       "\n",
       "[334 rows x 5 columns]"
      ]
     },
     "execution_count": 61,
     "metadata": {},
     "output_type": "execute_result"
    }
   ],
   "source": [
    "newdf"
   ]
  },
  {
   "cell_type": "code",
   "execution_count": 62,
   "id": "dc9ad947",
   "metadata": {},
   "outputs": [],
   "source": [
    "# .loc is used to access the elements passed in the arguements"
   ]
  },
  {
   "cell_type": "code",
   "execution_count": 63,
   "id": "03fabb37",
   "metadata": {},
   "outputs": [
    {
     "data": {
      "text/html": [
       "<div>\n",
       "<style scoped>\n",
       "    .dataframe tbody tr th:only-of-type {\n",
       "        vertical-align: middle;\n",
       "    }\n",
       "\n",
       "    .dataframe tbody tr th {\n",
       "        vertical-align: top;\n",
       "    }\n",
       "\n",
       "    .dataframe thead th {\n",
       "        text-align: right;\n",
       "    }\n",
       "</style>\n",
       "<table border=\"1\" class=\"dataframe\">\n",
       "  <thead>\n",
       "    <tr style=\"text-align: right;\">\n",
       "      <th></th>\n",
       "      <th>C</th>\n",
       "      <th>D</th>\n",
       "    </tr>\n",
       "  </thead>\n",
       "  <tbody>\n",
       "    <tr>\n",
       "      <th>1</th>\n",
       "      <td>0.761903</td>\n",
       "      <td>0.453714</td>\n",
       "    </tr>\n",
       "    <tr>\n",
       "      <th>2</th>\n",
       "      <td>0.798553</td>\n",
       "      <td>0.681721</td>\n",
       "    </tr>\n",
       "  </tbody>\n",
       "</table>\n",
       "</div>"
      ],
      "text/plain": [
       "          C         D\n",
       "1  0.761903  0.453714\n",
       "2  0.798553  0.681721"
      ]
     },
     "execution_count": 63,
     "metadata": {},
     "output_type": "execute_result"
    }
   ],
   "source": [
    "newdf.loc[[1,2],['C','D']] # Returns a new dataframe with aforementioned rows,columns"
   ]
  },
  {
   "cell_type": "code",
   "execution_count": 64,
   "id": "26e44a91",
   "metadata": {},
   "outputs": [
    {
     "data": {
      "text/html": [
       "<div>\n",
       "<style scoped>\n",
       "    .dataframe tbody tr th:only-of-type {\n",
       "        vertical-align: middle;\n",
       "    }\n",
       "\n",
       "    .dataframe tbody tr th {\n",
       "        vertical-align: top;\n",
       "    }\n",
       "\n",
       "    .dataframe thead th {\n",
       "        text-align: right;\n",
       "    }\n",
       "</style>\n",
       "<table border=\"1\" class=\"dataframe\">\n",
       "  <thead>\n",
       "    <tr style=\"text-align: right;\">\n",
       "      <th></th>\n",
       "      <th>A</th>\n",
       "      <th>B</th>\n",
       "    </tr>\n",
       "  </thead>\n",
       "  <tbody>\n",
       "    <tr>\n",
       "      <th>0</th>\n",
       "      <td>1</td>\n",
       "      <td>0.466023</td>\n",
       "    </tr>\n",
       "    <tr>\n",
       "      <th>1</th>\n",
       "      <td>0.913672</td>\n",
       "      <td>0.586304</td>\n",
       "    </tr>\n",
       "    <tr>\n",
       "      <th>2</th>\n",
       "      <td>0.703188</td>\n",
       "      <td>0.294033</td>\n",
       "    </tr>\n",
       "    <tr>\n",
       "      <th>3</th>\n",
       "      <td>0.758696</td>\n",
       "      <td>0.870107</td>\n",
       "    </tr>\n",
       "    <tr>\n",
       "      <th>4</th>\n",
       "      <td>0.085147</td>\n",
       "      <td>0.403180</td>\n",
       "    </tr>\n",
       "    <tr>\n",
       "      <th>...</th>\n",
       "      <td>...</td>\n",
       "      <td>...</td>\n",
       "    </tr>\n",
       "    <tr>\n",
       "      <th>329</th>\n",
       "      <td>0.664052</td>\n",
       "      <td>0.874155</td>\n",
       "    </tr>\n",
       "    <tr>\n",
       "      <th>330</th>\n",
       "      <td>0.849185</td>\n",
       "      <td>0.348962</td>\n",
       "    </tr>\n",
       "    <tr>\n",
       "      <th>331</th>\n",
       "      <td>0.507964</td>\n",
       "      <td>0.903428</td>\n",
       "    </tr>\n",
       "    <tr>\n",
       "      <th>332</th>\n",
       "      <td>0.286384</td>\n",
       "      <td>0.708574</td>\n",
       "    </tr>\n",
       "    <tr>\n",
       "      <th>333</th>\n",
       "      <td>0.229084</td>\n",
       "      <td>0.100015</td>\n",
       "    </tr>\n",
       "  </tbody>\n",
       "</table>\n",
       "<p>334 rows × 2 columns</p>\n",
       "</div>"
      ],
      "text/plain": [
       "            A         B\n",
       "0           1  0.466023\n",
       "1    0.913672  0.586304\n",
       "2    0.703188  0.294033\n",
       "3    0.758696  0.870107\n",
       "4    0.085147  0.403180\n",
       "..        ...       ...\n",
       "329  0.664052  0.874155\n",
       "330  0.849185  0.348962\n",
       "331  0.507964  0.903428\n",
       "332  0.286384  0.708574\n",
       "333  0.229084  0.100015\n",
       "\n",
       "[334 rows x 2 columns]"
      ]
     },
     "execution_count": 64,
     "metadata": {},
     "output_type": "execute_result"
    }
   ],
   "source": [
    "newdf.loc[:,['A','B']]"
   ]
  },
  {
   "cell_type": "code",
   "execution_count": 65,
   "id": "e8fc9faf",
   "metadata": {},
   "outputs": [
    {
     "data": {
      "text/html": [
       "<div>\n",
       "<style scoped>\n",
       "    .dataframe tbody tr th:only-of-type {\n",
       "        vertical-align: middle;\n",
       "    }\n",
       "\n",
       "    .dataframe tbody tr th {\n",
       "        vertical-align: top;\n",
       "    }\n",
       "\n",
       "    .dataframe thead th {\n",
       "        text-align: right;\n",
       "    }\n",
       "</style>\n",
       "<table border=\"1\" class=\"dataframe\">\n",
       "  <thead>\n",
       "    <tr style=\"text-align: right;\">\n",
       "      <th></th>\n",
       "      <th>A</th>\n",
       "      <th>B</th>\n",
       "      <th>C</th>\n",
       "      <th>D</th>\n",
       "      <th>E</th>\n",
       "    </tr>\n",
       "  </thead>\n",
       "  <tbody>\n",
       "    <tr>\n",
       "      <th>1</th>\n",
       "      <td>0.913672</td>\n",
       "      <td>0.586304</td>\n",
       "      <td>0.761903</td>\n",
       "      <td>0.453714</td>\n",
       "      <td>0.045113</td>\n",
       "    </tr>\n",
       "    <tr>\n",
       "      <th>2</th>\n",
       "      <td>0.703188</td>\n",
       "      <td>0.294033</td>\n",
       "      <td>0.798553</td>\n",
       "      <td>0.681721</td>\n",
       "      <td>0.282514</td>\n",
       "    </tr>\n",
       "  </tbody>\n",
       "</table>\n",
       "</div>"
      ],
      "text/plain": [
       "          A         B         C         D         E\n",
       "1  0.913672  0.586304  0.761903  0.453714  0.045113\n",
       "2  0.703188  0.294033  0.798553  0.681721  0.282514"
      ]
     },
     "execution_count": 65,
     "metadata": {},
     "output_type": "execute_result"
    }
   ],
   "source": [
    "newdf.loc[[1,2],:]"
   ]
  },
  {
   "cell_type": "code",
   "execution_count": 66,
   "id": "b18ac5ed",
   "metadata": {},
   "outputs": [
    {
     "data": {
      "text/html": [
       "<div>\n",
       "<style scoped>\n",
       "    .dataframe tbody tr th:only-of-type {\n",
       "        vertical-align: middle;\n",
       "    }\n",
       "\n",
       "    .dataframe tbody tr th {\n",
       "        vertical-align: top;\n",
       "    }\n",
       "\n",
       "    .dataframe thead th {\n",
       "        text-align: right;\n",
       "    }\n",
       "</style>\n",
       "<table border=\"1\" class=\"dataframe\">\n",
       "  <thead>\n",
       "    <tr style=\"text-align: right;\">\n",
       "      <th></th>\n",
       "      <th>A</th>\n",
       "      <th>B</th>\n",
       "      <th>C</th>\n",
       "      <th>D</th>\n",
       "      <th>E</th>\n",
       "    </tr>\n",
       "  </thead>\n",
       "  <tbody>\n",
       "    <tr>\n",
       "      <th>4</th>\n",
       "      <td>0.085147</td>\n",
       "      <td>0.403180</td>\n",
       "      <td>0.790300</td>\n",
       "      <td>0.711646</td>\n",
       "      <td>0.920102</td>\n",
       "    </tr>\n",
       "    <tr>\n",
       "      <th>5</th>\n",
       "      <td>0.220194</td>\n",
       "      <td>0.243711</td>\n",
       "      <td>0.499444</td>\n",
       "      <td>0.190554</td>\n",
       "      <td>0.211543</td>\n",
       "    </tr>\n",
       "    <tr>\n",
       "      <th>6</th>\n",
       "      <td>0.097494</td>\n",
       "      <td>0.187555</td>\n",
       "      <td>0.433556</td>\n",
       "      <td>0.518750</td>\n",
       "      <td>0.274906</td>\n",
       "    </tr>\n",
       "    <tr>\n",
       "      <th>7</th>\n",
       "      <td>0.170913</td>\n",
       "      <td>0.995518</td>\n",
       "      <td>0.078455</td>\n",
       "      <td>0.130782</td>\n",
       "      <td>0.096627</td>\n",
       "    </tr>\n",
       "    <tr>\n",
       "      <th>9</th>\n",
       "      <td>0.251821</td>\n",
       "      <td>0.724452</td>\n",
       "      <td>0.996727</td>\n",
       "      <td>0.800803</td>\n",
       "      <td>0.482183</td>\n",
       "    </tr>\n",
       "    <tr>\n",
       "      <th>...</th>\n",
       "      <td>...</td>\n",
       "      <td>...</td>\n",
       "      <td>...</td>\n",
       "      <td>...</td>\n",
       "      <td>...</td>\n",
       "    </tr>\n",
       "    <tr>\n",
       "      <th>322</th>\n",
       "      <td>0.189588</td>\n",
       "      <td>0.563635</td>\n",
       "      <td>0.439632</td>\n",
       "      <td>0.471540</td>\n",
       "      <td>0.418976</td>\n",
       "    </tr>\n",
       "    <tr>\n",
       "      <th>323</th>\n",
       "      <td>0.248191</td>\n",
       "      <td>0.827262</td>\n",
       "      <td>0.186969</td>\n",
       "      <td>0.449989</td>\n",
       "      <td>0.865901</td>\n",
       "    </tr>\n",
       "    <tr>\n",
       "      <th>325</th>\n",
       "      <td>0.212019</td>\n",
       "      <td>0.528975</td>\n",
       "      <td>0.999931</td>\n",
       "      <td>0.259337</td>\n",
       "      <td>0.317388</td>\n",
       "    </tr>\n",
       "    <tr>\n",
       "      <th>332</th>\n",
       "      <td>0.286384</td>\n",
       "      <td>0.708574</td>\n",
       "      <td>0.342657</td>\n",
       "      <td>0.896959</td>\n",
       "      <td>0.667065</td>\n",
       "    </tr>\n",
       "    <tr>\n",
       "      <th>333</th>\n",
       "      <td>0.229084</td>\n",
       "      <td>0.100015</td>\n",
       "      <td>0.685370</td>\n",
       "      <td>0.824870</td>\n",
       "      <td>0.409014</td>\n",
       "    </tr>\n",
       "  </tbody>\n",
       "</table>\n",
       "<p>102 rows × 5 columns</p>\n",
       "</div>"
      ],
      "text/plain": [
       "            A         B         C         D         E\n",
       "4    0.085147  0.403180  0.790300  0.711646  0.920102\n",
       "5    0.220194  0.243711  0.499444  0.190554  0.211543\n",
       "6    0.097494  0.187555  0.433556  0.518750  0.274906\n",
       "7    0.170913  0.995518  0.078455  0.130782  0.096627\n",
       "9    0.251821  0.724452  0.996727  0.800803  0.482183\n",
       "..        ...       ...       ...       ...       ...\n",
       "322  0.189588  0.563635  0.439632  0.471540  0.418976\n",
       "323  0.248191  0.827262  0.186969  0.449989  0.865901\n",
       "325  0.212019  0.528975  0.999931  0.259337  0.317388\n",
       "332  0.286384  0.708574  0.342657  0.896959  0.667065\n",
       "333  0.229084  0.100015  0.685370  0.824870  0.409014\n",
       "\n",
       "[102 rows x 5 columns]"
      ]
     },
     "execution_count": 66,
     "metadata": {},
     "output_type": "execute_result"
    }
   ],
   "source": [
    "newdf.loc[(newdf['A']<0.3)] # returns all the rows which have value <0.3 in column 'A'"
   ]
  },
  {
   "cell_type": "code",
   "execution_count": 67,
   "id": "fe1b0b48",
   "metadata": {},
   "outputs": [
    {
     "data": {
      "text/html": [
       "<div>\n",
       "<style scoped>\n",
       "    .dataframe tbody tr th:only-of-type {\n",
       "        vertical-align: middle;\n",
       "    }\n",
       "\n",
       "    .dataframe tbody tr th {\n",
       "        vertical-align: top;\n",
       "    }\n",
       "\n",
       "    .dataframe thead th {\n",
       "        text-align: right;\n",
       "    }\n",
       "</style>\n",
       "<table border=\"1\" class=\"dataframe\">\n",
       "  <thead>\n",
       "    <tr style=\"text-align: right;\">\n",
       "      <th></th>\n",
       "      <th>A</th>\n",
       "      <th>B</th>\n",
       "      <th>C</th>\n",
       "      <th>D</th>\n",
       "      <th>E</th>\n",
       "    </tr>\n",
       "  </thead>\n",
       "  <tbody>\n",
       "    <tr>\n",
       "      <th>2</th>\n",
       "      <td>0.703188</td>\n",
       "      <td>0.294033</td>\n",
       "      <td>0.798553</td>\n",
       "      <td>0.681721</td>\n",
       "      <td>0.282514</td>\n",
       "    </tr>\n",
       "    <tr>\n",
       "      <th>3</th>\n",
       "      <td>0.758696</td>\n",
       "      <td>0.870107</td>\n",
       "      <td>0.103961</td>\n",
       "      <td>0.593302</td>\n",
       "      <td>0.131365</td>\n",
       "    </tr>\n",
       "    <tr>\n",
       "      <th>13</th>\n",
       "      <td>0.475741</td>\n",
       "      <td>0.174523</td>\n",
       "      <td>0.388232</td>\n",
       "      <td>0.215847</td>\n",
       "      <td>0.281466</td>\n",
       "    </tr>\n",
       "    <tr>\n",
       "      <th>15</th>\n",
       "      <td>0.709244</td>\n",
       "      <td>0.252371</td>\n",
       "      <td>0.010466</td>\n",
       "      <td>0.266711</td>\n",
       "      <td>0.660338</td>\n",
       "    </tr>\n",
       "    <tr>\n",
       "      <th>18</th>\n",
       "      <td>0.484978</td>\n",
       "      <td>0.401116</td>\n",
       "      <td>0.394416</td>\n",
       "      <td>0.056658</td>\n",
       "      <td>0.183139</td>\n",
       "    </tr>\n",
       "    <tr>\n",
       "      <th>...</th>\n",
       "      <td>...</td>\n",
       "      <td>...</td>\n",
       "      <td>...</td>\n",
       "      <td>...</td>\n",
       "      <td>...</td>\n",
       "    </tr>\n",
       "    <tr>\n",
       "      <th>321</th>\n",
       "      <td>0.610946</td>\n",
       "      <td>0.807400</td>\n",
       "      <td>0.198198</td>\n",
       "      <td>0.269059</td>\n",
       "      <td>0.083316</td>\n",
       "    </tr>\n",
       "    <tr>\n",
       "      <th>326</th>\n",
       "      <td>0.479026</td>\n",
       "      <td>0.171082</td>\n",
       "      <td>0.430151</td>\n",
       "      <td>0.639022</td>\n",
       "      <td>0.080709</td>\n",
       "    </tr>\n",
       "    <tr>\n",
       "      <th>327</th>\n",
       "      <td>0.587038</td>\n",
       "      <td>0.376173</td>\n",
       "      <td>0.592981</td>\n",
       "      <td>0.865079</td>\n",
       "      <td>0.796261</td>\n",
       "    </tr>\n",
       "    <tr>\n",
       "      <th>329</th>\n",
       "      <td>0.664052</td>\n",
       "      <td>0.874155</td>\n",
       "      <td>0.910846</td>\n",
       "      <td>0.358662</td>\n",
       "      <td>0.660002</td>\n",
       "    </tr>\n",
       "    <tr>\n",
       "      <th>331</th>\n",
       "      <td>0.507964</td>\n",
       "      <td>0.903428</td>\n",
       "      <td>0.092433</td>\n",
       "      <td>0.974950</td>\n",
       "      <td>0.905415</td>\n",
       "    </tr>\n",
       "  </tbody>\n",
       "</table>\n",
       "<p>166 rows × 5 columns</p>\n",
       "</div>"
      ],
      "text/plain": [
       "            A         B         C         D         E\n",
       "2    0.703188  0.294033  0.798553  0.681721  0.282514\n",
       "3    0.758696  0.870107  0.103961  0.593302  0.131365\n",
       "13   0.475741  0.174523  0.388232  0.215847  0.281466\n",
       "15   0.709244  0.252371  0.010466  0.266711  0.660338\n",
       "18   0.484978  0.401116  0.394416  0.056658  0.183139\n",
       "..        ...       ...       ...       ...       ...\n",
       "321  0.610946  0.807400  0.198198  0.269059  0.083316\n",
       "326  0.479026  0.171082  0.430151  0.639022  0.080709\n",
       "327  0.587038  0.376173  0.592981  0.865079  0.796261\n",
       "329  0.664052  0.874155  0.910846  0.358662  0.660002\n",
       "331  0.507964  0.903428  0.092433  0.974950  0.905415\n",
       "\n",
       "[166 rows x 5 columns]"
      ]
     },
     "execution_count": 67,
     "metadata": {},
     "output_type": "execute_result"
    }
   ],
   "source": [
    "newdf.loc[(newdf['A']>0.3) & (newdf['A']<0.8)]"
   ]
  },
  {
   "cell_type": "code",
   "execution_count": 68,
   "id": "46d0ec66",
   "metadata": {},
   "outputs": [
    {
     "data": {
      "text/plain": [
       "0.4788817173000146"
      ]
     },
     "execution_count": 68,
     "metadata": {},
     "output_type": "execute_result"
    }
   ],
   "source": [
    "newdf.iloc[0,3]# prints the 4th column value of the 1st row"
   ]
  },
  {
   "cell_type": "code",
   "execution_count": 69,
   "id": "15d3f798",
   "metadata": {},
   "outputs": [
    {
     "data": {
      "text/html": [
       "<div>\n",
       "<style scoped>\n",
       "    .dataframe tbody tr th:only-of-type {\n",
       "        vertical-align: middle;\n",
       "    }\n",
       "\n",
       "    .dataframe tbody tr th {\n",
       "        vertical-align: top;\n",
       "    }\n",
       "\n",
       "    .dataframe thead th {\n",
       "        text-align: right;\n",
       "    }\n",
       "</style>\n",
       "<table border=\"1\" class=\"dataframe\">\n",
       "  <thead>\n",
       "    <tr style=\"text-align: right;\">\n",
       "      <th></th>\n",
       "      <th>B</th>\n",
       "      <th>A</th>\n",
       "    </tr>\n",
       "  </thead>\n",
       "  <tbody>\n",
       "    <tr>\n",
       "      <th>0</th>\n",
       "      <td>0.466023</td>\n",
       "      <td>1</td>\n",
       "    </tr>\n",
       "    <tr>\n",
       "      <th>3</th>\n",
       "      <td>0.870107</td>\n",
       "      <td>0.758696</td>\n",
       "    </tr>\n",
       "  </tbody>\n",
       "</table>\n",
       "</div>"
      ],
      "text/plain": [
       "          B         A\n",
       "0  0.466023         1\n",
       "3  0.870107  0.758696"
      ]
     },
     "execution_count": 69,
     "metadata": {},
     "output_type": "execute_result"
    }
   ],
   "source": [
    "newdf.iloc[[0,3],[1,0]]# iloc allows us to use the actual index of the rows and columns instead of any explicit assigned names"
   ]
  },
  {
   "cell_type": "code",
   "execution_count": 70,
   "id": "6e942e3c",
   "metadata": {},
   "outputs": [
    {
     "data": {
      "text/html": [
       "<div>\n",
       "<style scoped>\n",
       "    .dataframe tbody tr th:only-of-type {\n",
       "        vertical-align: middle;\n",
       "    }\n",
       "\n",
       "    .dataframe tbody tr th {\n",
       "        vertical-align: top;\n",
       "    }\n",
       "\n",
       "    .dataframe thead th {\n",
       "        text-align: right;\n",
       "    }\n",
       "</style>\n",
       "<table border=\"1\" class=\"dataframe\">\n",
       "  <thead>\n",
       "    <tr style=\"text-align: right;\">\n",
       "      <th></th>\n",
       "      <th>A</th>\n",
       "      <th>B</th>\n",
       "      <th>C</th>\n",
       "      <th>D</th>\n",
       "      <th>E</th>\n",
       "    </tr>\n",
       "  </thead>\n",
       "  <tbody>\n",
       "    <tr>\n",
       "      <th>0</th>\n",
       "      <td>1</td>\n",
       "      <td>0.466023</td>\n",
       "      <td>4454.000000</td>\n",
       "      <td>0.478882</td>\n",
       "      <td>0.846913</td>\n",
       "    </tr>\n",
       "    <tr>\n",
       "      <th>1</th>\n",
       "      <td>0.913672</td>\n",
       "      <td>0.586304</td>\n",
       "      <td>0.761903</td>\n",
       "      <td>0.453714</td>\n",
       "      <td>0.045113</td>\n",
       "    </tr>\n",
       "    <tr>\n",
       "      <th>2</th>\n",
       "      <td>0.703188</td>\n",
       "      <td>0.294033</td>\n",
       "      <td>0.798553</td>\n",
       "      <td>0.681721</td>\n",
       "      <td>0.282514</td>\n",
       "    </tr>\n",
       "    <tr>\n",
       "      <th>3</th>\n",
       "      <td>0.758696</td>\n",
       "      <td>0.870107</td>\n",
       "      <td>0.103961</td>\n",
       "      <td>0.593302</td>\n",
       "      <td>0.131365</td>\n",
       "    </tr>\n",
       "    <tr>\n",
       "      <th>4</th>\n",
       "      <td>0.085147</td>\n",
       "      <td>0.403180</td>\n",
       "      <td>0.790300</td>\n",
       "      <td>0.711646</td>\n",
       "      <td>0.920102</td>\n",
       "    </tr>\n",
       "  </tbody>\n",
       "</table>\n",
       "</div>"
      ],
      "text/plain": [
       "          A         B            C         D         E\n",
       "0         1  0.466023  4454.000000  0.478882  0.846913\n",
       "1  0.913672  0.586304     0.761903  0.453714  0.045113\n",
       "2  0.703188  0.294033     0.798553  0.681721  0.282514\n",
       "3  0.758696  0.870107     0.103961  0.593302  0.131365\n",
       "4  0.085147  0.403180     0.790300  0.711646  0.920102"
      ]
     },
     "execution_count": 70,
     "metadata": {},
     "output_type": "execute_result"
    }
   ],
   "source": [
    "newdf.head()"
   ]
  },
  {
   "cell_type": "code",
   "execution_count": 71,
   "id": "c9285a91",
   "metadata": {},
   "outputs": [
    {
     "data": {
      "text/html": [
       "<div>\n",
       "<style scoped>\n",
       "    .dataframe tbody tr th:only-of-type {\n",
       "        vertical-align: middle;\n",
       "    }\n",
       "\n",
       "    .dataframe tbody tr th {\n",
       "        vertical-align: top;\n",
       "    }\n",
       "\n",
       "    .dataframe thead th {\n",
       "        text-align: right;\n",
       "    }\n",
       "</style>\n",
       "<table border=\"1\" class=\"dataframe\">\n",
       "  <thead>\n",
       "    <tr style=\"text-align: right;\">\n",
       "      <th></th>\n",
       "      <th>B</th>\n",
       "      <th>D</th>\n",
       "      <th>E</th>\n",
       "    </tr>\n",
       "  </thead>\n",
       "  <tbody>\n",
       "    <tr>\n",
       "      <th>0</th>\n",
       "      <td>0.466023</td>\n",
       "      <td>0.478882</td>\n",
       "      <td>0.846913</td>\n",
       "    </tr>\n",
       "    <tr>\n",
       "      <th>1</th>\n",
       "      <td>0.586304</td>\n",
       "      <td>0.453714</td>\n",
       "      <td>0.045113</td>\n",
       "    </tr>\n",
       "    <tr>\n",
       "      <th>2</th>\n",
       "      <td>0.294033</td>\n",
       "      <td>0.681721</td>\n",
       "      <td>0.282514</td>\n",
       "    </tr>\n",
       "    <tr>\n",
       "      <th>3</th>\n",
       "      <td>0.870107</td>\n",
       "      <td>0.593302</td>\n",
       "      <td>0.131365</td>\n",
       "    </tr>\n",
       "    <tr>\n",
       "      <th>4</th>\n",
       "      <td>0.403180</td>\n",
       "      <td>0.711646</td>\n",
       "      <td>0.920102</td>\n",
       "    </tr>\n",
       "    <tr>\n",
       "      <th>...</th>\n",
       "      <td>...</td>\n",
       "      <td>...</td>\n",
       "      <td>...</td>\n",
       "    </tr>\n",
       "    <tr>\n",
       "      <th>329</th>\n",
       "      <td>0.874155</td>\n",
       "      <td>0.358662</td>\n",
       "      <td>0.660002</td>\n",
       "    </tr>\n",
       "    <tr>\n",
       "      <th>330</th>\n",
       "      <td>0.348962</td>\n",
       "      <td>0.908577</td>\n",
       "      <td>0.564370</td>\n",
       "    </tr>\n",
       "    <tr>\n",
       "      <th>331</th>\n",
       "      <td>0.903428</td>\n",
       "      <td>0.974950</td>\n",
       "      <td>0.905415</td>\n",
       "    </tr>\n",
       "    <tr>\n",
       "      <th>332</th>\n",
       "      <td>0.708574</td>\n",
       "      <td>0.896959</td>\n",
       "      <td>0.667065</td>\n",
       "    </tr>\n",
       "    <tr>\n",
       "      <th>333</th>\n",
       "      <td>0.100015</td>\n",
       "      <td>0.824870</td>\n",
       "      <td>0.409014</td>\n",
       "    </tr>\n",
       "  </tbody>\n",
       "</table>\n",
       "<p>334 rows × 3 columns</p>\n",
       "</div>"
      ],
      "text/plain": [
       "            B         D         E\n",
       "0    0.466023  0.478882  0.846913\n",
       "1    0.586304  0.453714  0.045113\n",
       "2    0.294033  0.681721  0.282514\n",
       "3    0.870107  0.593302  0.131365\n",
       "4    0.403180  0.711646  0.920102\n",
       "..        ...       ...       ...\n",
       "329  0.874155  0.358662  0.660002\n",
       "330  0.348962  0.908577  0.564370\n",
       "331  0.903428  0.974950  0.905415\n",
       "332  0.708574  0.896959  0.667065\n",
       "333  0.100015  0.824870  0.409014\n",
       "\n",
       "[334 rows x 3 columns]"
      ]
     },
     "execution_count": 71,
     "metadata": {},
     "output_type": "execute_result"
    }
   ],
   "source": [
    "newdf.drop(['A','C'],axis=1) # note by adding inplace =True , it will make permanent changes to the original dataframe"
   ]
  },
  {
   "cell_type": "code",
   "execution_count": 72,
   "id": "832d145b",
   "metadata": {},
   "outputs": [],
   "source": [
    "newdf.drop(['A','C'], axis=1,inplace=True)"
   ]
  },
  {
   "cell_type": "code",
   "execution_count": 73,
   "id": "4633e8ca",
   "metadata": {},
   "outputs": [],
   "source": [
    "newdf.drop([1,6,8],axis=0,inplace = True)"
   ]
  },
  {
   "cell_type": "code",
   "execution_count": 74,
   "id": "4fcc2235",
   "metadata": {},
   "outputs": [
    {
     "data": {
      "text/html": [
       "<div>\n",
       "<style scoped>\n",
       "    .dataframe tbody tr th:only-of-type {\n",
       "        vertical-align: middle;\n",
       "    }\n",
       "\n",
       "    .dataframe tbody tr th {\n",
       "        vertical-align: top;\n",
       "    }\n",
       "\n",
       "    .dataframe thead th {\n",
       "        text-align: right;\n",
       "    }\n",
       "</style>\n",
       "<table border=\"1\" class=\"dataframe\">\n",
       "  <thead>\n",
       "    <tr style=\"text-align: right;\">\n",
       "      <th></th>\n",
       "      <th>B</th>\n",
       "      <th>D</th>\n",
       "      <th>E</th>\n",
       "    </tr>\n",
       "  </thead>\n",
       "  <tbody>\n",
       "    <tr>\n",
       "      <th>0</th>\n",
       "      <td>0.466023</td>\n",
       "      <td>0.478882</td>\n",
       "      <td>0.846913</td>\n",
       "    </tr>\n",
       "    <tr>\n",
       "      <th>2</th>\n",
       "      <td>0.294033</td>\n",
       "      <td>0.681721</td>\n",
       "      <td>0.282514</td>\n",
       "    </tr>\n",
       "    <tr>\n",
       "      <th>3</th>\n",
       "      <td>0.870107</td>\n",
       "      <td>0.593302</td>\n",
       "      <td>0.131365</td>\n",
       "    </tr>\n",
       "    <tr>\n",
       "      <th>4</th>\n",
       "      <td>0.403180</td>\n",
       "      <td>0.711646</td>\n",
       "      <td>0.920102</td>\n",
       "    </tr>\n",
       "  </tbody>\n",
       "</table>\n",
       "</div>"
      ],
      "text/plain": [
       "          B         D         E\n",
       "0  0.466023  0.478882  0.846913\n",
       "2  0.294033  0.681721  0.282514\n",
       "3  0.870107  0.593302  0.131365\n",
       "4  0.403180  0.711646  0.920102"
      ]
     },
     "execution_count": 74,
     "metadata": {},
     "output_type": "execute_result"
    }
   ],
   "source": [
    "newdf.head(4)"
   ]
  },
  {
   "cell_type": "code",
   "execution_count": 75,
   "id": "73b850fa",
   "metadata": {},
   "outputs": [],
   "source": [
    "newdf.reset_index(drop=True,inplace=True)# resets the index from 0"
   ]
  },
  {
   "cell_type": "code",
   "execution_count": 76,
   "id": "18c9b61a",
   "metadata": {},
   "outputs": [
    {
     "data": {
      "text/html": [
       "<div>\n",
       "<style scoped>\n",
       "    .dataframe tbody tr th:only-of-type {\n",
       "        vertical-align: middle;\n",
       "    }\n",
       "\n",
       "    .dataframe tbody tr th {\n",
       "        vertical-align: top;\n",
       "    }\n",
       "\n",
       "    .dataframe thead th {\n",
       "        text-align: right;\n",
       "    }\n",
       "</style>\n",
       "<table border=\"1\" class=\"dataframe\">\n",
       "  <thead>\n",
       "    <tr style=\"text-align: right;\">\n",
       "      <th></th>\n",
       "      <th>B</th>\n",
       "      <th>D</th>\n",
       "      <th>E</th>\n",
       "    </tr>\n",
       "  </thead>\n",
       "  <tbody>\n",
       "    <tr>\n",
       "      <th>0</th>\n",
       "      <td>0.466023</td>\n",
       "      <td>0.478882</td>\n",
       "      <td>0.846913</td>\n",
       "    </tr>\n",
       "    <tr>\n",
       "      <th>1</th>\n",
       "      <td>0.294033</td>\n",
       "      <td>0.681721</td>\n",
       "      <td>0.282514</td>\n",
       "    </tr>\n",
       "    <tr>\n",
       "      <th>2</th>\n",
       "      <td>0.870107</td>\n",
       "      <td>0.593302</td>\n",
       "      <td>0.131365</td>\n",
       "    </tr>\n",
       "    <tr>\n",
       "      <th>3</th>\n",
       "      <td>0.403180</td>\n",
       "      <td>0.711646</td>\n",
       "      <td>0.920102</td>\n",
       "    </tr>\n",
       "    <tr>\n",
       "      <th>4</th>\n",
       "      <td>0.243711</td>\n",
       "      <td>0.190554</td>\n",
       "      <td>0.211543</td>\n",
       "    </tr>\n",
       "    <tr>\n",
       "      <th>...</th>\n",
       "      <td>...</td>\n",
       "      <td>...</td>\n",
       "      <td>...</td>\n",
       "    </tr>\n",
       "    <tr>\n",
       "      <th>326</th>\n",
       "      <td>0.874155</td>\n",
       "      <td>0.358662</td>\n",
       "      <td>0.660002</td>\n",
       "    </tr>\n",
       "    <tr>\n",
       "      <th>327</th>\n",
       "      <td>0.348962</td>\n",
       "      <td>0.908577</td>\n",
       "      <td>0.564370</td>\n",
       "    </tr>\n",
       "    <tr>\n",
       "      <th>328</th>\n",
       "      <td>0.903428</td>\n",
       "      <td>0.974950</td>\n",
       "      <td>0.905415</td>\n",
       "    </tr>\n",
       "    <tr>\n",
       "      <th>329</th>\n",
       "      <td>0.708574</td>\n",
       "      <td>0.896959</td>\n",
       "      <td>0.667065</td>\n",
       "    </tr>\n",
       "    <tr>\n",
       "      <th>330</th>\n",
       "      <td>0.100015</td>\n",
       "      <td>0.824870</td>\n",
       "      <td>0.409014</td>\n",
       "    </tr>\n",
       "  </tbody>\n",
       "</table>\n",
       "<p>331 rows × 3 columns</p>\n",
       "</div>"
      ],
      "text/plain": [
       "            B         D         E\n",
       "0    0.466023  0.478882  0.846913\n",
       "1    0.294033  0.681721  0.282514\n",
       "2    0.870107  0.593302  0.131365\n",
       "3    0.403180  0.711646  0.920102\n",
       "4    0.243711  0.190554  0.211543\n",
       "..        ...       ...       ...\n",
       "326  0.874155  0.358662  0.660002\n",
       "327  0.348962  0.908577  0.564370\n",
       "328  0.903428  0.974950  0.905415\n",
       "329  0.708574  0.896959  0.667065\n",
       "330  0.100015  0.824870  0.409014\n",
       "\n",
       "[331 rows x 3 columns]"
      ]
     },
     "execution_count": 76,
     "metadata": {},
     "output_type": "execute_result"
    }
   ],
   "source": [
    "newdf"
   ]
  },
  {
   "cell_type": "code",
   "execution_count": 77,
   "id": "2bd054b8",
   "metadata": {},
   "outputs": [
    {
     "data": {
      "text/plain": [
       "0      False\n",
       "1      False\n",
       "2      False\n",
       "3      False\n",
       "4      False\n",
       "       ...  \n",
       "326    False\n",
       "327    False\n",
       "328    False\n",
       "329    False\n",
       "330    False\n",
       "Name: B, Length: 331, dtype: bool"
      ]
     },
     "execution_count": 77,
     "metadata": {},
     "output_type": "execute_result"
    }
   ],
   "source": [
    "newdf['B'].isnull()"
   ]
  },
  {
   "cell_type": "code",
   "execution_count": 78,
   "id": "581ddfca",
   "metadata": {},
   "outputs": [],
   "source": [
    "newdf.loc[:,['B']]=None"
   ]
  },
  {
   "cell_type": "code",
   "execution_count": 79,
   "id": "5b044afd",
   "metadata": {},
   "outputs": [
    {
     "data": {
      "text/plain": [
       "0      True\n",
       "1      True\n",
       "2      True\n",
       "3      True\n",
       "4      True\n",
       "       ... \n",
       "326    True\n",
       "327    True\n",
       "328    True\n",
       "329    True\n",
       "330    True\n",
       "Name: B, Length: 331, dtype: bool"
      ]
     },
     "execution_count": 79,
     "metadata": {},
     "output_type": "execute_result"
    }
   ],
   "source": [
    "newdf['B'].isnull()"
   ]
  },
  {
   "cell_type": "code",
   "execution_count": 80,
   "id": "2564433b",
   "metadata": {},
   "outputs": [],
   "source": [
    "df = pd.DataFrame({\"name\": [np.nan, 'Batman', 'Catwoman','Batman'],\n",
    "                   \"toy\": [np.nan, 'Batmobile', 'Bullwhip','Batmobile'],\n",
    "                   \"born\": [pd.NaT, pd.Timestamp(\"1940-04-25\"),\n",
    "                            pd.NaT,pd.Timestamp(\"1940-03-15\")]})"
   ]
  },
  {
   "cell_type": "code",
   "execution_count": 81,
   "id": "272072db",
   "metadata": {},
   "outputs": [
    {
     "data": {
      "text/html": [
       "<div>\n",
       "<style scoped>\n",
       "    .dataframe tbody tr th:only-of-type {\n",
       "        vertical-align: middle;\n",
       "    }\n",
       "\n",
       "    .dataframe tbody tr th {\n",
       "        vertical-align: top;\n",
       "    }\n",
       "\n",
       "    .dataframe thead th {\n",
       "        text-align: right;\n",
       "    }\n",
       "</style>\n",
       "<table border=\"1\" class=\"dataframe\">\n",
       "  <thead>\n",
       "    <tr style=\"text-align: right;\">\n",
       "      <th></th>\n",
       "      <th>name</th>\n",
       "      <th>toy</th>\n",
       "      <th>born</th>\n",
       "    </tr>\n",
       "  </thead>\n",
       "  <tbody>\n",
       "    <tr>\n",
       "      <th>0</th>\n",
       "      <td>NaN</td>\n",
       "      <td>NaN</td>\n",
       "      <td>NaT</td>\n",
       "    </tr>\n",
       "    <tr>\n",
       "      <th>1</th>\n",
       "      <td>Batman</td>\n",
       "      <td>Batmobile</td>\n",
       "      <td>1940-04-25</td>\n",
       "    </tr>\n",
       "    <tr>\n",
       "      <th>2</th>\n",
       "      <td>Catwoman</td>\n",
       "      <td>Bullwhip</td>\n",
       "      <td>NaT</td>\n",
       "    </tr>\n",
       "    <tr>\n",
       "      <th>3</th>\n",
       "      <td>Batman</td>\n",
       "      <td>Batmobile</td>\n",
       "      <td>1940-03-15</td>\n",
       "    </tr>\n",
       "  </tbody>\n",
       "</table>\n",
       "</div>"
      ],
      "text/plain": [
       "       name        toy       born\n",
       "0       NaN        NaN        NaT\n",
       "1    Batman  Batmobile 1940-04-25\n",
       "2  Catwoman   Bullwhip        NaT\n",
       "3    Batman  Batmobile 1940-03-15"
      ]
     },
     "execution_count": 81,
     "metadata": {},
     "output_type": "execute_result"
    }
   ],
   "source": [
    "df.head()"
   ]
  },
  {
   "cell_type": "code",
   "execution_count": 82,
   "id": "595d907a",
   "metadata": {},
   "outputs": [
    {
     "data": {
      "text/html": [
       "<div>\n",
       "<style scoped>\n",
       "    .dataframe tbody tr th:only-of-type {\n",
       "        vertical-align: middle;\n",
       "    }\n",
       "\n",
       "    .dataframe tbody tr th {\n",
       "        vertical-align: top;\n",
       "    }\n",
       "\n",
       "    .dataframe thead th {\n",
       "        text-align: right;\n",
       "    }\n",
       "</style>\n",
       "<table border=\"1\" class=\"dataframe\">\n",
       "  <thead>\n",
       "    <tr style=\"text-align: right;\">\n",
       "      <th></th>\n",
       "      <th>name</th>\n",
       "      <th>toy</th>\n",
       "      <th>born</th>\n",
       "    </tr>\n",
       "  </thead>\n",
       "  <tbody>\n",
       "    <tr>\n",
       "      <th>1</th>\n",
       "      <td>Batman</td>\n",
       "      <td>Batmobile</td>\n",
       "      <td>1940-04-25</td>\n",
       "    </tr>\n",
       "    <tr>\n",
       "      <th>3</th>\n",
       "      <td>Batman</td>\n",
       "      <td>Batmobile</td>\n",
       "      <td>1940-03-15</td>\n",
       "    </tr>\n",
       "  </tbody>\n",
       "</table>\n",
       "</div>"
      ],
      "text/plain": [
       "     name        toy       born\n",
       "1  Batman  Batmobile 1940-04-25\n",
       "3  Batman  Batmobile 1940-03-15"
      ]
     },
     "execution_count": 82,
     "metadata": {},
     "output_type": "execute_result"
    }
   ],
   "source": [
    "df.dropna()#Removes all rows which have na"
   ]
  },
  {
   "cell_type": "code",
   "execution_count": 83,
   "id": "0712b28f",
   "metadata": {},
   "outputs": [
    {
     "data": {
      "text/html": [
       "<div>\n",
       "<style scoped>\n",
       "    .dataframe tbody tr th:only-of-type {\n",
       "        vertical-align: middle;\n",
       "    }\n",
       "\n",
       "    .dataframe tbody tr th {\n",
       "        vertical-align: top;\n",
       "    }\n",
       "\n",
       "    .dataframe thead th {\n",
       "        text-align: right;\n",
       "    }\n",
       "</style>\n",
       "<table border=\"1\" class=\"dataframe\">\n",
       "  <thead>\n",
       "    <tr style=\"text-align: right;\">\n",
       "      <th></th>\n",
       "      <th>name</th>\n",
       "      <th>toy</th>\n",
       "      <th>born</th>\n",
       "    </tr>\n",
       "  </thead>\n",
       "  <tbody>\n",
       "    <tr>\n",
       "      <th>0</th>\n",
       "      <td>NaN</td>\n",
       "      <td>NaN</td>\n",
       "      <td>NaT</td>\n",
       "    </tr>\n",
       "    <tr>\n",
       "      <th>1</th>\n",
       "      <td>Batman</td>\n",
       "      <td>Batmobile</td>\n",
       "      <td>1940-04-25</td>\n",
       "    </tr>\n",
       "    <tr>\n",
       "      <th>2</th>\n",
       "      <td>Catwoman</td>\n",
       "      <td>Bullwhip</td>\n",
       "      <td>NaT</td>\n",
       "    </tr>\n",
       "    <tr>\n",
       "      <th>3</th>\n",
       "      <td>Batman</td>\n",
       "      <td>Batmobile</td>\n",
       "      <td>1940-03-15</td>\n",
       "    </tr>\n",
       "  </tbody>\n",
       "</table>\n",
       "</div>"
      ],
      "text/plain": [
       "       name        toy       born\n",
       "0       NaN        NaN        NaT\n",
       "1    Batman  Batmobile 1940-04-25\n",
       "2  Catwoman   Bullwhip        NaT\n",
       "3    Batman  Batmobile 1940-03-15"
      ]
     },
     "execution_count": 83,
     "metadata": {},
     "output_type": "execute_result"
    }
   ],
   "source": [
    "df"
   ]
  },
  {
   "cell_type": "code",
   "execution_count": 84,
   "id": "5ca61889",
   "metadata": {},
   "outputs": [
    {
     "data": {
      "text/html": [
       "<div>\n",
       "<style scoped>\n",
       "    .dataframe tbody tr th:only-of-type {\n",
       "        vertical-align: middle;\n",
       "    }\n",
       "\n",
       "    .dataframe tbody tr th {\n",
       "        vertical-align: top;\n",
       "    }\n",
       "\n",
       "    .dataframe thead th {\n",
       "        text-align: right;\n",
       "    }\n",
       "</style>\n",
       "<table border=\"1\" class=\"dataframe\">\n",
       "  <thead>\n",
       "    <tr style=\"text-align: right;\">\n",
       "      <th></th>\n",
       "      <th>name</th>\n",
       "      <th>toy</th>\n",
       "      <th>born</th>\n",
       "    </tr>\n",
       "  </thead>\n",
       "  <tbody>\n",
       "    <tr>\n",
       "      <th>1</th>\n",
       "      <td>Batman</td>\n",
       "      <td>Batmobile</td>\n",
       "      <td>1940-04-25</td>\n",
       "    </tr>\n",
       "    <tr>\n",
       "      <th>2</th>\n",
       "      <td>Catwoman</td>\n",
       "      <td>Bullwhip</td>\n",
       "      <td>NaT</td>\n",
       "    </tr>\n",
       "    <tr>\n",
       "      <th>3</th>\n",
       "      <td>Batman</td>\n",
       "      <td>Batmobile</td>\n",
       "      <td>1940-03-15</td>\n",
       "    </tr>\n",
       "  </tbody>\n",
       "</table>\n",
       "</div>"
      ],
      "text/plain": [
       "       name        toy       born\n",
       "1    Batman  Batmobile 1940-04-25\n",
       "2  Catwoman   Bullwhip        NaT\n",
       "3    Batman  Batmobile 1940-03-15"
      ]
     },
     "execution_count": 84,
     "metadata": {},
     "output_type": "execute_result"
    }
   ],
   "source": [
    "df.dropna(how='all') # until all the columns or rows are na , then only that row or column can be dropped"
   ]
  },
  {
   "cell_type": "code",
   "execution_count": 85,
   "id": "7f251d27",
   "metadata": {},
   "outputs": [],
   "source": [
    "df1=df"
   ]
  },
  {
   "cell_type": "code",
   "execution_count": 86,
   "id": "4b687245",
   "metadata": {},
   "outputs": [
    {
     "data": {
      "text/html": [
       "<div>\n",
       "<style scoped>\n",
       "    .dataframe tbody tr th:only-of-type {\n",
       "        vertical-align: middle;\n",
       "    }\n",
       "\n",
       "    .dataframe tbody tr th {\n",
       "        vertical-align: top;\n",
       "    }\n",
       "\n",
       "    .dataframe thead th {\n",
       "        text-align: right;\n",
       "    }\n",
       "</style>\n",
       "<table border=\"1\" class=\"dataframe\">\n",
       "  <thead>\n",
       "    <tr style=\"text-align: right;\">\n",
       "      <th></th>\n",
       "      <th>name</th>\n",
       "      <th>toy</th>\n",
       "      <th>born</th>\n",
       "    </tr>\n",
       "  </thead>\n",
       "  <tbody>\n",
       "    <tr>\n",
       "      <th>0</th>\n",
       "      <td>NaN</td>\n",
       "      <td>NaN</td>\n",
       "      <td>NaT</td>\n",
       "    </tr>\n",
       "    <tr>\n",
       "      <th>1</th>\n",
       "      <td>Batman</td>\n",
       "      <td>Batmobile</td>\n",
       "      <td>1940-04-25</td>\n",
       "    </tr>\n",
       "    <tr>\n",
       "      <th>2</th>\n",
       "      <td>Catwoman</td>\n",
       "      <td>Bullwhip</td>\n",
       "      <td>NaT</td>\n",
       "    </tr>\n",
       "    <tr>\n",
       "      <th>3</th>\n",
       "      <td>Batman</td>\n",
       "      <td>Batmobile</td>\n",
       "      <td>1940-03-15</td>\n",
       "    </tr>\n",
       "  </tbody>\n",
       "</table>\n",
       "</div>"
      ],
      "text/plain": [
       "       name        toy       born\n",
       "0       NaN        NaN        NaT\n",
       "1    Batman  Batmobile 1940-04-25\n",
       "2  Catwoman   Bullwhip        NaT\n",
       "3    Batman  Batmobile 1940-03-15"
      ]
     },
     "execution_count": 86,
     "metadata": {},
     "output_type": "execute_result"
    }
   ],
   "source": [
    "df1"
   ]
  },
  {
   "cell_type": "code",
   "execution_count": 87,
   "id": "aee6343b",
   "metadata": {},
   "outputs": [
    {
     "data": {
      "text/html": [
       "<div>\n",
       "<style scoped>\n",
       "    .dataframe tbody tr th:only-of-type {\n",
       "        vertical-align: middle;\n",
       "    }\n",
       "\n",
       "    .dataframe tbody tr th {\n",
       "        vertical-align: top;\n",
       "    }\n",
       "\n",
       "    .dataframe thead th {\n",
       "        text-align: right;\n",
       "    }\n",
       "</style>\n",
       "<table border=\"1\" class=\"dataframe\">\n",
       "  <thead>\n",
       "    <tr style=\"text-align: right;\">\n",
       "      <th></th>\n",
       "      <th>name</th>\n",
       "      <th>toy</th>\n",
       "      <th>born</th>\n",
       "    </tr>\n",
       "  </thead>\n",
       "  <tbody>\n",
       "    <tr>\n",
       "      <th>0</th>\n",
       "      <td>NaN</td>\n",
       "      <td>NaN</td>\n",
       "      <td>NaT</td>\n",
       "    </tr>\n",
       "    <tr>\n",
       "      <th>1</th>\n",
       "      <td>Batman</td>\n",
       "      <td>Batmobile</td>\n",
       "      <td>1940-04-25</td>\n",
       "    </tr>\n",
       "    <tr>\n",
       "      <th>2</th>\n",
       "      <td>Catwoman</td>\n",
       "      <td>Bullwhip</td>\n",
       "      <td>NaT</td>\n",
       "    </tr>\n",
       "    <tr>\n",
       "      <th>3</th>\n",
       "      <td>Batman</td>\n",
       "      <td>Batmobile</td>\n",
       "      <td>1940-03-15</td>\n",
       "    </tr>\n",
       "  </tbody>\n",
       "</table>\n",
       "</div>"
      ],
      "text/plain": [
       "       name        toy       born\n",
       "0       NaN        NaN        NaT\n",
       "1    Batman  Batmobile 1940-04-25\n",
       "2  Catwoman   Bullwhip        NaT\n",
       "3    Batman  Batmobile 1940-03-15"
      ]
     },
     "execution_count": 87,
     "metadata": {},
     "output_type": "execute_result"
    }
   ],
   "source": [
    "df.dropna(how='all', axis=1)"
   ]
  },
  {
   "cell_type": "code",
   "execution_count": 88,
   "id": "17ef3eb3",
   "metadata": {},
   "outputs": [
    {
     "data": {
      "text/html": [
       "<div>\n",
       "<style scoped>\n",
       "    .dataframe tbody tr th:only-of-type {\n",
       "        vertical-align: middle;\n",
       "    }\n",
       "\n",
       "    .dataframe tbody tr th {\n",
       "        vertical-align: top;\n",
       "    }\n",
       "\n",
       "    .dataframe thead th {\n",
       "        text-align: right;\n",
       "    }\n",
       "</style>\n",
       "<table border=\"1\" class=\"dataframe\">\n",
       "  <thead>\n",
       "    <tr style=\"text-align: right;\">\n",
       "      <th></th>\n",
       "      <th>name</th>\n",
       "      <th>toy</th>\n",
       "      <th>born</th>\n",
       "    </tr>\n",
       "  </thead>\n",
       "  <tbody>\n",
       "    <tr>\n",
       "      <th>0</th>\n",
       "      <td>NaN</td>\n",
       "      <td>NaN</td>\n",
       "      <td>NaT</td>\n",
       "    </tr>\n",
       "    <tr>\n",
       "      <th>1</th>\n",
       "      <td>Batman</td>\n",
       "      <td>Batmobile</td>\n",
       "      <td>1940-04-25</td>\n",
       "    </tr>\n",
       "    <tr>\n",
       "      <th>2</th>\n",
       "      <td>Catwoman</td>\n",
       "      <td>Bullwhip</td>\n",
       "      <td>NaT</td>\n",
       "    </tr>\n",
       "    <tr>\n",
       "      <th>3</th>\n",
       "      <td>Batman</td>\n",
       "      <td>Batmobile</td>\n",
       "      <td>1940-03-15</td>\n",
       "    </tr>\n",
       "  </tbody>\n",
       "</table>\n",
       "</div>"
      ],
      "text/plain": [
       "       name        toy       born\n",
       "0       NaN        NaN        NaT\n",
       "1    Batman  Batmobile 1940-04-25\n",
       "2  Catwoman   Bullwhip        NaT\n",
       "3    Batman  Batmobile 1940-03-15"
      ]
     },
     "execution_count": 88,
     "metadata": {},
     "output_type": "execute_result"
    }
   ],
   "source": [
    "df.drop_duplicates()# Will drop all duplicate rows of whose each column name are same"
   ]
  },
  {
   "cell_type": "code",
   "execution_count": 89,
   "id": "8d9e59d9",
   "metadata": {},
   "outputs": [
    {
     "data": {
      "text/html": [
       "<div>\n",
       "<style scoped>\n",
       "    .dataframe tbody tr th:only-of-type {\n",
       "        vertical-align: middle;\n",
       "    }\n",
       "\n",
       "    .dataframe tbody tr th {\n",
       "        vertical-align: top;\n",
       "    }\n",
       "\n",
       "    .dataframe thead th {\n",
       "        text-align: right;\n",
       "    }\n",
       "</style>\n",
       "<table border=\"1\" class=\"dataframe\">\n",
       "  <thead>\n",
       "    <tr style=\"text-align: right;\">\n",
       "      <th></th>\n",
       "      <th>name</th>\n",
       "      <th>toy</th>\n",
       "      <th>born</th>\n",
       "    </tr>\n",
       "  </thead>\n",
       "  <tbody>\n",
       "    <tr>\n",
       "      <th>0</th>\n",
       "      <td>NaN</td>\n",
       "      <td>NaN</td>\n",
       "      <td>NaT</td>\n",
       "    </tr>\n",
       "    <tr>\n",
       "      <th>1</th>\n",
       "      <td>Batman</td>\n",
       "      <td>Batmobile</td>\n",
       "      <td>1940-04-25</td>\n",
       "    </tr>\n",
       "    <tr>\n",
       "      <th>2</th>\n",
       "      <td>Catwoman</td>\n",
       "      <td>Bullwhip</td>\n",
       "      <td>NaT</td>\n",
       "    </tr>\n",
       "  </tbody>\n",
       "</table>\n",
       "</div>"
      ],
      "text/plain": [
       "       name        toy       born\n",
       "0       NaN        NaN        NaT\n",
       "1    Batman  Batmobile 1940-04-25\n",
       "2  Catwoman   Bullwhip        NaT"
      ]
     },
     "execution_count": 89,
     "metadata": {},
     "output_type": "execute_result"
    }
   ],
   "source": [
    "df.drop_duplicates(subset=['name'])# Drops all duplicates having the same subset"
   ]
  },
  {
   "cell_type": "code",
   "execution_count": 91,
   "id": "da207da5",
   "metadata": {},
   "outputs": [
    {
     "data": {
      "text/html": [
       "<div>\n",
       "<style scoped>\n",
       "    .dataframe tbody tr th:only-of-type {\n",
       "        vertical-align: middle;\n",
       "    }\n",
       "\n",
       "    .dataframe tbody tr th {\n",
       "        vertical-align: top;\n",
       "    }\n",
       "\n",
       "    .dataframe thead th {\n",
       "        text-align: right;\n",
       "    }\n",
       "</style>\n",
       "<table border=\"1\" class=\"dataframe\">\n",
       "  <thead>\n",
       "    <tr style=\"text-align: right;\">\n",
       "      <th></th>\n",
       "      <th>name</th>\n",
       "      <th>toy</th>\n",
       "      <th>born</th>\n",
       "    </tr>\n",
       "  </thead>\n",
       "  <tbody>\n",
       "    <tr>\n",
       "      <th>0</th>\n",
       "      <td>NaN</td>\n",
       "      <td>NaN</td>\n",
       "      <td>NaT</td>\n",
       "    </tr>\n",
       "    <tr>\n",
       "      <th>2</th>\n",
       "      <td>Catwoman</td>\n",
       "      <td>Bullwhip</td>\n",
       "      <td>NaT</td>\n",
       "    </tr>\n",
       "    <tr>\n",
       "      <th>3</th>\n",
       "      <td>Batman</td>\n",
       "      <td>Batmobile</td>\n",
       "      <td>1940-03-15</td>\n",
       "    </tr>\n",
       "  </tbody>\n",
       "</table>\n",
       "</div>"
      ],
      "text/plain": [
       "       name        toy       born\n",
       "0       NaN        NaN        NaT\n",
       "2  Catwoman   Bullwhip        NaT\n",
       "3    Batman  Batmobile 1940-03-15"
      ]
     },
     "execution_count": 91,
     "metadata": {},
     "output_type": "execute_result"
    }
   ],
   "source": [
    "df.drop_duplicates(subset=['name'],keep='last')#Keeps the last duplicate and deletes the rest"
   ]
  },
  {
   "cell_type": "code",
   "execution_count": 92,
   "id": "dcf45216",
   "metadata": {},
   "outputs": [
    {
     "name": "stdout",
     "output_type": "stream",
     "text": [
      "<class 'pandas.core.frame.DataFrame'>\n",
      "RangeIndex: 4 entries, 0 to 3\n",
      "Data columns (total 3 columns):\n",
      " #   Column  Non-Null Count  Dtype         \n",
      "---  ------  --------------  -----         \n",
      " 0   name    3 non-null      object        \n",
      " 1   toy     3 non-null      object        \n",
      " 2   born    2 non-null      datetime64[ns]\n",
      "dtypes: datetime64[ns](1), object(2)\n",
      "memory usage: 224.0+ bytes\n"
     ]
    }
   ],
   "source": [
    "df.info()"
   ]
  },
  {
   "cell_type": "code",
   "execution_count": 94,
   "id": "871bf89c",
   "metadata": {},
   "outputs": [
    {
     "data": {
      "text/plain": [
       "Batman      2\n",
       "Catwoman    1\n",
       "Name: name, dtype: int64"
      ]
     },
     "execution_count": 94,
     "metadata": {},
     "output_type": "execute_result"
    }
   ],
   "source": [
    "df['name'].value_counts()#By default dropna=True"
   ]
  },
  {
   "cell_type": "code",
   "execution_count": 95,
   "id": "1d79e0c9",
   "metadata": {},
   "outputs": [
    {
     "data": {
      "text/plain": [
       "Batman      2\n",
       "NaN         1\n",
       "Catwoman    1\n",
       "Name: name, dtype: int64"
      ]
     },
     "execution_count": 95,
     "metadata": {},
     "output_type": "execute_result"
    }
   ],
   "source": [
    "df['name'].value_counts(dropna=False)"
   ]
  },
  {
   "cell_type": "code",
   "execution_count": 96,
   "id": "fba6bfd2",
   "metadata": {},
   "outputs": [],
   "source": [
    "dict2={'id':[68,69,70],\n",
    "      'Marks':[99,94,96],\n",
    "      'age':[21,20,22]}"
   ]
  },
  {
   "cell_type": "code",
   "execution_count": 98,
   "id": "a66af67e",
   "metadata": {},
   "outputs": [],
   "source": [
    "df=pd.DataFrame(dict2)"
   ]
  },
  {
   "cell_type": "code",
   "execution_count": 99,
   "id": "df18d6d3",
   "metadata": {},
   "outputs": [
    {
     "data": {
      "text/html": [
       "<div>\n",
       "<style scoped>\n",
       "    .dataframe tbody tr th:only-of-type {\n",
       "        vertical-align: middle;\n",
       "    }\n",
       "\n",
       "    .dataframe tbody tr th {\n",
       "        vertical-align: top;\n",
       "    }\n",
       "\n",
       "    .dataframe thead th {\n",
       "        text-align: right;\n",
       "    }\n",
       "</style>\n",
       "<table border=\"1\" class=\"dataframe\">\n",
       "  <thead>\n",
       "    <tr style=\"text-align: right;\">\n",
       "      <th></th>\n",
       "      <th>id</th>\n",
       "      <th>Marks</th>\n",
       "      <th>age</th>\n",
       "    </tr>\n",
       "  </thead>\n",
       "  <tbody>\n",
       "    <tr>\n",
       "      <th>0</th>\n",
       "      <td>68</td>\n",
       "      <td>99</td>\n",
       "      <td>21</td>\n",
       "    </tr>\n",
       "    <tr>\n",
       "      <th>1</th>\n",
       "      <td>69</td>\n",
       "      <td>94</td>\n",
       "      <td>20</td>\n",
       "    </tr>\n",
       "    <tr>\n",
       "      <th>2</th>\n",
       "      <td>70</td>\n",
       "      <td>96</td>\n",
       "      <td>22</td>\n",
       "    </tr>\n",
       "  </tbody>\n",
       "</table>\n",
       "</div>"
      ],
      "text/plain": [
       "   id  Marks  age\n",
       "0  68     99   21\n",
       "1  69     94   20\n",
       "2  70     96   22"
      ]
     },
     "execution_count": 99,
     "metadata": {},
     "output_type": "execute_result"
    }
   ],
   "source": [
    "df"
   ]
  },
  {
   "cell_type": "code",
   "execution_count": 100,
   "id": "2ef55fb8",
   "metadata": {},
   "outputs": [
    {
     "data": {
      "text/html": [
       "<div>\n",
       "<style scoped>\n",
       "    .dataframe tbody tr th:only-of-type {\n",
       "        vertical-align: middle;\n",
       "    }\n",
       "\n",
       "    .dataframe tbody tr th {\n",
       "        vertical-align: top;\n",
       "    }\n",
       "\n",
       "    .dataframe thead th {\n",
       "        text-align: right;\n",
       "    }\n",
       "</style>\n",
       "<table border=\"1\" class=\"dataframe\">\n",
       "  <thead>\n",
       "    <tr style=\"text-align: right;\">\n",
       "      <th></th>\n",
       "      <th>id</th>\n",
       "      <th>Marks</th>\n",
       "      <th>age</th>\n",
       "    </tr>\n",
       "  </thead>\n",
       "  <tbody>\n",
       "    <tr>\n",
       "      <th>count</th>\n",
       "      <td>3.0</td>\n",
       "      <td>3.000000</td>\n",
       "      <td>3.0</td>\n",
       "    </tr>\n",
       "    <tr>\n",
       "      <th>mean</th>\n",
       "      <td>69.0</td>\n",
       "      <td>96.333333</td>\n",
       "      <td>21.0</td>\n",
       "    </tr>\n",
       "    <tr>\n",
       "      <th>std</th>\n",
       "      <td>1.0</td>\n",
       "      <td>2.516611</td>\n",
       "      <td>1.0</td>\n",
       "    </tr>\n",
       "    <tr>\n",
       "      <th>min</th>\n",
       "      <td>68.0</td>\n",
       "      <td>94.000000</td>\n",
       "      <td>20.0</td>\n",
       "    </tr>\n",
       "    <tr>\n",
       "      <th>25%</th>\n",
       "      <td>68.5</td>\n",
       "      <td>95.000000</td>\n",
       "      <td>20.5</td>\n",
       "    </tr>\n",
       "    <tr>\n",
       "      <th>50%</th>\n",
       "      <td>69.0</td>\n",
       "      <td>96.000000</td>\n",
       "      <td>21.0</td>\n",
       "    </tr>\n",
       "    <tr>\n",
       "      <th>75%</th>\n",
       "      <td>69.5</td>\n",
       "      <td>97.500000</td>\n",
       "      <td>21.5</td>\n",
       "    </tr>\n",
       "    <tr>\n",
       "      <th>max</th>\n",
       "      <td>70.0</td>\n",
       "      <td>99.000000</td>\n",
       "      <td>22.0</td>\n",
       "    </tr>\n",
       "  </tbody>\n",
       "</table>\n",
       "</div>"
      ],
      "text/plain": [
       "         id      Marks   age\n",
       "count   3.0   3.000000   3.0\n",
       "mean   69.0  96.333333  21.0\n",
       "std     1.0   2.516611   1.0\n",
       "min    68.0  94.000000  20.0\n",
       "25%    68.5  95.000000  20.5\n",
       "50%    69.0  96.000000  21.0\n",
       "75%    69.5  97.500000  21.5\n",
       "max    70.0  99.000000  22.0"
      ]
     },
     "execution_count": 100,
     "metadata": {},
     "output_type": "execute_result"
    }
   ],
   "source": [
    "df.describe()"
   ]
  },
  {
   "cell_type": "code",
   "execution_count": 101,
   "id": "c0a2bf2b",
   "metadata": {},
   "outputs": [
    {
     "data": {
      "text/plain": [
       "id       69.000000\n",
       "Marks    96.333333\n",
       "age      21.000000\n",
       "dtype: float64"
      ]
     },
     "execution_count": 101,
     "metadata": {},
     "output_type": "execute_result"
    }
   ],
   "source": [
    "df.mean()"
   ]
  },
  {
   "cell_type": "code",
   "execution_count": 102,
   "id": "9943f901",
   "metadata": {},
   "outputs": [
    {
     "data": {
      "text/plain": [
       "id       70\n",
       "Marks    99\n",
       "age      22\n",
       "dtype: int64"
      ]
     },
     "execution_count": 102,
     "metadata": {},
     "output_type": "execute_result"
    }
   ],
   "source": [
    "df.max()"
   ]
  },
  {
   "cell_type": "code",
   "execution_count": 104,
   "id": "9578cc78",
   "metadata": {},
   "outputs": [
    {
     "data": {
      "text/plain": [
       "id       68\n",
       "Marks    94\n",
       "age      20\n",
       "dtype: int64"
      ]
     },
     "execution_count": 104,
     "metadata": {},
     "output_type": "execute_result"
    }
   ],
   "source": [
    "df.min()"
   ]
  },
  {
   "cell_type": "code",
   "execution_count": 105,
   "id": "e296b156",
   "metadata": {},
   "outputs": [
    {
     "data": {
      "text/plain": [
       "id       69.0\n",
       "Marks    96.0\n",
       "age      21.0\n",
       "dtype: float64"
      ]
     },
     "execution_count": 105,
     "metadata": {},
     "output_type": "execute_result"
    }
   ],
   "source": [
    "df.median()"
   ]
  },
  {
   "cell_type": "code",
   "execution_count": 106,
   "id": "8604a9ca",
   "metadata": {},
   "outputs": [
    {
     "data": {
      "text/html": [
       "<div>\n",
       "<style scoped>\n",
       "    .dataframe tbody tr th:only-of-type {\n",
       "        vertical-align: middle;\n",
       "    }\n",
       "\n",
       "    .dataframe tbody tr th {\n",
       "        vertical-align: top;\n",
       "    }\n",
       "\n",
       "    .dataframe thead th {\n",
       "        text-align: right;\n",
       "    }\n",
       "</style>\n",
       "<table border=\"1\" class=\"dataframe\">\n",
       "  <thead>\n",
       "    <tr style=\"text-align: right;\">\n",
       "      <th></th>\n",
       "      <th>id</th>\n",
       "      <th>Marks</th>\n",
       "      <th>age</th>\n",
       "    </tr>\n",
       "  </thead>\n",
       "  <tbody>\n",
       "    <tr>\n",
       "      <th>0</th>\n",
       "      <td>68</td>\n",
       "      <td>94</td>\n",
       "      <td>20</td>\n",
       "    </tr>\n",
       "    <tr>\n",
       "      <th>1</th>\n",
       "      <td>69</td>\n",
       "      <td>96</td>\n",
       "      <td>21</td>\n",
       "    </tr>\n",
       "    <tr>\n",
       "      <th>2</th>\n",
       "      <td>70</td>\n",
       "      <td>99</td>\n",
       "      <td>22</td>\n",
       "    </tr>\n",
       "  </tbody>\n",
       "</table>\n",
       "</div>"
      ],
      "text/plain": [
       "   id  Marks  age\n",
       "0  68     94   20\n",
       "1  69     96   21\n",
       "2  70     99   22"
      ]
     },
     "execution_count": 106,
     "metadata": {},
     "output_type": "execute_result"
    }
   ],
   "source": [
    "df.mode()"
   ]
  },
  {
   "cell_type": "code",
   "execution_count": 107,
   "id": "3edb927c",
   "metadata": {},
   "outputs": [
    {
     "data": {
      "text/plain": [
       "id       1.000000\n",
       "Marks    2.516611\n",
       "age      1.000000\n",
       "dtype: float64"
      ]
     },
     "execution_count": 107,
     "metadata": {},
     "output_type": "execute_result"
    }
   ],
   "source": [
    "df.std()"
   ]
  },
  {
   "cell_type": "code",
   "execution_count": 108,
   "id": "523dd00e",
   "metadata": {},
   "outputs": [
    {
     "data": {
      "text/html": [
       "<div>\n",
       "<style scoped>\n",
       "    .dataframe tbody tr th:only-of-type {\n",
       "        vertical-align: middle;\n",
       "    }\n",
       "\n",
       "    .dataframe tbody tr th {\n",
       "        vertical-align: top;\n",
       "    }\n",
       "\n",
       "    .dataframe thead th {\n",
       "        text-align: right;\n",
       "    }\n",
       "</style>\n",
       "<table border=\"1\" class=\"dataframe\">\n",
       "  <thead>\n",
       "    <tr style=\"text-align: right;\">\n",
       "      <th></th>\n",
       "      <th>id</th>\n",
       "      <th>Marks</th>\n",
       "      <th>age</th>\n",
       "    </tr>\n",
       "  </thead>\n",
       "  <tbody>\n",
       "    <tr>\n",
       "      <th>id</th>\n",
       "      <td>1.00000</td>\n",
       "      <td>-0.59604</td>\n",
       "      <td>0.50000</td>\n",
       "    </tr>\n",
       "    <tr>\n",
       "      <th>Marks</th>\n",
       "      <td>-0.59604</td>\n",
       "      <td>1.00000</td>\n",
       "      <td>0.39736</td>\n",
       "    </tr>\n",
       "    <tr>\n",
       "      <th>age</th>\n",
       "      <td>0.50000</td>\n",
       "      <td>0.39736</td>\n",
       "      <td>1.00000</td>\n",
       "    </tr>\n",
       "  </tbody>\n",
       "</table>\n",
       "</div>"
      ],
      "text/plain": [
       "            id    Marks      age\n",
       "id     1.00000 -0.59604  0.50000\n",
       "Marks -0.59604  1.00000  0.39736\n",
       "age    0.50000  0.39736  1.00000"
      ]
     },
     "execution_count": 108,
     "metadata": {},
     "output_type": "execute_result"
    }
   ],
   "source": [
    "df.corr()"
   ]
  },
  {
   "cell_type": "code",
   "execution_count": 113,
   "id": "54517e8e",
   "metadata": {},
   "outputs": [],
   "source": [
    "data=pd.read_csv('data.csv')"
   ]
  },
  {
   "cell_type": "code",
   "execution_count": 114,
   "id": "b8195d45",
   "metadata": {},
   "outputs": [
    {
     "data": {
      "text/html": [
       "<div>\n",
       "<style scoped>\n",
       "    .dataframe tbody tr th:only-of-type {\n",
       "        vertical-align: middle;\n",
       "    }\n",
       "\n",
       "    .dataframe tbody tr th {\n",
       "        vertical-align: top;\n",
       "    }\n",
       "\n",
       "    .dataframe thead th {\n",
       "        text-align: right;\n",
       "    }\n",
       "</style>\n",
       "<table border=\"1\" class=\"dataframe\">\n",
       "  <thead>\n",
       "    <tr style=\"text-align: right;\">\n",
       "      <th></th>\n",
       "      <th>id</th>\n",
       "      <th>name</th>\n",
       "      <th>age</th>\n",
       "    </tr>\n",
       "  </thead>\n",
       "  <tbody>\n",
       "    <tr>\n",
       "      <th>0</th>\n",
       "      <td>1</td>\n",
       "      <td>first</td>\n",
       "      <td>10</td>\n",
       "    </tr>\n",
       "    <tr>\n",
       "      <th>1</th>\n",
       "      <td>2</td>\n",
       "      <td>second</td>\n",
       "      <td>11</td>\n",
       "    </tr>\n",
       "    <tr>\n",
       "      <th>2</th>\n",
       "      <td>3</td>\n",
       "      <td>third</td>\n",
       "      <td>11</td>\n",
       "    </tr>\n",
       "  </tbody>\n",
       "</table>\n",
       "</div>"
      ],
      "text/plain": [
       "   id    name  age\n",
       "0   1   first   10\n",
       "1   2  second   11\n",
       "2   3   third   11"
      ]
     },
     "execution_count": 114,
     "metadata": {},
     "output_type": "execute_result"
    }
   ],
   "source": [
    "data"
   ]
  },
  {
   "cell_type": "code",
   "execution_count": 126,
   "id": "01944949",
   "metadata": {},
   "outputs": [
    {
     "ename": "ImportError",
     "evalue": "Missing optional dependency 'openpyxl'.  Use pip or conda to install openpyxl.",
     "output_type": "error",
     "traceback": [
      "\u001b[1;31m---------------------------------------------------------------------------\u001b[0m",
      "\u001b[1;31mModuleNotFoundError\u001b[0m                       Traceback (most recent call last)",
      "File \u001b[1;32m~\\AppData\\Local\\Programs\\Python\\Python310\\lib\\site-packages\\pandas\\compat\\_optional.py:138\u001b[0m, in \u001b[0;36mimport_optional_dependency\u001b[1;34m(name, extra, errors, min_version)\u001b[0m\n\u001b[0;32m    137\u001b[0m \u001b[38;5;28;01mtry\u001b[39;00m:\n\u001b[1;32m--> 138\u001b[0m     module \u001b[38;5;241m=\u001b[39m \u001b[43mimportlib\u001b[49m\u001b[38;5;241;43m.\u001b[39;49m\u001b[43mimport_module\u001b[49m\u001b[43m(\u001b[49m\u001b[43mname\u001b[49m\u001b[43m)\u001b[49m\n\u001b[0;32m    139\u001b[0m \u001b[38;5;28;01mexcept\u001b[39;00m \u001b[38;5;167;01mImportError\u001b[39;00m:\n",
      "File \u001b[1;32m~\\AppData\\Local\\Programs\\Python\\Python310\\lib\\importlib\\__init__.py:126\u001b[0m, in \u001b[0;36mimport_module\u001b[1;34m(name, package)\u001b[0m\n\u001b[0;32m    125\u001b[0m         level \u001b[38;5;241m+\u001b[39m\u001b[38;5;241m=\u001b[39m \u001b[38;5;241m1\u001b[39m\n\u001b[1;32m--> 126\u001b[0m \u001b[38;5;28;01mreturn\u001b[39;00m \u001b[43m_bootstrap\u001b[49m\u001b[38;5;241;43m.\u001b[39;49m\u001b[43m_gcd_import\u001b[49m\u001b[43m(\u001b[49m\u001b[43mname\u001b[49m\u001b[43m[\u001b[49m\u001b[43mlevel\u001b[49m\u001b[43m:\u001b[49m\u001b[43m]\u001b[49m\u001b[43m,\u001b[49m\u001b[43m \u001b[49m\u001b[43mpackage\u001b[49m\u001b[43m,\u001b[49m\u001b[43m \u001b[49m\u001b[43mlevel\u001b[49m\u001b[43m)\u001b[49m\n",
      "File \u001b[1;32m<frozen importlib._bootstrap>:1050\u001b[0m, in \u001b[0;36m_gcd_import\u001b[1;34m(name, package, level)\u001b[0m\n",
      "File \u001b[1;32m<frozen importlib._bootstrap>:1027\u001b[0m, in \u001b[0;36m_find_and_load\u001b[1;34m(name, import_)\u001b[0m\n",
      "File \u001b[1;32m<frozen importlib._bootstrap>:1004\u001b[0m, in \u001b[0;36m_find_and_load_unlocked\u001b[1;34m(name, import_)\u001b[0m\n",
      "\u001b[1;31mModuleNotFoundError\u001b[0m: No module named 'openpyxl'",
      "\nDuring handling of the above exception, another exception occurred:\n",
      "\u001b[1;31mImportError\u001b[0m                               Traceback (most recent call last)",
      "Input \u001b[1;32mIn [126]\u001b[0m, in \u001b[0;36m<cell line: 1>\u001b[1;34m()\u001b[0m\n\u001b[1;32m----> 1\u001b[0m data\u001b[38;5;241m=\u001b[39m\u001b[43mpd\u001b[49m\u001b[38;5;241;43m.\u001b[39;49m\u001b[43mread_excel\u001b[49m\u001b[43m(\u001b[49m\u001b[38;5;124;43m'\u001b[39;49m\u001b[38;5;124;43mnew.xlsx\u001b[39;49m\u001b[38;5;124;43m'\u001b[39;49m\u001b[43m)\u001b[49m\n",
      "File \u001b[1;32m~\\AppData\\Local\\Programs\\Python\\Python310\\lib\\site-packages\\pandas\\util\\_decorators.py:311\u001b[0m, in \u001b[0;36mdeprecate_nonkeyword_arguments.<locals>.decorate.<locals>.wrapper\u001b[1;34m(*args, **kwargs)\u001b[0m\n\u001b[0;32m    305\u001b[0m \u001b[38;5;28;01mif\u001b[39;00m \u001b[38;5;28mlen\u001b[39m(args) \u001b[38;5;241m>\u001b[39m num_allow_args:\n\u001b[0;32m    306\u001b[0m     warnings\u001b[38;5;241m.\u001b[39mwarn(\n\u001b[0;32m    307\u001b[0m         msg\u001b[38;5;241m.\u001b[39mformat(arguments\u001b[38;5;241m=\u001b[39marguments),\n\u001b[0;32m    308\u001b[0m         \u001b[38;5;167;01mFutureWarning\u001b[39;00m,\n\u001b[0;32m    309\u001b[0m         stacklevel\u001b[38;5;241m=\u001b[39mstacklevel,\n\u001b[0;32m    310\u001b[0m     )\n\u001b[1;32m--> 311\u001b[0m \u001b[38;5;28;01mreturn\u001b[39;00m func(\u001b[38;5;241m*\u001b[39margs, \u001b[38;5;241m*\u001b[39m\u001b[38;5;241m*\u001b[39mkwargs)\n",
      "File \u001b[1;32m~\\AppData\\Local\\Programs\\Python\\Python310\\lib\\site-packages\\pandas\\io\\excel\\_base.py:457\u001b[0m, in \u001b[0;36mread_excel\u001b[1;34m(io, sheet_name, header, names, index_col, usecols, squeeze, dtype, engine, converters, true_values, false_values, skiprows, nrows, na_values, keep_default_na, na_filter, verbose, parse_dates, date_parser, thousands, decimal, comment, skipfooter, convert_float, mangle_dupe_cols, storage_options)\u001b[0m\n\u001b[0;32m    455\u001b[0m \u001b[38;5;28;01mif\u001b[39;00m \u001b[38;5;129;01mnot\u001b[39;00m \u001b[38;5;28misinstance\u001b[39m(io, ExcelFile):\n\u001b[0;32m    456\u001b[0m     should_close \u001b[38;5;241m=\u001b[39m \u001b[38;5;28;01mTrue\u001b[39;00m\n\u001b[1;32m--> 457\u001b[0m     io \u001b[38;5;241m=\u001b[39m \u001b[43mExcelFile\u001b[49m\u001b[43m(\u001b[49m\u001b[43mio\u001b[49m\u001b[43m,\u001b[49m\u001b[43m \u001b[49m\u001b[43mstorage_options\u001b[49m\u001b[38;5;241;43m=\u001b[39;49m\u001b[43mstorage_options\u001b[49m\u001b[43m,\u001b[49m\u001b[43m \u001b[49m\u001b[43mengine\u001b[49m\u001b[38;5;241;43m=\u001b[39;49m\u001b[43mengine\u001b[49m\u001b[43m)\u001b[49m\n\u001b[0;32m    458\u001b[0m \u001b[38;5;28;01melif\u001b[39;00m engine \u001b[38;5;129;01mand\u001b[39;00m engine \u001b[38;5;241m!=\u001b[39m io\u001b[38;5;241m.\u001b[39mengine:\n\u001b[0;32m    459\u001b[0m     \u001b[38;5;28;01mraise\u001b[39;00m \u001b[38;5;167;01mValueError\u001b[39;00m(\n\u001b[0;32m    460\u001b[0m         \u001b[38;5;124m\"\u001b[39m\u001b[38;5;124mEngine should not be specified when passing \u001b[39m\u001b[38;5;124m\"\u001b[39m\n\u001b[0;32m    461\u001b[0m         \u001b[38;5;124m\"\u001b[39m\u001b[38;5;124man ExcelFile - ExcelFile already has the engine set\u001b[39m\u001b[38;5;124m\"\u001b[39m\n\u001b[0;32m    462\u001b[0m     )\n",
      "File \u001b[1;32m~\\AppData\\Local\\Programs\\Python\\Python310\\lib\\site-packages\\pandas\\io\\excel\\_base.py:1419\u001b[0m, in \u001b[0;36mExcelFile.__init__\u001b[1;34m(self, path_or_buffer, engine, storage_options)\u001b[0m\n\u001b[0;32m   1416\u001b[0m \u001b[38;5;28mself\u001b[39m\u001b[38;5;241m.\u001b[39mengine \u001b[38;5;241m=\u001b[39m engine\n\u001b[0;32m   1417\u001b[0m \u001b[38;5;28mself\u001b[39m\u001b[38;5;241m.\u001b[39mstorage_options \u001b[38;5;241m=\u001b[39m storage_options\n\u001b[1;32m-> 1419\u001b[0m \u001b[38;5;28mself\u001b[39m\u001b[38;5;241m.\u001b[39m_reader \u001b[38;5;241m=\u001b[39m \u001b[38;5;28;43mself\u001b[39;49m\u001b[38;5;241;43m.\u001b[39;49m\u001b[43m_engines\u001b[49m\u001b[43m[\u001b[49m\u001b[43mengine\u001b[49m\u001b[43m]\u001b[49m\u001b[43m(\u001b[49m\u001b[38;5;28;43mself\u001b[39;49m\u001b[38;5;241;43m.\u001b[39;49m\u001b[43m_io\u001b[49m\u001b[43m,\u001b[49m\u001b[43m \u001b[49m\u001b[43mstorage_options\u001b[49m\u001b[38;5;241;43m=\u001b[39;49m\u001b[43mstorage_options\u001b[49m\u001b[43m)\u001b[49m\n",
      "File \u001b[1;32m~\\AppData\\Local\\Programs\\Python\\Python310\\lib\\site-packages\\pandas\\io\\excel\\_openpyxl.py:524\u001b[0m, in \u001b[0;36mOpenpyxlReader.__init__\u001b[1;34m(self, filepath_or_buffer, storage_options)\u001b[0m\n\u001b[0;32m    509\u001b[0m \u001b[38;5;28;01mdef\u001b[39;00m \u001b[38;5;21m__init__\u001b[39m(\n\u001b[0;32m    510\u001b[0m     \u001b[38;5;28mself\u001b[39m,\n\u001b[0;32m    511\u001b[0m     filepath_or_buffer: FilePath \u001b[38;5;241m|\u001b[39m ReadBuffer[\u001b[38;5;28mbytes\u001b[39m],\n\u001b[0;32m    512\u001b[0m     storage_options: StorageOptions \u001b[38;5;241m=\u001b[39m \u001b[38;5;28;01mNone\u001b[39;00m,\n\u001b[0;32m    513\u001b[0m ) \u001b[38;5;241m-\u001b[39m\u001b[38;5;241m>\u001b[39m \u001b[38;5;28;01mNone\u001b[39;00m:\n\u001b[0;32m    514\u001b[0m     \u001b[38;5;124;03m\"\"\"\u001b[39;00m\n\u001b[0;32m    515\u001b[0m \u001b[38;5;124;03m    Reader using openpyxl engine.\u001b[39;00m\n\u001b[0;32m    516\u001b[0m \n\u001b[1;32m   (...)\u001b[0m\n\u001b[0;32m    522\u001b[0m \u001b[38;5;124;03m        passed to fsspec for appropriate URLs (see ``_get_filepath_or_buffer``)\u001b[39;00m\n\u001b[0;32m    523\u001b[0m \u001b[38;5;124;03m    \"\"\"\u001b[39;00m\n\u001b[1;32m--> 524\u001b[0m     \u001b[43mimport_optional_dependency\u001b[49m\u001b[43m(\u001b[49m\u001b[38;5;124;43m\"\u001b[39;49m\u001b[38;5;124;43mopenpyxl\u001b[39;49m\u001b[38;5;124;43m\"\u001b[39;49m\u001b[43m)\u001b[49m\n\u001b[0;32m    525\u001b[0m     \u001b[38;5;28msuper\u001b[39m()\u001b[38;5;241m.\u001b[39m\u001b[38;5;21m__init__\u001b[39m(filepath_or_buffer, storage_options\u001b[38;5;241m=\u001b[39mstorage_options)\n",
      "File \u001b[1;32m~\\AppData\\Local\\Programs\\Python\\Python310\\lib\\site-packages\\pandas\\compat\\_optional.py:141\u001b[0m, in \u001b[0;36mimport_optional_dependency\u001b[1;34m(name, extra, errors, min_version)\u001b[0m\n\u001b[0;32m    139\u001b[0m \u001b[38;5;28;01mexcept\u001b[39;00m \u001b[38;5;167;01mImportError\u001b[39;00m:\n\u001b[0;32m    140\u001b[0m     \u001b[38;5;28;01mif\u001b[39;00m errors \u001b[38;5;241m==\u001b[39m \u001b[38;5;124m\"\u001b[39m\u001b[38;5;124mraise\u001b[39m\u001b[38;5;124m\"\u001b[39m:\n\u001b[1;32m--> 141\u001b[0m         \u001b[38;5;28;01mraise\u001b[39;00m \u001b[38;5;167;01mImportError\u001b[39;00m(msg)\n\u001b[0;32m    142\u001b[0m     \u001b[38;5;28;01melse\u001b[39;00m:\n\u001b[0;32m    143\u001b[0m         \u001b[38;5;28;01mreturn\u001b[39;00m \u001b[38;5;28;01mNone\u001b[39;00m\n",
      "\u001b[1;31mImportError\u001b[0m: Missing optional dependency 'openpyxl'.  Use pip or conda to install openpyxl."
     ]
    }
   ],
   "source": [
    "data=pd.read_excel('new.xlsx')"
   ]
  },
  {
   "cell_type": "code",
   "execution_count": null,
   "id": "8f1932be",
   "metadata": {},
   "outputs": [],
   "source": []
  }
 ],
 "metadata": {
  "kernelspec": {
   "display_name": "Python 3 (ipykernel)",
   "language": "python",
   "name": "python3"
  },
  "language_info": {
   "codemirror_mode": {
    "name": "ipython",
    "version": 3
   },
   "file_extension": ".py",
   "mimetype": "text/x-python",
   "name": "python",
   "nbconvert_exporter": "python",
   "pygments_lexer": "ipython3",
   "version": "3.10.5"
  }
 },
 "nbformat": 4,
 "nbformat_minor": 5
}
