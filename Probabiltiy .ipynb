{
 "cells": [
  {
   "cell_type": "code",
   "execution_count": 10,
   "id": "b42f849f",
   "metadata": {},
   "outputs": [
    {
     "name": "stdout",
     "output_type": "stream",
     "text": [
      "A IS SET OF ALL POSSIBLE OUTCOMES OF DICE A :  {1, 2, 3, 4, 5, 6}\n",
      "B IS SET OF ALL POSSIBLE OUTCOMES OF DICE B :  {1, 2, 3, 4, 5, 6}\n",
      "Product of A and B is all the possible combinations thrown together are\n",
      " [(1, 1), (1, 2), (1, 3), (1, 4), (1, 5), (1, 6), (2, 1), (2, 2), (2, 3), (2, 4), (2, 5), (2, 6), (3, 1), (3, 2), (3, 3), (3, 4), (3, 5), (3, 6), (4, 1), (4, 2), (4, 3), (4, 4), (4, 5), (4, 6), (5, 1), (5, 2), (5, 3), (5, 4), (5, 5), (5, 6), (6, 1), (6, 2), (6, 3), (6, 4), (6, 5), (6, 6)]\n"
     ]
    }
   ],
   "source": [
    "from itertools import product as prod\n",
    "A=set([x for x in range(1,7)])\n",
    "B=set([x for x in range(1,7)])\n",
    "p = list(prod(A,B))\n",
    "\n",
    "print(\"A IS SET OF ALL POSSIBLE OUTCOMES OF DICE A : \",A)\n",
    "print(\"B IS SET OF ALL POSSIBLE OUTCOMES OF DICE B : \",B)\n",
    "print(\"Product of A and B is all the possible combinations thrown together are\\n\",p)"
   ]
  },
  {
   "cell_type": "code",
   "execution_count": 12,
   "id": "89961221",
   "metadata": {},
   "outputs": [
    {
     "name": "stdout",
     "output_type": "stream",
     "text": [
      "(1, 2) (1, 5) (2, 1) (2, 4) (3, 3) (3, 6) (4, 2) (4, 5) (5, 1) (5, 4) (6, 3) (6, 6) 12\n",
      "Probability =  0.3333333333333333\n"
     ]
    }
   ],
   "source": [
    "# Print all pairs whose sum is a multiple of 3\n",
    "favourable_outcome=[]\n",
    "# a=0,b=0\n",
    "for outcome in p:\n",
    "    a,b=outcome\n",
    "    if((a+b)%3==0):\n",
    "        favourable_outcome.append(outcome)\n",
    "for i in favourable_outcome:\n",
    "    print(i,end=' ')\n",
    "len_outcome=len(favourable_outcome)\n",
    "print(len_outcome)\n",
    "prob=len_outcome/len(p)\n",
    "print('Probability = ',prob)"
   ]
  },
  {
   "cell_type": "code",
   "execution_count": 17,
   "id": "3242fa88",
   "metadata": {},
   "outputs": [
    {
     "name": "stdout",
     "output_type": "stream",
     "text": [
      "7776\n"
     ]
    }
   ],
   "source": [
    "# For multiple dices\n",
    "n_dices=5\n",
    "dice_face={1,2,3,4,5,6}\n",
    "event_space= set(prod(dice_face,repeat=n_dices))\n",
    "print (len(event_space))"
   ]
  },
  {
   "cell_type": "code",
   "execution_count": null,
   "id": "ccf31343",
   "metadata": {},
   "outputs": [],
   "source": []
  }
 ],
 "metadata": {
  "kernelspec": {
   "display_name": "Python 3 (ipykernel)",
   "language": "python",
   "name": "python3"
  },
  "language_info": {
   "codemirror_mode": {
    "name": "ipython",
    "version": 3
   },
   "file_extension": ".py",
   "mimetype": "text/x-python",
   "name": "python",
   "nbconvert_exporter": "python",
   "pygments_lexer": "ipython3",
   "version": "3.10.5"
  }
 },
 "nbformat": 4,
 "nbformat_minor": 5
}
