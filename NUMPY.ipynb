{
 "cells": [
  {
   "cell_type": "markdown",
   "id": "23437a9f",
   "metadata": {},
   "source": [
    "# Numpy sample"
   ]
  },
  {
   "cell_type": "code",
   "execution_count": 1,
   "id": "bebc0f37",
   "metadata": {},
   "outputs": [],
   "source": [
    "import numpy as np"
   ]
  },
  {
   "cell_type": "code",
   "execution_count": 2,
   "id": "79396ddf",
   "metadata": {},
   "outputs": [],
   "source": [
    "myarr=np.array([3,4,2,7],np.int8) # here np.datatype signifies the data type with the max no bits"
   ]
  },
  {
   "cell_type": "code",
   "execution_count": 3,
   "id": "c9a0b53d",
   "metadata": {},
   "outputs": [
    {
     "data": {
      "text/plain": [
       "array([3, 4, 2, 7], dtype=int8)"
      ]
     },
     "execution_count": 3,
     "metadata": {},
     "output_type": "execute_result"
    }
   ],
   "source": [
    "myarr"
   ]
  },
  {
   "cell_type": "code",
   "execution_count": 4,
   "id": "6e553b9a",
   "metadata": {},
   "outputs": [],
   "source": [
    "#There are 5 ways to create numpy arrays\n",
    "#Conversion from other structures|"
   ]
  },
  {
   "cell_type": "code",
   "execution_count": 5,
   "id": "d5c5474a",
   "metadata": {},
   "outputs": [],
   "source": [
    "listarrays=np.array([[1,2,3],[4,5,6],[7,8,9]])"
   ]
  },
  {
   "cell_type": "code",
   "execution_count": 6,
   "id": "2eeb2180",
   "metadata": {},
   "outputs": [
    {
     "data": {
      "text/plain": [
       "9"
      ]
     },
     "execution_count": 6,
     "metadata": {},
     "output_type": "execute_result"
    }
   ],
   "source": [
    "listarrays.size"
   ]
  },
  {
   "cell_type": "code",
   "execution_count": 7,
   "id": "99bfcd81",
   "metadata": {},
   "outputs": [
    {
     "data": {
      "text/plain": [
       "dtype('int32')"
      ]
     },
     "execution_count": 7,
     "metadata": {},
     "output_type": "execute_result"
    }
   ],
   "source": [
    "\n",
    "listarrays.dtype"
   ]
  },
  {
   "cell_type": "code",
   "execution_count": 8,
   "id": "60443f7d",
   "metadata": {},
   "outputs": [
    {
     "data": {
      "text/plain": [
       "(3, 3)"
      ]
     },
     "execution_count": 8,
     "metadata": {},
     "output_type": "execute_result"
    }
   ],
   "source": [
    "listarrays.shape"
   ]
  },
  {
   "cell_type": "code",
   "execution_count": 9,
   "id": "0ece15f5",
   "metadata": {},
   "outputs": [
    {
     "data": {
      "text/plain": [
       "array([[1, 2, 3],\n",
       "       [4, 5, 6],\n",
       "       [7, 8, 9]])"
      ]
     },
     "execution_count": 9,
     "metadata": {},
     "output_type": "execute_result"
    }
   ],
   "source": [
    "listarrays"
   ]
  },
  {
   "cell_type": "code",
   "execution_count": 10,
   "id": "9bb5e44b",
   "metadata": {},
   "outputs": [],
   "source": [
    "# Array creation using other methods "
   ]
  },
  {
   "cell_type": "code",
   "execution_count": 11,
   "id": "011f98f0",
   "metadata": {},
   "outputs": [],
   "source": [
    "zeros=np.zeros((3,6)) \n",
    "# Will create a double dimensional array filled with zeros"
   ]
  },
  {
   "cell_type": "code",
   "execution_count": 12,
   "id": "73867f54",
   "metadata": {},
   "outputs": [
    {
     "data": {
      "text/plain": [
       "array([[0., 0., 0., 0., 0., 0.],\n",
       "       [0., 0., 0., 0., 0., 0.],\n",
       "       [0., 0., 0., 0., 0., 0.]])"
      ]
     },
     "execution_count": 12,
     "metadata": {},
     "output_type": "execute_result"
    }
   ],
   "source": [
    "zeros"
   ]
  },
  {
   "cell_type": "code",
   "execution_count": 13,
   "id": "25901e29",
   "metadata": {},
   "outputs": [],
   "source": [
    "singzero=np.zeros(4)\n",
    "# Creates a single dimensional array filled with zeros"
   ]
  },
  {
   "cell_type": "code",
   "execution_count": 14,
   "id": "b86c13c2",
   "metadata": {},
   "outputs": [
    {
     "data": {
      "text/plain": [
       "array([0., 0., 0., 0.])"
      ]
     },
     "execution_count": 14,
     "metadata": {},
     "output_type": "execute_result"
    }
   ],
   "source": [
    "singzero"
   ]
  },
  {
   "cell_type": "code",
   "execution_count": 15,
   "id": "ddac454d",
   "metadata": {},
   "outputs": [],
   "source": [
    "rng=np.arange(12)\n",
    "# Will return an array ranging from 0 to n-1 numbers"
   ]
  },
  {
   "cell_type": "code",
   "execution_count": 16,
   "id": "fd365b7f",
   "metadata": {},
   "outputs": [
    {
     "data": {
      "text/plain": [
       "array([ 0,  1,  2,  3,  4,  5,  6,  7,  8,  9, 10, 11])"
      ]
     },
     "execution_count": 16,
     "metadata": {},
     "output_type": "execute_result"
    }
   ],
   "source": [
    "rng"
   ]
  },
  {
   "cell_type": "code",
   "execution_count": 17,
   "id": "a6ab068a",
   "metadata": {},
   "outputs": [],
   "source": [
    "lspace=np.linspace(1,6,10)\n",
    "# Will return an array between 1 and 6 with each element have \n",
    "# 10 bits of space between them including the decimal point\n",
    "# If zero is passed then it will return an empty array"
   ]
  },
  {
   "cell_type": "code",
   "execution_count": 18,
   "id": "7d712db0",
   "metadata": {},
   "outputs": [
    {
     "data": {
      "text/plain": [
       "array([1.        , 1.55555556, 2.11111111, 2.66666667, 3.22222222,\n",
       "       3.77777778, 4.33333333, 4.88888889, 5.44444444, 6.        ])"
      ]
     },
     "execution_count": 18,
     "metadata": {},
     "output_type": "execute_result"
    }
   ],
   "source": [
    "lspace"
   ]
  },
  {
   "cell_type": "code",
   "execution_count": 19,
   "id": "6c2f282e",
   "metadata": {},
   "outputs": [],
   "source": [
    "emp=np.empty((4,3))\n",
    "# Will return an array of 4,3 size with garbage value in it."
   ]
  },
  {
   "cell_type": "code",
   "execution_count": 20,
   "id": "69aab96d",
   "metadata": {},
   "outputs": [
    {
     "data": {
      "text/plain": [
       "array([[1.25575129e-311, 2.81617418e-322, 0.00000000e+000],\n",
       "       [0.00000000e+000, 1.11260619e-306, 8.75983079e+164],\n",
       "       [5.44909749e-090, 1.59955846e+160, 8.26774178e-072],\n",
       "       [1.39444004e-047, 6.48224659e+170, 4.93432906e+257]])"
      ]
     },
     "execution_count": 20,
     "metadata": {},
     "output_type": "execute_result"
    }
   ],
   "source": [
    "emp"
   ]
  },
  {
   "cell_type": "code",
   "execution_count": 21,
   "id": "400161a9",
   "metadata": {},
   "outputs": [],
   "source": [
    "emp_like=np.empty_like(lspace)\n",
    "# Will return an array of size equal to the one passed inside the function\n",
    "# This is used to save space space as unlike in c/c++ , python does not have pointers to allocate the memory"
   ]
  },
  {
   "cell_type": "code",
   "execution_count": 22,
   "id": "bbde1212",
   "metadata": {},
   "outputs": [
    {
     "data": {
      "text/plain": [
       "array([1.25575129e-311, 2.81617418e-322, 1.11260619e-306, 8.75983079e+164,\n",
       "       5.44909749e-090, 1.59955846e+160, 8.26774178e-072, 1.39444004e-047,\n",
       "       6.48224659e+170, 4.93432906e+257])"
      ]
     },
     "execution_count": 22,
     "metadata": {},
     "output_type": "execute_result"
    }
   ],
   "source": [
    "emp_like"
   ]
  },
  {
   "cell_type": "code",
   "execution_count": 23,
   "id": "bf2063ac",
   "metadata": {},
   "outputs": [],
   "source": [
    "ide=np.identity(4)\n",
    "# returns an identity array"
   ]
  },
  {
   "cell_type": "code",
   "execution_count": 24,
   "id": "c4a12609",
   "metadata": {},
   "outputs": [
    {
     "data": {
      "text/plain": [
       "array([[1., 0., 0., 0.],\n",
       "       [0., 1., 0., 0.],\n",
       "       [0., 0., 1., 0.],\n",
       "       [0., 0., 0., 1.]])"
      ]
     },
     "execution_count": 24,
     "metadata": {},
     "output_type": "execute_result"
    }
   ],
   "source": [
    "ide"
   ]
  },
  {
   "cell_type": "code",
   "execution_count": 25,
   "id": "35e35866",
   "metadata": {},
   "outputs": [],
   "source": [
    "arr=np.arange(9)"
   ]
  },
  {
   "cell_type": "code",
   "execution_count": 26,
   "id": "302802cb",
   "metadata": {},
   "outputs": [
    {
     "data": {
      "text/plain": [
       "array([0, 1, 2, 3, 4, 5, 6, 7, 8])"
      ]
     },
     "execution_count": 26,
     "metadata": {},
     "output_type": "execute_result"
    }
   ],
   "source": [
    "arr"
   ]
  },
  {
   "cell_type": "code",
   "execution_count": 27,
   "id": "86bd4172",
   "metadata": {},
   "outputs": [],
   "source": [
    "arr=arr.reshape((3,3))\n",
    "# returns a new reshaped array not affecting the original array\n",
    "# resphape will only work if the number of elements is completely divisible by the row passed"
   ]
  },
  {
   "cell_type": "code",
   "execution_count": 28,
   "id": "f061072d",
   "metadata": {},
   "outputs": [
    {
     "data": {
      "text/plain": [
       "array([[0, 1, 2],\n",
       "       [3, 4, 5],\n",
       "       [6, 7, 8]])"
      ]
     },
     "execution_count": 28,
     "metadata": {},
     "output_type": "execute_result"
    }
   ],
   "source": [
    "arr"
   ]
  },
  {
   "cell_type": "code",
   "execution_count": 29,
   "id": "ff490491",
   "metadata": {},
   "outputs": [
    {
     "data": {
      "text/plain": [
       "array([0, 1, 2, 3, 4, 5, 6, 7, 8])"
      ]
     },
     "execution_count": 29,
     "metadata": {},
     "output_type": "execute_result"
    }
   ],
   "source": [
    "arr.ravel()\n",
    "# Used to return the linear size of the array"
   ]
  },
  {
   "cell_type": "code",
   "execution_count": 30,
   "id": "225153bb",
   "metadata": {},
   "outputs": [
    {
     "data": {
      "text/plain": [
       "(3, 3)"
      ]
     },
     "execution_count": 30,
     "metadata": {},
     "output_type": "execute_result"
    }
   ],
   "source": [
    "arr.shape # proof that .reshape does not affect the actual size of the array"
   ]
  },
  {
   "cell_type": "code",
   "execution_count": 31,
   "id": "e64279c4",
   "metadata": {},
   "outputs": [],
   "source": [
    "l1=[[2,3,1],\n",
    "   [4,6,4],\n",
    "   [7,8,9]]"
   ]
  },
  {
   "cell_type": "code",
   "execution_count": 32,
   "id": "12955952",
   "metadata": {},
   "outputs": [],
   "source": [
    "ar=np.array(l1)"
   ]
  },
  {
   "cell_type": "code",
   "execution_count": 33,
   "id": "d5779b52",
   "metadata": {},
   "outputs": [
    {
     "data": {
      "text/plain": [
       "array([[2, 3, 1],\n",
       "       [4, 6, 4],\n",
       "       [7, 8, 9]])"
      ]
     },
     "execution_count": 33,
     "metadata": {},
     "output_type": "execute_result"
    }
   ],
   "source": [
    "ar"
   ]
  },
  {
   "cell_type": "code",
   "execution_count": 34,
   "id": "a548c198",
   "metadata": {},
   "outputs": [],
   "source": [
    "# Axes are the direction along the rows and colomns\n",
    "# axis 0 is from the top to bottom\n",
    "# axis 1 is from left to right"
   ]
  },
  {
   "cell_type": "code",
   "execution_count": 35,
   "id": "b33e5753",
   "metadata": {},
   "outputs": [
    {
     "data": {
      "text/plain": [
       "array([13, 17, 14])"
      ]
     },
     "execution_count": 35,
     "metadata": {},
     "output_type": "execute_result"
    }
   ],
   "source": [
    "ar.sum(axis=0) # This will return the sum of each colomn in the form of another array"
   ]
  },
  {
   "cell_type": "code",
   "execution_count": 36,
   "id": "9586c820",
   "metadata": {},
   "outputs": [
    {
     "data": {
      "text/plain": [
       "array([ 6, 14, 24])"
      ]
     },
     "execution_count": 36,
     "metadata": {},
     "output_type": "execute_result"
    }
   ],
   "source": [
    "ar.sum(axis=1) # This will return the sum of each row in the form of another array|"
   ]
  },
  {
   "cell_type": "code",
   "execution_count": 37,
   "id": "2446d007",
   "metadata": {},
   "outputs": [
    {
     "data": {
      "text/plain": [
       "array([[2, 4, 7],\n",
       "       [3, 6, 8],\n",
       "       [1, 4, 9]])"
      ]
     },
     "execution_count": 37,
     "metadata": {},
     "output_type": "execute_result"
    }
   ],
   "source": [
    "ar.T # returns a transposed array"
   ]
  },
  {
   "cell_type": "code",
   "execution_count": 38,
   "id": "16c5dc33",
   "metadata": {},
   "outputs": [
    {
     "data": {
      "text/plain": [
       "array([[2, 3, 1],\n",
       "       [4, 6, 4],\n",
       "       [7, 8, 9]])"
      ]
     },
     "execution_count": 38,
     "metadata": {},
     "output_type": "execute_result"
    }
   ],
   "source": [
    "ar"
   ]
  },
  {
   "cell_type": "code",
   "execution_count": 39,
   "id": "6238cdc3",
   "metadata": {},
   "outputs": [
    {
     "data": {
      "text/plain": [
       "<numpy.flatiter at 0x24fce57c190>"
      ]
     },
     "execution_count": 39,
     "metadata": {},
     "output_type": "execute_result"
    }
   ],
   "source": [
    "ar.flat # returns a 1D iterable item"
   ]
  },
  {
   "cell_type": "code",
   "execution_count": 40,
   "id": "85033439",
   "metadata": {},
   "outputs": [
    {
     "name": "stdout",
     "output_type": "stream",
     "text": [
      "2\n",
      "3\n",
      "1\n",
      "4\n",
      "6\n",
      "4\n",
      "7\n",
      "8\n",
      "9\n"
     ]
    }
   ],
   "source": [
    "for i in ar.flat:\n",
    "    print(i)"
   ]
  },
  {
   "cell_type": "code",
   "execution_count": 41,
   "id": "4e74b369",
   "metadata": {},
   "outputs": [
    {
     "data": {
      "text/plain": [
       "2"
      ]
     },
     "execution_count": 41,
     "metadata": {},
     "output_type": "execute_result"
    }
   ],
   "source": [
    "ar.ndim"
   ]
  },
  {
   "cell_type": "code",
   "execution_count": 42,
   "id": "593f7f48",
   "metadata": {},
   "outputs": [
    {
     "data": {
      "text/plain": [
       "2"
      ]
     },
     "execution_count": 42,
     "metadata": {},
     "output_type": "execute_result"
    }
   ],
   "source": [
    "arr.ndim"
   ]
  },
  {
   "cell_type": "code",
   "execution_count": 43,
   "id": "f70d0dd2",
   "metadata": {},
   "outputs": [],
   "source": [
    "l1=[5,9,2,6,8,4,1,7,3]\n",
    "newar=np.array(l1)"
   ]
  },
  {
   "cell_type": "code",
   "execution_count": 44,
   "id": "ba07c7f5",
   "metadata": {},
   "outputs": [
    {
     "data": {
      "text/plain": [
       "1"
      ]
     },
     "execution_count": 44,
     "metadata": {},
     "output_type": "execute_result"
    }
   ],
   "source": [
    "newar.ndim"
   ]
  },
  {
   "cell_type": "code",
   "execution_count": 45,
   "id": "7bd1af47",
   "metadata": {},
   "outputs": [],
   "source": [
    "# Returns the number of dimensions of the structure"
   ]
  },
  {
   "cell_type": "code",
   "execution_count": 46,
   "id": "011a4d64",
   "metadata": {},
   "outputs": [
    {
     "data": {
      "text/plain": [
       "36"
      ]
     },
     "execution_count": 46,
     "metadata": {},
     "output_type": "execute_result"
    }
   ],
   "source": [
    "newar.nbytes # returns the number of byter occupied by the array"
   ]
  },
  {
   "cell_type": "code",
   "execution_count": 47,
   "id": "707215fb",
   "metadata": {},
   "outputs": [
    {
     "data": {
      "text/plain": [
       "1"
      ]
     },
     "execution_count": 47,
     "metadata": {},
     "output_type": "execute_result"
    }
   ],
   "source": [
    "newar.argmax()"
   ]
  },
  {
   "cell_type": "code",
   "execution_count": 48,
   "id": "5414397a",
   "metadata": {},
   "outputs": [
    {
     "data": {
      "text/plain": [
       "6"
      ]
     },
     "execution_count": 48,
     "metadata": {},
     "output_type": "execute_result"
    }
   ],
   "source": [
    "newar.argmin() "
   ]
  },
  {
   "cell_type": "code",
   "execution_count": 49,
   "id": "14e2f9ed",
   "metadata": {},
   "outputs": [
    {
     "data": {
      "text/plain": [
       "array([6, 2, 8, 5, 0, 3, 7, 4, 1], dtype=int64)"
      ]
     },
     "execution_count": 49,
     "metadata": {},
     "output_type": "execute_result"
    }
   ],
   "source": [
    "newar.argsort()"
   ]
  },
  {
   "cell_type": "code",
   "execution_count": 50,
   "id": "d72a5525",
   "metadata": {},
   "outputs": [],
   "source": [
    "# argmethods returns the indices of the all mentioned functions\n",
    "# ex : argsort returns the indices of the numbers in its sorted positions"
   ]
  },
  {
   "cell_type": "code",
   "execution_count": 51,
   "id": "b9742e63",
   "metadata": {},
   "outputs": [
    {
     "data": {
      "text/plain": [
       "array([2, 2, 2], dtype=int64)"
      ]
     },
     "execution_count": 51,
     "metadata": {},
     "output_type": "execute_result"
    }
   ],
   "source": [
    "ar.argmax(axis=0) # returns the position of the max element in each colomn (axis=0)"
   ]
  },
  {
   "cell_type": "code",
   "execution_count": 52,
   "id": "fb7ee670",
   "metadata": {},
   "outputs": [
    {
     "data": {
      "text/plain": [
       "array([1, 1, 2], dtype=int64)"
      ]
     },
     "execution_count": 52,
     "metadata": {},
     "output_type": "execute_result"
    }
   ],
   "source": [
    "ar.argmax(axis=1) # returns the position of the min element in each row (axis=1)"
   ]
  },
  {
   "cell_type": "code",
   "execution_count": 53,
   "id": "498c1a64",
   "metadata": {},
   "outputs": [
    {
     "data": {
      "text/plain": [
       "array([[2, 0, 1],\n",
       "       [0, 2, 1],\n",
       "       [0, 1, 2]], dtype=int64)"
      ]
     },
     "execution_count": 53,
     "metadata": {},
     "output_type": "execute_result"
    }
   ],
   "source": [
    "ar.argsort(axis=1) # returns the position of each element if it were in the sorted position in each row"
   ]
  },
  {
   "cell_type": "code",
   "execution_count": 54,
   "id": "a3e3ae20",
   "metadata": {},
   "outputs": [
    {
     "data": {
      "text/plain": [
       "array([[0, 0, 0],\n",
       "       [1, 1, 1],\n",
       "       [2, 2, 2]], dtype=int64)"
      ]
     },
     "execution_count": 54,
     "metadata": {},
     "output_type": "execute_result"
    }
   ],
   "source": [
    "ar.argsort(axis=0) # returns the position of each element if it were in the sorted position in each colomn"
   ]
  },
  {
   "cell_type": "code",
   "execution_count": 55,
   "id": "c24e95c6",
   "metadata": {},
   "outputs": [
    {
     "data": {
      "text/plain": [
       "array([[2, 3, 1],\n",
       "       [4, 6, 4],\n",
       "       [7, 8, 9]])"
      ]
     },
     "execution_count": 55,
     "metadata": {},
     "output_type": "execute_result"
    }
   ],
   "source": [
    "ar"
   ]
  },
  {
   "cell_type": "code",
   "execution_count": 56,
   "id": "7383a1b9",
   "metadata": {},
   "outputs": [],
   "source": [
    "ar2=np.array([[12, 3, 5],\n",
    "       [2, 1, 4],\n",
    "       [3, 8, 5]])"
   ]
  },
  {
   "cell_type": "code",
   "execution_count": 57,
   "id": "59bd9813",
   "metadata": {},
   "outputs": [
    {
     "data": {
      "text/plain": [
       "array([[12,  3,  5],\n",
       "       [ 2,  1,  4],\n",
       "       [ 3,  8,  5]])"
      ]
     },
     "execution_count": 57,
     "metadata": {},
     "output_type": "execute_result"
    }
   ],
   "source": [
    "ar\n",
    "ar2"
   ]
  },
  {
   "cell_type": "code",
   "execution_count": 58,
   "id": "941e8eb2",
   "metadata": {},
   "outputs": [
    {
     "data": {
      "text/plain": [
       "array([[14,  6,  6],\n",
       "       [ 6,  7,  8],\n",
       "       [10, 16, 14]])"
      ]
     },
     "execution_count": 58,
     "metadata": {},
     "output_type": "execute_result"
    }
   ],
   "source": [
    "ar+ar2"
   ]
  },
  {
   "cell_type": "code",
   "execution_count": 59,
   "id": "d98818d2",
   "metadata": {},
   "outputs": [
    {
     "data": {
      "text/plain": [
       "array([[24,  9,  5],\n",
       "       [ 8,  6, 16],\n",
       "       [21, 64, 45]])"
      ]
     },
     "execution_count": 59,
     "metadata": {},
     "output_type": "execute_result"
    }
   ],
   "source": [
    "ar*ar2 # multiplies each element of ar with its corresponding position in ar2"
   ]
  },
  {
   "cell_type": "code",
   "execution_count": 60,
   "id": "cf8f9d0b",
   "metadata": {},
   "outputs": [
    {
     "name": "stdout",
     "output_type": "stream",
     "text": [
      "12\n",
      "1\n"
     ]
    }
   ],
   "source": [
    "# returns the values instead of the indices\n",
    "print(ar2.max())\n",
    "print(ar2.min())"
   ]
  },
  {
   "cell_type": "code",
   "execution_count": 61,
   "id": "9620dccf",
   "metadata": {},
   "outputs": [
    {
     "data": {
      "text/plain": [
       "array([[12,  3,  5],\n",
       "       [ 2,  1,  4],\n",
       "       [ 3,  8,  5]])"
      ]
     },
     "execution_count": 61,
     "metadata": {},
     "output_type": "execute_result"
    }
   ],
   "source": [
    "ar2"
   ]
  },
  {
   "cell_type": "code",
   "execution_count": 62,
   "id": "f6d77527",
   "metadata": {},
   "outputs": [
    {
     "data": {
      "text/plain": [
       "(array([0, 0, 2, 2], dtype=int64), array([0, 2, 1, 2], dtype=int64))"
      ]
     },
     "execution_count": 62,
     "metadata": {},
     "output_type": "execute_result"
    }
   ],
   "source": [
    "np.where(ar2>=5) # returns a tuple of x and y(the indices of each position)"
   ]
  },
  {
   "cell_type": "code",
   "execution_count": 63,
   "id": "ccd01454",
   "metadata": {},
   "outputs": [
    {
     "data": {
      "text/plain": [
       "9"
      ]
     },
     "execution_count": 63,
     "metadata": {},
     "output_type": "execute_result"
    }
   ],
   "source": [
    "np.count_nonzero(ar2)"
   ]
  },
  {
   "cell_type": "code",
   "execution_count": 64,
   "id": "4eac5097",
   "metadata": {},
   "outputs": [
    {
     "data": {
      "text/plain": [
       "(array([0, 0, 0, 1, 1, 1, 2, 2, 2], dtype=int64),\n",
       " array([0, 1, 2, 0, 1, 2, 0, 1, 2], dtype=int64))"
      ]
     },
     "execution_count": 64,
     "metadata": {},
     "output_type": "execute_result"
    }
   ],
   "source": [
    "np.nonzero(ar)"
   ]
  },
  {
   "cell_type": "code",
   "execution_count": 65,
   "id": "abb4a9b2",
   "metadata": {},
   "outputs": [],
   "source": [
    "import sys"
   ]
  },
  {
   "cell_type": "code",
   "execution_count": 66,
   "id": "5b12efd7",
   "metadata": {},
   "outputs": [],
   "source": [
    "py_ar=[1,2,3]\n",
    "np_ar=np.array(py_ar)"
   ]
  },
  {
   "cell_type": "code",
   "execution_count": 67,
   "id": "c2eec918",
   "metadata": {},
   "outputs": [
    {
     "data": {
      "text/plain": [
       "84"
      ]
     },
     "execution_count": 67,
     "metadata": {},
     "output_type": "execute_result"
    }
   ],
   "source": [
    "sys.getsizeof(1) * len(py_ar) # size of normal py_ar list"
   ]
  },
  {
   "cell_type": "code",
   "execution_count": 68,
   "id": "796f5763",
   "metadata": {},
   "outputs": [
    {
     "data": {
      "text/plain": [
       "12"
      ]
     },
     "execution_count": 68,
     "metadata": {},
     "output_type": "execute_result"
    }
   ],
   "source": [
    "np_ar.itemsize * np_ar.size # size of array using numpy"
   ]
  },
  {
   "cell_type": "code",
   "execution_count": 69,
   "id": "d7b3d15b",
   "metadata": {},
   "outputs": [],
   "source": [
    "# The difference is substantial over here with a whopping 72 bytes difference"
   ]
  }
 ],
 "metadata": {
  "kernelspec": {
   "display_name": "Python 3 (ipykernel)",
   "language": "python",
   "name": "python3"
  },
  "language_info": {
   "codemirror_mode": {
    "name": "ipython",
    "version": 3
   },
   "file_extension": ".py",
   "mimetype": "text/x-python",
   "name": "python",
   "nbconvert_exporter": "python",
   "pygments_lexer": "ipython3",
   "version": "3.10.5"
  }
 },
 "nbformat": 4,
 "nbformat_minor": 5
}
