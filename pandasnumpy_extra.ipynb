{
 "cells": [
  {
   "cell_type": "code",
   "execution_count": 1,
   "id": "d4010c98",
   "metadata": {},
   "outputs": [],
   "source": [
    "import pandas as pd\n",
    "df=pd.DataFrame({'Name':['A','B','C','D','E','F','G'],\n",
    "                'Salary':[50000,54000,55000,49000,60000,48000,50000]})"
   ]
  },
  {
   "cell_type": "code",
   "execution_count": 2,
   "id": "f7853276",
   "metadata": {},
   "outputs": [
    {
     "data": {
      "text/html": [
       "<div>\n",
       "<style scoped>\n",
       "    .dataframe tbody tr th:only-of-type {\n",
       "        vertical-align: middle;\n",
       "    }\n",
       "\n",
       "    .dataframe tbody tr th {\n",
       "        vertical-align: top;\n",
       "    }\n",
       "\n",
       "    .dataframe thead th {\n",
       "        text-align: right;\n",
       "    }\n",
       "</style>\n",
       "<table border=\"1\" class=\"dataframe\">\n",
       "  <thead>\n",
       "    <tr style=\"text-align: right;\">\n",
       "      <th></th>\n",
       "      <th>Name</th>\n",
       "      <th>Salary</th>\n",
       "    </tr>\n",
       "  </thead>\n",
       "  <tbody>\n",
       "    <tr>\n",
       "      <th>0</th>\n",
       "      <td>A</td>\n",
       "      <td>50000</td>\n",
       "    </tr>\n",
       "    <tr>\n",
       "      <th>1</th>\n",
       "      <td>B</td>\n",
       "      <td>54000</td>\n",
       "    </tr>\n",
       "    <tr>\n",
       "      <th>2</th>\n",
       "      <td>C</td>\n",
       "      <td>55000</td>\n",
       "    </tr>\n",
       "    <tr>\n",
       "      <th>3</th>\n",
       "      <td>D</td>\n",
       "      <td>49000</td>\n",
       "    </tr>\n",
       "    <tr>\n",
       "      <th>4</th>\n",
       "      <td>E</td>\n",
       "      <td>60000</td>\n",
       "    </tr>\n",
       "  </tbody>\n",
       "</table>\n",
       "</div>"
      ],
      "text/plain": [
       "  Name  Salary\n",
       "0    A   50000\n",
       "1    B   54000\n",
       "2    C   55000\n",
       "3    D   49000\n",
       "4    E   60000"
      ]
     },
     "execution_count": 2,
     "metadata": {},
     "output_type": "execute_result"
    }
   ],
   "source": [
    "df.head()"
   ]
  },
  {
   "cell_type": "code",
   "execution_count": 3,
   "id": "c3eb98e7",
   "metadata": {},
   "outputs": [
    {
     "name": "stdout",
     "output_type": "stream",
     "text": [
      "Mean =  52285.71428571428 \n",
      "Median =  50000.0 \n",
      "Mode =  0    50000\n",
      "Name: Salary, dtype: int64\n"
     ]
    }
   ],
   "source": [
    "print('Mean = ',df['Salary'].mean(),'\\nMedian = ',df['Salary'].median(),'\\nMode = ',df['Salary'].mode())"
   ]
  },
  {
   "cell_type": "code",
   "execution_count": 5,
   "id": "acf52a79",
   "metadata": {},
   "outputs": [
    {
     "name": "stdout",
     "output_type": "stream",
     "text": [
      "\n",
      "MIN =  48000 \n",
      "MAX =  60000\n"
     ]
    }
   ],
   "source": [
    "print('\\nMIN = ',df['Salary'].min(),'\\nMAX = ',df['Salary'].max())"
   ]
  },
  {
   "cell_type": "code",
   "execution_count": 7,
   "id": "818a591a",
   "metadata": {},
   "outputs": [
    {
     "name": "stdout",
     "output_type": "stream",
     "text": [
      "count        7.000000\n",
      "mean     52285.714286\n",
      "std       4270.608298\n",
      "min      48000.000000\n",
      "25%      49500.000000\n",
      "50%      50000.000000\n",
      "75%      54500.000000\n",
      "max      60000.000000\n",
      "Name: Salary, dtype: float64\n"
     ]
    }
   ],
   "source": [
    "print(df['Salary'].describe())"
   ]
  },
  {
   "cell_type": "code",
   "execution_count": 8,
   "id": "c01d08b7",
   "metadata": {},
   "outputs": [
    {
     "name": "stdout",
     "output_type": "stream",
     "text": [
      "4270.608298368657\n"
     ]
    }
   ],
   "source": [
    "print(df['Salary'].describe()['std'])# We can also take the individual desciption of the data using indexes"
   ]
  },
  {
   "cell_type": "code",
   "execution_count": 11,
   "id": "d4fb921d",
   "metadata": {},
   "outputs": [
    {
     "name": "stdout",
     "output_type": "stream",
     "text": [
      "0    50000\n",
      "1    54000\n",
      "2    55000\n",
      "3    49000\n",
      "4    60000\n",
      "5    48000\n",
      "6    50000\n",
      "Name: Salary, dtype: int64\n"
     ]
    },
    {
     "data": {
      "image/png": "[encoded data removed]",
      "text/plain": [
       "<Figure size 640x480 with 1 Axes>"
      ]
     },
     "metadata": {},
     "output_type": "display_data"
    }
   ],
   "source": [
    "%matplotlib inline\n",
    "import matplotlib.pyplot as plt\n",
    "\n",
    "print(df['Salary'])\n",
    "sal=df['Salary']\n",
    "sal.plot.hist(title = 'salary distribution',color = 'red',bins=25)\n",
    "plt.axvline(sal.mean(),color = 'green',linestyle = 'dashed',linewidth=2)\n",
    "plt.axvline(sal.median(),color = 'black',linestyle = 'dotted',linewidth=2)\n",
    "plt.show()"
   ]
  },
  {
   "cell_type": "code",
   "execution_count": null,
   "id": "a67c3d8d",
   "metadata": {},
   "outputs": [],
   "source": []
  }
 ],
 "metadata": {
  "kernelspec": {
   "display_name": "Python 3 (ipykernel)",
   "language": "python",
   "name": "python3"
  },
  "language_info": {
   "codemirror_mode": {
    "name": "ipython",
    "version": 3
   },
   "file_extension": ".py",
   "mimetype": "text/x-python",
   "name": "python",
   "nbconvert_exporter": "python",
   "pygments_lexer": "ipython3",
   "version": "3.10.5"
  }
 },
 "nbformat": 4,
 "nbformat_minor": 5
}
