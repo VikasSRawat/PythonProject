{
 "cells": [
  {
   "cell_type": "code",
   "execution_count": 1,
   "id": "6afbbe61",
   "metadata": {},
   "outputs": [],
   "source": [
    "import numpy as np"
   ]
  },
  {
   "cell_type": "code",
   "execution_count": 2,
   "id": "5b2f9e31",
   "metadata": {},
   "outputs": [],
   "source": [
    "a=np.array([[20,39]])\n",
    "b=np.array([[45,99]])"
   ]
  },
  {
   "cell_type": "code",
   "execution_count": 3,
   "id": "2f02e1a1",
   "metadata": {},
   "outputs": [
    {
     "data": {
      "text/plain": [
       "array([[ 65],\n",
       "       [138]])"
      ]
     },
     "execution_count": 3,
     "metadata": {},
     "output_type": "execute_result"
    }
   ],
   "source": [
    "a.T+b.T"
   ]
  },
  {
   "cell_type": "code",
   "execution_count": 4,
   "id": "d1d7b107",
   "metadata": {},
   "outputs": [
    {
     "data": {
      "text/plain": [
       "array([[ 65],\n",
       "       [138]])"
      ]
     },
     "execution_count": 4,
     "metadata": {},
     "output_type": "execute_result"
    }
   ],
   "source": [
    "(a+b).T # Transposing a matrix"
   ]
  },
  {
   "cell_type": "code",
   "execution_count": 5,
   "id": "b4c948f3",
   "metadata": {},
   "outputs": [
    {
     "data": {
      "text/plain": [
       "array([[ 900, 3861]])"
      ]
     },
     "execution_count": 5,
     "metadata": {},
     "output_type": "execute_result"
    }
   ],
   "source": [
    "a*b# Matrix multiplication"
   ]
  },
  {
   "cell_type": "code",
   "execution_count": 6,
   "id": "16e0ba9b",
   "metadata": {},
   "outputs": [
    {
     "data": {
      "text/plain": [
       "array([[40, 78]])"
      ]
     },
     "execution_count": 6,
     "metadata": {},
     "output_type": "execute_result"
    }
   ],
   "source": [
    "2*a# scalar multiplication"
   ]
  },
  {
   "cell_type": "code",
   "execution_count": 7,
   "id": "ab1fb737",
   "metadata": {},
   "outputs": [
    {
     "data": {
      "text/plain": [
       "140"
      ]
     },
     "execution_count": 7,
     "metadata": {},
     "output_type": "execute_result"
    }
   ],
   "source": [
    "u=np.array([10,20])\n",
    "v=np.array([4,5])\n",
    "np.dot(u,v)# Dot product = 10*4 + 20*5"
   ]
  },
  {
   "cell_type": "code",
   "execution_count": 8,
   "id": "0083c25d",
   "metadata": {},
   "outputs": [
    {
     "data": {
      "text/plain": [
       "array([250, 375, 125])"
      ]
     },
     "execution_count": 8,
     "metadata": {},
     "output_type": "execute_result"
    }
   ],
   "source": [
    "# matrix and vector multiplication\n",
    "a=[[10,20],[15,30],[5,10]]\n",
    "b=[5,10]\n",
    "np.dot(a,b)"
   ]
  },
  {
   "cell_type": "code",
   "execution_count": 9,
   "id": "f2c07ec7",
   "metadata": {},
   "outputs": [
    {
     "data": {
      "text/plain": [
       "array([[510,  80],\n",
       "       [765, 120],\n",
       "       [255,  40]])"
      ]
     },
     "execution_count": 9,
     "metadata": {},
     "output_type": "execute_result"
    }
   ],
   "source": [
    "a=[[10,20],[15,30],[5,10]]\n",
    "b=[[11,6],[20,1]]\n",
    "np.dot(a,b)"
   ]
  },
  {
   "cell_type": "code",
   "execution_count": 10,
   "id": "1f672bae",
   "metadata": {},
   "outputs": [
    {
     "name": "stdout",
     "output_type": "stream",
     "text": [
      "[[1. 0. 0.]\n",
      " [0. 1. 0.]\n",
      " [0. 0. 1.]] = I1\n",
      "\n",
      "[[1. 0. 0. 0. 0.]\n",
      " [0. 1. 0. 0. 0.]\n",
      " [0. 0. 1. 0. 0.]\n",
      " [0. 0. 0. 1. 0.]\n",
      " [0. 0. 0. 0. 1.]] = I2\n",
      "\n"
     ]
    }
   ],
   "source": [
    "# PRINTING IDENTITY MATRICES OF SIZE N\n",
    "I1=np.eye(3)\n",
    "I2=np.eye(5)\n",
    "print(I1,end=\" = I1\\n\\n\")\n",
    "print(I2,end=\" = I2\\n\\n\")"
   ]
  },
  {
   "cell_type": "code",
   "execution_count": 11,
   "id": "89b28f07",
   "metadata": {},
   "outputs": [
    {
     "name": "stdout",
     "output_type": "stream",
     "text": [
      "[[2 1 0]\n",
      " [0 1 0]\n",
      " [1 2 1]] = a\n",
      "\n",
      " [[ 0.5 -0.5  0. ]\n",
      " [ 0.   1.   0. ]\n",
      " [-0.5 -1.5  1. ]] = |a|\n",
      "\n"
     ]
    }
   ],
   "source": [
    "# Inversing a matrix\n",
    "# Note : all matrices don't have a inverse matrix hence the function will give an error for these type of matrices\n",
    "a=np.array([\n",
    "    [2,1,0],\n",
    "    [0,1,0],\n",
    "    [1,2,1],\n",
    "])\n",
    "b=np.linalg.inv(a)\n",
    "print(a,end=' = a\\n\\n ')\n",
    "print(b,end=' = |a|\\n\\n')"
   ]
  },
  {
   "cell_type": "code",
   "execution_count": 12,
   "id": "91fc2053",
   "metadata": {},
   "outputs": [
    {
     "name": "stdout",
     "output_type": "stream",
     "text": [
      "[[ 1.  -0.5  0. ]\n",
      " [ 0.   1.   0. ]\n",
      " [-0.5 -3.   1. ]]\n"
     ]
    }
   ],
   "source": [
    "print(a*b)"
   ]
  },
  {
   "cell_type": "code",
   "execution_count": null,
   "id": "2cf2385d",
   "metadata": {},
   "outputs": [],
   "source": []
  }
 ],
 "metadata": {
  "kernelspec": {
   "display_name": "Python 3 (ipykernel)",
   "language": "python",
   "name": "python3"
  },
  "language_info": {
   "codemirror_mode": {
    "name": "ipython",
    "version": 3
   },
   "file_extension": ".py",
   "mimetype": "text/x-python",
   "name": "python",
   "nbconvert_exporter": "python",
   "pygments_lexer": "ipython3",
   "version": "3.10.5"
  }
 },
 "nbformat": 4,
 "nbformat_minor": 5
}
